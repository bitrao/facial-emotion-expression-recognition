{
 "cells": [
  {
   "cell_type": "code",
   "execution_count": 1,
   "id": "4a2d0a75-ff9c-4239-8e84-2562d7b76e38",
   "metadata": {},
   "outputs": [],
   "source": [
    "import pandas as pd"
   ]
  },
  {
   "cell_type": "code",
   "execution_count": null,
   "id": "67e94abf-29f1-4ea8-b742-1799b229ecde",
   "metadata": {},
   "outputs": [],
   "source": [
    "labels_df = "
   ]
  }
 ],
 "metadata": {
  "kernelspec": {
   "display_name": "Python (fer_env)",
   "language": "python",
   "name": "fer_env"
  },
  "language_info": {
   "codemirror_mode": {
    "name": "ipython",
    "version": 3
   },
   "file_extension": ".py",
   "mimetype": "text/x-python",
   "name": "python",
   "nbconvert_exporter": "python",
   "pygments_lexer": "ipython3",
   "version": "3.9.19"
  }
 },
 "nbformat": 4,
 "nbformat_minor": 5
}
