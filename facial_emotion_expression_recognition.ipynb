{
 "cells": [
  {
   "cell_type": "code",
   "execution_count": 1,
   "id": "4a2d0a75-ff9c-4239-8e84-2562d7b76e38",
   "metadata": {},
   "outputs": [],
   "source": [
    "import pandas as pd\n",
    "import matplotlib.pyplot as plt\n",
    "import seaborn as sns\n",
    "import importlib\n",
    "\n",
    "from sklearn.model_selection import train_test_split\n",
    "\n",
    "import utils.data as data"
   ]
  },
  {
   "cell_type": "code",
   "execution_count": 2,
   "id": "67e94abf-29f1-4ea8-b742-1799b229ecde",
   "metadata": {},
   "outputs": [
    {
     "name": "stdout",
     "output_type": "stream",
     "text": [
      "GPU support availble: True\n"
     ]
    }
   ],
   "source": [
    "import torch\n",
    "import torchvision.transforms as transforms\n",
    "\n",
    "print(\"GPU support availble:\", torch.cuda.is_available())"
   ]
  },
  {
   "cell_type": "markdown",
   "id": "bff08fd4-d524-4d01-aa9a-6913834c9756",
   "metadata": {},
   "source": [
    "## I. Import dataset and general overview\n",
    "The labels dataset `data_labels.csv` includes the **image path**, 15 one-hot-encoded **FACs** and **emotions** in three categories: `negative`, `positive` and `surprise`."
   ]
  },
  {
   "cell_type": "code",
   "execution_count": 3,
   "id": "ee03c2f0-abf3-4bf6-943a-adc0893d778f",
   "metadata": {},
   "outputs": [],
   "source": [
    "gk_df = pd.read_csv('data/data_labels.csv')"
   ]
  },
  {
   "cell_type": "code",
   "execution_count": 4,
   "id": "49ac29f7-4ebe-4f45-8931-de99ee51ab84",
   "metadata": {},
   "outputs": [
    {
     "data": {
      "text/html": [
       "<div>\n",
       "<style scoped>\n",
       "    .dataframe tbody tr th:only-of-type {\n",
       "        vertical-align: middle;\n",
       "    }\n",
       "\n",
       "    .dataframe tbody tr th {\n",
       "        vertical-align: top;\n",
       "    }\n",
       "\n",
       "    .dataframe thead th {\n",
       "        text-align: right;\n",
       "    }\n",
       "</style>\n",
       "<table border=\"1\" class=\"dataframe\">\n",
       "  <thead>\n",
       "    <tr style=\"text-align: right;\">\n",
       "      <th></th>\n",
       "      <th>subject</th>\n",
       "      <th>sequence</th>\n",
       "      <th>image_index</th>\n",
       "      <th>filepath</th>\n",
       "      <th>file_prefix</th>\n",
       "      <th>AU17</th>\n",
       "      <th>AU1</th>\n",
       "      <th>AU2</th>\n",
       "      <th>AU25</th>\n",
       "      <th>AU27</th>\n",
       "      <th>...</th>\n",
       "      <th>AU7</th>\n",
       "      <th>AU23</th>\n",
       "      <th>AU24</th>\n",
       "      <th>AU6</th>\n",
       "      <th>AU12</th>\n",
       "      <th>AU15</th>\n",
       "      <th>AU14</th>\n",
       "      <th>AU11</th>\n",
       "      <th>AU26</th>\n",
       "      <th>high_level_emotion</th>\n",
       "    </tr>\n",
       "  </thead>\n",
       "  <tbody>\n",
       "    <tr>\n",
       "      <th>0</th>\n",
       "      <td>S005</td>\n",
       "      <td>1</td>\n",
       "      <td>11</td>\n",
       "      <td>./cohn-kanade-images/S005/001/S005_001_0000001...</td>\n",
       "      <td>S005_001_00000011</td>\n",
       "      <td>1</td>\n",
       "      <td>0</td>\n",
       "      <td>0</td>\n",
       "      <td>0</td>\n",
       "      <td>0</td>\n",
       "      <td>...</td>\n",
       "      <td>0</td>\n",
       "      <td>0</td>\n",
       "      <td>0</td>\n",
       "      <td>0</td>\n",
       "      <td>0</td>\n",
       "      <td>0</td>\n",
       "      <td>0</td>\n",
       "      <td>0</td>\n",
       "      <td>0</td>\n",
       "      <td>negative</td>\n",
       "    </tr>\n",
       "    <tr>\n",
       "      <th>1</th>\n",
       "      <td>S010</td>\n",
       "      <td>1</td>\n",
       "      <td>14</td>\n",
       "      <td>./cohn-kanade-images/S010/001/S010_001_0000001...</td>\n",
       "      <td>S010_001_00000014</td>\n",
       "      <td>0</td>\n",
       "      <td>1</td>\n",
       "      <td>1</td>\n",
       "      <td>1</td>\n",
       "      <td>0</td>\n",
       "      <td>...</td>\n",
       "      <td>0</td>\n",
       "      <td>0</td>\n",
       "      <td>0</td>\n",
       "      <td>0</td>\n",
       "      <td>0</td>\n",
       "      <td>0</td>\n",
       "      <td>0</td>\n",
       "      <td>0</td>\n",
       "      <td>0</td>\n",
       "      <td>negative</td>\n",
       "    </tr>\n",
       "    <tr>\n",
       "      <th>2</th>\n",
       "      <td>S010</td>\n",
       "      <td>2</td>\n",
       "      <td>14</td>\n",
       "      <td>./cohn-kanade-images/S010/002/S010_002_0000001...</td>\n",
       "      <td>S010_002_00000014</td>\n",
       "      <td>0</td>\n",
       "      <td>1</td>\n",
       "      <td>1</td>\n",
       "      <td>1</td>\n",
       "      <td>1</td>\n",
       "      <td>...</td>\n",
       "      <td>0</td>\n",
       "      <td>0</td>\n",
       "      <td>0</td>\n",
       "      <td>0</td>\n",
       "      <td>0</td>\n",
       "      <td>0</td>\n",
       "      <td>0</td>\n",
       "      <td>0</td>\n",
       "      <td>0</td>\n",
       "      <td>surprise</td>\n",
       "    </tr>\n",
       "    <tr>\n",
       "      <th>3</th>\n",
       "      <td>S010</td>\n",
       "      <td>3</td>\n",
       "      <td>18</td>\n",
       "      <td>./cohn-kanade-images/S010/003/S010_003_0000001...</td>\n",
       "      <td>S010_003_00000018</td>\n",
       "      <td>1</td>\n",
       "      <td>0</td>\n",
       "      <td>0</td>\n",
       "      <td>0</td>\n",
       "      <td>0</td>\n",
       "      <td>...</td>\n",
       "      <td>0</td>\n",
       "      <td>0</td>\n",
       "      <td>0</td>\n",
       "      <td>0</td>\n",
       "      <td>0</td>\n",
       "      <td>0</td>\n",
       "      <td>0</td>\n",
       "      <td>0</td>\n",
       "      <td>0</td>\n",
       "      <td>negative</td>\n",
       "    </tr>\n",
       "    <tr>\n",
       "      <th>4</th>\n",
       "      <td>S010</td>\n",
       "      <td>4</td>\n",
       "      <td>19</td>\n",
       "      <td>./cohn-kanade-images/S010/004/S010_004_0000001...</td>\n",
       "      <td>S010_004_00000019</td>\n",
       "      <td>1</td>\n",
       "      <td>0</td>\n",
       "      <td>0</td>\n",
       "      <td>0</td>\n",
       "      <td>0</td>\n",
       "      <td>...</td>\n",
       "      <td>1</td>\n",
       "      <td>1</td>\n",
       "      <td>1</td>\n",
       "      <td>0</td>\n",
       "      <td>0</td>\n",
       "      <td>0</td>\n",
       "      <td>0</td>\n",
       "      <td>0</td>\n",
       "      <td>0</td>\n",
       "      <td>negative</td>\n",
       "    </tr>\n",
       "  </tbody>\n",
       "</table>\n",
       "<p>5 rows × 21 columns</p>\n",
       "</div>"
      ],
      "text/plain": [
       "  subject  sequence  image_index  \\\n",
       "0    S005         1           11   \n",
       "1    S010         1           14   \n",
       "2    S010         2           14   \n",
       "3    S010         3           18   \n",
       "4    S010         4           19   \n",
       "\n",
       "                                            filepath        file_prefix  AU17  \\\n",
       "0  ./cohn-kanade-images/S005/001/S005_001_0000001...  S005_001_00000011     1   \n",
       "1  ./cohn-kanade-images/S010/001/S010_001_0000001...  S010_001_00000014     0   \n",
       "2  ./cohn-kanade-images/S010/002/S010_002_0000001...  S010_002_00000014     0   \n",
       "3  ./cohn-kanade-images/S010/003/S010_003_0000001...  S010_003_00000018     1   \n",
       "4  ./cohn-kanade-images/S010/004/S010_004_0000001...  S010_004_00000019     1   \n",
       "\n",
       "   AU1  AU2  AU25  AU27  ...  AU7  AU23  AU24  AU6  AU12  AU15  AU14  AU11  \\\n",
       "0    0    0     0     0  ...    0     0     0    0     0     0     0     0   \n",
       "1    1    1     1     0  ...    0     0     0    0     0     0     0     0   \n",
       "2    1    1     1     1  ...    0     0     0    0     0     0     0     0   \n",
       "3    0    0     0     0  ...    0     0     0    0     0     0     0     0   \n",
       "4    0    0     0     0  ...    1     1     1    0     0     0     0     0   \n",
       "\n",
       "   AU26  high_level_emotion  \n",
       "0     0            negative  \n",
       "1     0            negative  \n",
       "2     0            surprise  \n",
       "3     0            negative  \n",
       "4     0            negative  \n",
       "\n",
       "[5 rows x 21 columns]"
      ]
     },
     "execution_count": 4,
     "metadata": {},
     "output_type": "execute_result"
    }
   ],
   "source": [
    "# examine the dataframe\n",
    "gk_df.head()"
   ]
  },
  {
   "cell_type": "code",
   "execution_count": 5,
   "id": "965582bd-2582-4956-88e9-55b5821a0add",
   "metadata": {},
   "outputs": [
    {
     "name": "stdout",
     "output_type": "stream",
     "text": [
      "<class 'pandas.core.frame.DataFrame'>\n",
      "RangeIndex: 560 entries, 0 to 559\n",
      "Data columns (total 21 columns):\n",
      " #   Column              Non-Null Count  Dtype \n",
      "---  ------              --------------  ----- \n",
      " 0   subject             560 non-null    object\n",
      " 1   sequence            560 non-null    int64 \n",
      " 2   image_index         560 non-null    int64 \n",
      " 3   filepath            560 non-null    object\n",
      " 4   file_prefix         560 non-null    object\n",
      " 5   AU17                560 non-null    int64 \n",
      " 6   AU1                 560 non-null    int64 \n",
      " 7   AU2                 560 non-null    int64 \n",
      " 8   AU25                560 non-null    int64 \n",
      " 9   AU27                560 non-null    int64 \n",
      " 10  AU4                 560 non-null    int64 \n",
      " 11  AU7                 560 non-null    int64 \n",
      " 12  AU23                560 non-null    int64 \n",
      " 13  AU24                560 non-null    int64 \n",
      " 14  AU6                 560 non-null    int64 \n",
      " 15  AU12                560 non-null    int64 \n",
      " 16  AU15                560 non-null    int64 \n",
      " 17  AU14                560 non-null    int64 \n",
      " 18  AU11                560 non-null    int64 \n",
      " 19  AU26                560 non-null    int64 \n",
      " 20  high_level_emotion  560 non-null    object\n",
      "dtypes: int64(17), object(4)\n",
      "memory usage: 92.0+ KB\n"
     ]
    }
   ],
   "source": [
    "gk_df.info()"
   ]
  },
  {
   "cell_type": "code",
   "execution_count": 6,
   "id": "e585ef53-fc46-4bcc-b829-4cb74bed936e",
   "metadata": {},
   "outputs": [],
   "source": [
    "# drop unnecessary columns\n",
    "drop_columns = ['subject', 'sequence', 'image_index', 'file_prefix']"
   ]
  },
  {
   "cell_type": "code",
   "execution_count": 7,
   "id": "37f636cc-6835-40ba-bbec-fc1139dc136e",
   "metadata": {},
   "outputs": [],
   "source": [
    "gk_df = gk_df.drop(columns=drop_columns)"
   ]
  },
  {
   "cell_type": "code",
   "execution_count": 8,
   "id": "d04fbb1b-cc4c-4fea-8106-d1cc82502482",
   "metadata": {},
   "outputs": [
    {
     "data": {
      "text/html": [
       "<div>\n",
       "<style scoped>\n",
       "    .dataframe tbody tr th:only-of-type {\n",
       "        vertical-align: middle;\n",
       "    }\n",
       "\n",
       "    .dataframe tbody tr th {\n",
       "        vertical-align: top;\n",
       "    }\n",
       "\n",
       "    .dataframe thead th {\n",
       "        text-align: right;\n",
       "    }\n",
       "</style>\n",
       "<table border=\"1\" class=\"dataframe\">\n",
       "  <thead>\n",
       "    <tr style=\"text-align: right;\">\n",
       "      <th></th>\n",
       "      <th>filepath</th>\n",
       "      <th>AU17</th>\n",
       "      <th>AU1</th>\n",
       "      <th>AU2</th>\n",
       "      <th>AU25</th>\n",
       "      <th>AU27</th>\n",
       "      <th>AU4</th>\n",
       "      <th>AU7</th>\n",
       "      <th>AU23</th>\n",
       "      <th>AU24</th>\n",
       "      <th>AU6</th>\n",
       "      <th>AU12</th>\n",
       "      <th>AU15</th>\n",
       "      <th>AU14</th>\n",
       "      <th>AU11</th>\n",
       "      <th>AU26</th>\n",
       "      <th>high_level_emotion</th>\n",
       "    </tr>\n",
       "  </thead>\n",
       "  <tbody>\n",
       "    <tr>\n",
       "      <th>0</th>\n",
       "      <td>./cohn-kanade-images/S005/001/S005_001_0000001...</td>\n",
       "      <td>1</td>\n",
       "      <td>0</td>\n",
       "      <td>0</td>\n",
       "      <td>0</td>\n",
       "      <td>0</td>\n",
       "      <td>0</td>\n",
       "      <td>0</td>\n",
       "      <td>0</td>\n",
       "      <td>0</td>\n",
       "      <td>0</td>\n",
       "      <td>0</td>\n",
       "      <td>0</td>\n",
       "      <td>0</td>\n",
       "      <td>0</td>\n",
       "      <td>0</td>\n",
       "      <td>negative</td>\n",
       "    </tr>\n",
       "    <tr>\n",
       "      <th>1</th>\n",
       "      <td>./cohn-kanade-images/S010/001/S010_001_0000001...</td>\n",
       "      <td>0</td>\n",
       "      <td>1</td>\n",
       "      <td>1</td>\n",
       "      <td>1</td>\n",
       "      <td>0</td>\n",
       "      <td>0</td>\n",
       "      <td>0</td>\n",
       "      <td>0</td>\n",
       "      <td>0</td>\n",
       "      <td>0</td>\n",
       "      <td>0</td>\n",
       "      <td>0</td>\n",
       "      <td>0</td>\n",
       "      <td>0</td>\n",
       "      <td>0</td>\n",
       "      <td>negative</td>\n",
       "    </tr>\n",
       "    <tr>\n",
       "      <th>2</th>\n",
       "      <td>./cohn-kanade-images/S010/002/S010_002_0000001...</td>\n",
       "      <td>0</td>\n",
       "      <td>1</td>\n",
       "      <td>1</td>\n",
       "      <td>1</td>\n",
       "      <td>1</td>\n",
       "      <td>0</td>\n",
       "      <td>0</td>\n",
       "      <td>0</td>\n",
       "      <td>0</td>\n",
       "      <td>0</td>\n",
       "      <td>0</td>\n",
       "      <td>0</td>\n",
       "      <td>0</td>\n",
       "      <td>0</td>\n",
       "      <td>0</td>\n",
       "      <td>surprise</td>\n",
       "    </tr>\n",
       "    <tr>\n",
       "      <th>3</th>\n",
       "      <td>./cohn-kanade-images/S010/003/S010_003_0000001...</td>\n",
       "      <td>1</td>\n",
       "      <td>0</td>\n",
       "      <td>0</td>\n",
       "      <td>0</td>\n",
       "      <td>0</td>\n",
       "      <td>1</td>\n",
       "      <td>0</td>\n",
       "      <td>0</td>\n",
       "      <td>0</td>\n",
       "      <td>0</td>\n",
       "      <td>0</td>\n",
       "      <td>0</td>\n",
       "      <td>0</td>\n",
       "      <td>0</td>\n",
       "      <td>0</td>\n",
       "      <td>negative</td>\n",
       "    </tr>\n",
       "    <tr>\n",
       "      <th>4</th>\n",
       "      <td>./cohn-kanade-images/S010/004/S010_004_0000001...</td>\n",
       "      <td>1</td>\n",
       "      <td>0</td>\n",
       "      <td>0</td>\n",
       "      <td>0</td>\n",
       "      <td>0</td>\n",
       "      <td>1</td>\n",
       "      <td>1</td>\n",
       "      <td>1</td>\n",
       "      <td>1</td>\n",
       "      <td>0</td>\n",
       "      <td>0</td>\n",
       "      <td>0</td>\n",
       "      <td>0</td>\n",
       "      <td>0</td>\n",
       "      <td>0</td>\n",
       "      <td>negative</td>\n",
       "    </tr>\n",
       "  </tbody>\n",
       "</table>\n",
       "</div>"
      ],
      "text/plain": [
       "                                            filepath  AU17  AU1  AU2  AU25  \\\n",
       "0  ./cohn-kanade-images/S005/001/S005_001_0000001...     1    0    0     0   \n",
       "1  ./cohn-kanade-images/S010/001/S010_001_0000001...     0    1    1     1   \n",
       "2  ./cohn-kanade-images/S010/002/S010_002_0000001...     0    1    1     1   \n",
       "3  ./cohn-kanade-images/S010/003/S010_003_0000001...     1    0    0     0   \n",
       "4  ./cohn-kanade-images/S010/004/S010_004_0000001...     1    0    0     0   \n",
       "\n",
       "   AU27  AU4  AU7  AU23  AU24  AU6  AU12  AU15  AU14  AU11  AU26  \\\n",
       "0     0    0    0     0     0    0     0     0     0     0     0   \n",
       "1     0    0    0     0     0    0     0     0     0     0     0   \n",
       "2     1    0    0     0     0    0     0     0     0     0     0   \n",
       "3     0    1    0     0     0    0     0     0     0     0     0   \n",
       "4     0    1    1     1     1    0     0     0     0     0     0   \n",
       "\n",
       "  high_level_emotion  \n",
       "0           negative  \n",
       "1           negative  \n",
       "2           surprise  \n",
       "3           negative  \n",
       "4           negative  "
      ]
     },
     "execution_count": 8,
     "metadata": {},
     "output_type": "execute_result"
    }
   ],
   "source": [
    "gk_df.head()"
   ]
  },
  {
   "cell_type": "markdown",
   "id": "5bb938d5-16bd-4f73-924d-8b01a93df970",
   "metadata": {},
   "source": [
    "#### Examine `high_level_emotion`"
   ]
  },
  {
   "cell_type": "code",
   "execution_count": 9,
   "id": "59b3f347-c01a-464f-8a72-610e4b735a86",
   "metadata": {},
   "outputs": [
    {
     "data": {
      "text/plain": [
       "high_level_emotion\n",
       "negative    328\n",
       "positive    121\n",
       "surprise    111\n",
       "Name: count, dtype: int64"
      ]
     },
     "execution_count": 9,
     "metadata": {},
     "output_type": "execute_result"
    }
   ],
   "source": [
    "gk_df['high_level_emotion'].value_counts()"
   ]
  },
  {
   "cell_type": "markdown",
   "id": "e199ffd9-4347-4aa0-9cc0-acefcb1cba31",
   "metadata": {},
   "source": [
    "- The dataset is **imbalanced** as class `negative` accumulated the most."
   ]
  },
  {
   "cell_type": "markdown",
   "id": "3d23620c-d672-4ee7-8a5d-1bc8ba2a8f8f",
   "metadata": {},
   "source": [
    "## II. Data Analysis"
   ]
  },
  {
   "cell_type": "code",
   "execution_count": 10,
   "id": "cd7b05bb-ee42-4732-a6b3-6ebdd1b01a8c",
   "metadata": {},
   "outputs": [],
   "source": [
    "FACs = gk_df.columns[1:-1]"
   ]
  },
  {
   "cell_type": "code",
   "execution_count": 11,
   "id": "05fe0d05-2c43-4398-86fd-9ec2411753a7",
   "metadata": {},
   "outputs": [
    {
     "data": {
      "text/plain": [
       "Index(['AU17', 'AU1', 'AU2', 'AU25', 'AU27', 'AU4', 'AU7', 'AU23', 'AU24',\n",
       "       'AU6', 'AU12', 'AU15', 'AU14', 'AU11', 'AU26'],\n",
       "      dtype='object')"
      ]
     },
     "execution_count": 11,
     "metadata": {},
     "output_type": "execute_result"
    }
   ],
   "source": [
    "FACs"
   ]
  },
  {
   "cell_type": "code",
   "execution_count": 12,
   "id": "b8b81b47-202d-4e6a-aee8-47436575d430",
   "metadata": {},
   "outputs": [],
   "source": [
    "crosstab = pd.crosstab(gk_df['AU1'], gk_df['high_level_emotion'])"
   ]
  },
  {
   "cell_type": "code",
   "execution_count": 13,
   "id": "fea968f9-4990-4440-8a94-cad3b590e566",
   "metadata": {},
   "outputs": [
    {
     "name": "stdout",
     "output_type": "stream",
     "text": [
      "high_level_emotion  negative  positive  surprise\n",
      "AU1                                             \n",
      "0                        239       117        27\n",
      "1                         89         4        84\n"
     ]
    }
   ],
   "source": [
    "print(crosstab)"
   ]
  },
  {
   "cell_type": "code",
   "execution_count": 14,
   "id": "f1ba804e-111d-40de-8e8f-8873095d3874",
   "metadata": {},
   "outputs": [
    {
     "data": {
      "image/png": "[encoded data removed]",
      "text/plain": [
       "<Figure size 640x480 with 2 Axes>"
      ]
     },
     "metadata": {},
     "output_type": "display_data"
    }
   ],
   "source": [
    "# Sum one-hot encoded features grouped by the categorical feature\n",
    "grouped_sum = gk_df.groupby('high_level_emotion')[FACs].sum()\n",
    "\n",
    "# Heatmap to visualize\n",
    "sns.heatmap(grouped_sum, annot=True, fmt='.0f', cmap='coolwarm')\n",
    "plt.title(\"Aggregate Relationship of FACs vs emotion\")\n",
    "plt.ylabel(\"Category\")\n",
    "plt.xlabel(\"One-Hot Features\")\n",
    "plt.show()\n"
   ]
  },
  {
   "cell_type": "markdown",
   "id": "0ac0d199-caad-4119-91d8-54b0d2106406",
   "metadata": {},
   "source": [
    "- The majority of the expression are related to `negative` emotion with **AU17**, **AU7**, **AU4** and **AU15** are the most signifcant indicators.\n",
    "- **AU6** and **AU12**  play a significant role in the `positive` category.\n",
    "- **AU1**, **AU2**, **AU25**, **AU27** are the expression that are more related to `surprise`.\n",
    "- **AU25** is actually common for most of the emotions and slightly represents `surprise` more.\n",
    "- Several features (like **AU14**, **AU11**, **AU26**) have consistently low counts across all categories => indicating they may not contribute much to distinguishing these categories.\n",
    "\n",
    "=> *The analysis show that the expressions are strongly related to certain emotion and for that, the **features** we may extract from **CNN models** can be used to dictate both as in **recognizing the facial actions** and **classifying the emotion***"
   ]
  },
  {
   "cell_type": "markdown",
   "id": "ff77383e-3664-4bc1-bb5d-fb9b4bb155b2",
   "metadata": {},
   "source": [
    "## III. Data Preparation"
   ]
  },
  {
   "cell_type": "code",
   "execution_count": 15,
   "id": "adaad796-649f-4329-8714-c7d86f9edff9",
   "metadata": {},
   "outputs": [
    {
     "data": {
      "text/plain": [
       "<module 'utils.data' from 'D:\\\\bin\\\\Facial-Emotion-Expression-Recognition\\\\utils\\\\data.py'>"
      ]
     },
     "execution_count": 15,
     "metadata": {},
     "output_type": "execute_result"
    }
   ],
   "source": [
    "importlib.reload(data)"
   ]
  },
  {
   "cell_type": "code",
   "execution_count": 16,
   "id": "4be18c0e-325b-4aec-b99b-ec31f102dac2",
   "metadata": {},
   "outputs": [],
   "source": [
    "# split the dataset\n",
    "train_df, val_df = data.split_dataset('data/data_labels.csv', random_state=42)"
   ]
  },
  {
   "cell_type": "markdown",
   "id": "039def6a-bf1c-4c36-a228-eebd668a80d5",
   "metadata": {},
   "source": [
    "##### Train Dataset and Loaders"
   ]
  },
  {
   "cell_type": "code",
   "execution_count": 17,
   "id": "d92c2dbc-476c-454a-a54f-0adc390a2b54",
   "metadata": {},
   "outputs": [],
   "source": [
    "train_dataset = data.EmotionFACsDataset(train_df)"
   ]
  },
  {
   "cell_type": "code",
   "execution_count": 18,
   "id": "dcc69f98-a2d0-4505-8f1b-54c5942272b5",
   "metadata": {},
   "outputs": [],
   "source": [
    "train_loader = data.DataLoader(train_dataset, batch_size=32)"
   ]
  },
  {
   "cell_type": "markdown",
   "id": "a1f90f6f-8fdb-4d01-b33b-a2908d704f95",
   "metadata": {},
   "source": [
    "**Data Augmentated**\n",
    "\n",
    "*Avoid overfitting during training due to the humble size of the train data*"
   ]
  },
  {
   "cell_type": "code",
   "execution_count": 19,
   "id": "34172588-b933-4f1d-a3a9-1180944f9fa6",
   "metadata": {},
   "outputs": [],
   "source": [
    "aug_transform =transforms.Compose([\n",
    "            transforms.Resize((224, 224)),\n",
    "            transforms.RandomHorizontalFlip(),\n",
    "            transforms.RandomRotation(10),\n",
    "            transforms.ColorJitter(brightness=0.2, contrast=0.2),\n",
    "            transforms.RandomAffine(degrees=0, translate=(0.1, 0.1)),\n",
    "            transforms.ToTensor(),\n",
    "            transforms.Normalize(mean=[0.485, 0.456, 0.406],\n",
    "                               std=[0.229, 0.224, 0.225])\n",
    "        ])"
   ]
  },
  {
   "cell_type": "code",
   "execution_count": 20,
   "id": "6bc9a770-617f-4c28-9d2c-0d4574d01493",
   "metadata": {},
   "outputs": [],
   "source": [
    "aug_train_dataset = data.EmotionFACsDataset(train_df, transform=aug_transform)"
   ]
  },
  {
   "cell_type": "code",
   "execution_count": 21,
   "id": "c412a5cd-d6e5-4ba5-b0f6-08e6022ff1e4",
   "metadata": {},
   "outputs": [],
   "source": [
    "aug_train_loader = data.DataLoader(train_dataset, batch_size=32)"
   ]
  },
  {
   "cell_type": "markdown",
   "id": "b8ae30f4-04eb-4446-af61-8e75adcd7459",
   "metadata": {},
   "source": [
    "##### Val Dataset and Loaders\n",
    "`Validate Dataset` is **not shuffled** in order to maintain the consistency upon validating the model "
   ]
  },
  {
   "cell_type": "code",
   "execution_count": 22,
   "id": "d0de599d-9d6f-4d7c-bdad-a3856bb69570",
   "metadata": {},
   "outputs": [],
   "source": [
    "val_dataset = data.EmotionFACsDataset(val_df)"
   ]
  },
  {
   "cell_type": "code",
   "execution_count": 23,
   "id": "c038860b-dcfe-4758-b717-880f018ec2f2",
   "metadata": {},
   "outputs": [],
   "source": [
    "val_loader = data.DataLoader(val_dataset, batch_size=32, shuffle=False)"
   ]
  },
  {
   "cell_type": "markdown",
   "id": "cddebc8a-4845-421d-a5a4-13ed25c92126",
   "metadata": {},
   "source": [
    "### IV. Modelling"
   ]
  },
  {
   "cell_type": "code",
   "execution_count": 24,
   "id": "416447f5-5adc-477e-8199-e5b8fc714b6b",
   "metadata": {},
   "outputs": [],
   "source": [
    "import models.model as model\n",
    "import utils.CNN_trainer as trainer"
   ]
  },
  {
   "cell_type": "code",
   "execution_count": 25,
   "id": "1a08a529-a10a-497a-a94c-da56631c8279",
   "metadata": {},
   "outputs": [
    {
     "data": {
      "text/plain": [
       "<module 'models.model' from 'D:\\\\bin\\\\Facial-Emotion-Expression-Recognition\\\\models\\\\model.py'>"
      ]
     },
     "execution_count": 25,
     "metadata": {},
     "output_type": "execute_result"
    }
   ],
   "source": [
    "importlib.reload(model)"
   ]
  },
  {
   "cell_type": "code",
   "execution_count": 26,
   "id": "7c937fcd-6435-4735-ad7d-c7b56e712eb9",
   "metadata": {},
   "outputs": [
    {
     "data": {
      "text/plain": [
       "<module 'utils.CNN_trainer' from 'D:\\\\bin\\\\Facial-Emotion-Expression-Recognition\\\\utils\\\\CNN_trainer.py'>"
      ]
     },
     "execution_count": 26,
     "metadata": {},
     "output_type": "execute_result"
    }
   ],
   "source": [
    "importlib.reload(trainer)"
   ]
  },
  {
   "cell_type": "markdown",
   "id": "2983f48e-cf1c-43d0-a9a8-f7fb07e2dd2e",
   "metadata": {},
   "source": [
    "#### Resnet50"
   ]
  },
  {
   "cell_type": "code",
   "execution_count": 27,
   "id": "492ff870-b4e2-449c-af62-aa6a2aa08bdd",
   "metadata": {},
   "outputs": [],
   "source": [
    "resnet50 = model.EmotionFACsNet()"
   ]
  },
  {
   "cell_type": "code",
   "execution_count": 28,
   "id": "f7b52bc2-96ea-4f23-bd28-da739714b59d",
   "metadata": {},
   "outputs": [],
   "source": [
    "resnet50_trainer= trainer.EmotionFACsTrainer(resnet50, 'resnet50', train_loader, val_loader)"
   ]
  },
  {
   "cell_type": "code",
   "execution_count": 29,
   "id": "0d5ab239-6648-46be-b592-19a0cd20bf45",
   "metadata": {
    "scrolled": true
   },
   "outputs": [
    {
     "name": "stdout",
     "output_type": "stream",
     "text": [
      "\n",
      "Epoch 1/100\n"
     ]
    },
    {
     "name": "stderr",
     "output_type": "stream",
     "text": [
      "100%|██████████████████████████████████████████████████████████████████████████████████| 14/14 [00:04<00:00,  3.32it/s]\n"
     ]
    },
    {
     "name": "stdout",
     "output_type": "stream",
     "text": [
      "Train - Emotion Loss: 0.9935, FACS Loss: 0.5627\n",
      "Train - Emotion F1: 0.2934, FACS F1: 0.1699\n",
      "Val - Emotion Loss: 0.9674, FACS Loss: 0.5270\n",
      "Val - Emotion F1: 0.2472, FACS F1: 0.0062\n",
      "\n",
      "Epoch 2/100\n"
     ]
    },
    {
     "name": "stderr",
     "output_type": "stream",
     "text": [
      "100%|██████████████████████████████████████████████████████████████████████████████████| 14/14 [00:03<00:00,  3.50it/s]\n"
     ]
    },
    {
     "name": "stdout",
     "output_type": "stream",
     "text": [
      "Train - Emotion Loss: 0.9666, FACS Loss: 0.5032\n",
      "Train - Emotion F1: 0.2460, FACS F1: 0.1111\n",
      "Val - Emotion Loss: 0.9579, FACS Loss: 0.4645\n",
      "Val - Emotion F1: 0.2472, FACS F1: 0.0000\n",
      "\n",
      "Epoch 3/100\n"
     ]
    },
    {
     "name": "stderr",
     "output_type": "stream",
     "text": [
      "100%|██████████████████████████████████████████████████████████████████████████████████| 14/14 [00:03<00:00,  3.57it/s]\n"
     ]
    },
    {
     "name": "stdout",
     "output_type": "stream",
     "text": [
      "Train - Emotion Loss: 0.9669, FACS Loss: 0.4976\n",
      "Train - Emotion F1: 0.2460, FACS F1: 0.1019\n",
      "Val - Emotion Loss: 0.9577, FACS Loss: 0.4593\n",
      "Val - Emotion F1: 0.2472, FACS F1: 0.0000\n",
      "\n",
      "Epoch 4/100\n"
     ]
    },
    {
     "name": "stderr",
     "output_type": "stream",
     "text": [
      "100%|██████████████████████████████████████████████████████████████████████████████████| 14/14 [00:03<00:00,  3.56it/s]\n"
     ]
    },
    {
     "name": "stdout",
     "output_type": "stream",
     "text": [
      "Train - Emotion Loss: 0.9668, FACS Loss: 0.4967\n",
      "Train - Emotion F1: 0.2460, FACS F1: 0.1039\n",
      "Val - Emotion Loss: 0.9578, FACS Loss: 0.4570\n",
      "Val - Emotion F1: 0.2472, FACS F1: 0.0306\n",
      "\n",
      "Epoch 5/100\n"
     ]
    },
    {
     "name": "stderr",
     "output_type": "stream",
     "text": [
      "100%|██████████████████████████████████████████████████████████████████████████████████| 14/14 [00:03<00:00,  3.51it/s]\n"
     ]
    },
    {
     "name": "stdout",
     "output_type": "stream",
     "text": [
      "Train - Emotion Loss: 0.9666, FACS Loss: 0.4900\n",
      "Train - Emotion F1: 0.2460, FACS F1: 0.0836\n",
      "Val - Emotion Loss: 0.9578, FACS Loss: 0.4551\n",
      "Val - Emotion F1: 0.2472, FACS F1: 0.0330\n",
      "\n",
      "Epoch 6/100\n"
     ]
    },
    {
     "name": "stderr",
     "output_type": "stream",
     "text": [
      "100%|██████████████████████████████████████████████████████████████████████████████████| 14/14 [00:03<00:00,  3.53it/s]\n"
     ]
    },
    {
     "name": "stdout",
     "output_type": "stream",
     "text": [
      "Train - Emotion Loss: 0.9665, FACS Loss: 0.4880\n",
      "Train - Emotion F1: 0.2460, FACS F1: 0.0988\n",
      "Val - Emotion Loss: 0.9578, FACS Loss: 0.4566\n",
      "Val - Emotion F1: 0.2472, FACS F1: 0.0355\n",
      "\n",
      "Epoch 7/100\n"
     ]
    },
    {
     "name": "stderr",
     "output_type": "stream",
     "text": [
      "100%|██████████████████████████████████████████████████████████████████████████████████| 14/14 [00:03<00:00,  3.58it/s]\n"
     ]
    },
    {
     "name": "stdout",
     "output_type": "stream",
     "text": [
      "Train - Emotion Loss: 0.9666, FACS Loss: 0.4871\n",
      "Train - Emotion F1: 0.2460, FACS F1: 0.1061\n",
      "Val - Emotion Loss: 0.9578, FACS Loss: 0.4548\n",
      "Val - Emotion F1: 0.2472, FACS F1: 0.0424\n",
      "\n",
      "Epoch 8/100\n"
     ]
    },
    {
     "name": "stderr",
     "output_type": "stream",
     "text": [
      "100%|██████████████████████████████████████████████████████████████████████████████████| 14/14 [00:03<00:00,  3.60it/s]\n"
     ]
    },
    {
     "name": "stdout",
     "output_type": "stream",
     "text": [
      "Train - Emotion Loss: 0.9667, FACS Loss: 0.4859\n",
      "Train - Emotion F1: 0.2460, FACS F1: 0.0866\n",
      "Val - Emotion Loss: 0.9578, FACS Loss: 0.4540\n",
      "Val - Emotion F1: 0.2472, FACS F1: 0.0414\n",
      "\n",
      "Epoch 9/100\n"
     ]
    },
    {
     "name": "stderr",
     "output_type": "stream",
     "text": [
      "100%|██████████████████████████████████████████████████████████████████████████████████| 14/14 [00:03<00:00,  3.59it/s]\n"
     ]
    },
    {
     "name": "stdout",
     "output_type": "stream",
     "text": [
      "Train - Emotion Loss: 0.9667, FACS Loss: 0.4838\n",
      "Train - Emotion F1: 0.2460, FACS F1: 0.0893\n",
      "Val - Emotion Loss: 0.9577, FACS Loss: 0.4527\n",
      "Val - Emotion F1: 0.2472, FACS F1: 0.0497\n",
      "\n",
      "Epoch 10/100\n"
     ]
    },
    {
     "name": "stderr",
     "output_type": "stream",
     "text": [
      "100%|██████████████████████████████████████████████████████████████████████████████████| 14/14 [00:03<00:00,  3.59it/s]\n"
     ]
    },
    {
     "name": "stdout",
     "output_type": "stream",
     "text": [
      "Train - Emotion Loss: 0.9665, FACS Loss: 0.4777\n",
      "Train - Emotion F1: 0.2460, FACS F1: 0.0991\n",
      "Val - Emotion Loss: 0.9577, FACS Loss: 0.4492\n",
      "Val - Emotion F1: 0.2472, FACS F1: 0.0568\n",
      "\n",
      "Epoch 11/100\n"
     ]
    },
    {
     "name": "stderr",
     "output_type": "stream",
     "text": [
      "100%|██████████████████████████████████████████████████████████████████████████████████| 14/14 [00:03<00:00,  3.59it/s]\n"
     ]
    },
    {
     "name": "stdout",
     "output_type": "stream",
     "text": [
      "Train - Emotion Loss: 0.9666, FACS Loss: 0.4736\n",
      "Train - Emotion F1: 0.2460, FACS F1: 0.1190\n",
      "Val - Emotion Loss: 0.9577, FACS Loss: 0.4457\n",
      "Val - Emotion F1: 0.2472, FACS F1: 0.0557\n",
      "\n",
      "Epoch 12/100\n"
     ]
    },
    {
     "name": "stderr",
     "output_type": "stream",
     "text": [
      "100%|██████████████████████████████████████████████████████████████████████████████████| 14/14 [00:03<00:00,  3.59it/s]\n"
     ]
    },
    {
     "name": "stdout",
     "output_type": "stream",
     "text": [
      "Train - Emotion Loss: 0.9665, FACS Loss: 0.4809\n",
      "Train - Emotion F1: 0.2460, FACS F1: 0.1031\n",
      "Val - Emotion Loss: 0.9578, FACS Loss: 0.4525\n",
      "Val - Emotion F1: 0.2472, FACS F1: 0.0464\n",
      "\n",
      "Epoch 13/100\n"
     ]
    },
    {
     "name": "stderr",
     "output_type": "stream",
     "text": [
      "100%|██████████████████████████████████████████████████████████████████████████████████| 14/14 [00:03<00:00,  3.58it/s]\n"
     ]
    },
    {
     "name": "stdout",
     "output_type": "stream",
     "text": [
      "Train - Emotion Loss: 0.9664, FACS Loss: 0.4732\n",
      "Train - Emotion F1: 0.2460, FACS F1: 0.1243\n",
      "Val - Emotion Loss: 0.9578, FACS Loss: 0.4503\n",
      "Val - Emotion F1: 0.2472, FACS F1: 0.0551\n",
      "\n",
      "Epoch 14/100\n"
     ]
    },
    {
     "name": "stderr",
     "output_type": "stream",
     "text": [
      "100%|██████████████████████████████████████████████████████████████████████████████████| 14/14 [00:03<00:00,  3.59it/s]\n"
     ]
    },
    {
     "name": "stdout",
     "output_type": "stream",
     "text": [
      "Train - Emotion Loss: 0.9662, FACS Loss: 0.4698\n",
      "Train - Emotion F1: 0.2460, FACS F1: 0.1224\n",
      "Val - Emotion Loss: 0.9578, FACS Loss: 0.4524\n",
      "Val - Emotion F1: 0.2472, FACS F1: 0.0531\n",
      "\n",
      "Epoch 15/100\n"
     ]
    },
    {
     "name": "stderr",
     "output_type": "stream",
     "text": [
      "100%|██████████████████████████████████████████████████████████████████████████████████| 14/14 [00:03<00:00,  3.59it/s]\n"
     ]
    },
    {
     "name": "stdout",
     "output_type": "stream",
     "text": [
      "Train - Emotion Loss: 0.9666, FACS Loss: 0.4666\n",
      "Train - Emotion F1: 0.2460, FACS F1: 0.1496\n",
      "Val - Emotion Loss: 0.9580, FACS Loss: 0.5068\n",
      "Val - Emotion F1: 0.2472, FACS F1: 0.0493\n",
      "\n",
      "Epoch 16/100\n"
     ]
    },
    {
     "name": "stderr",
     "output_type": "stream",
     "text": [
      "100%|██████████████████████████████████████████████████████████████████████████████████| 14/14 [00:03<00:00,  3.61it/s]\n"
     ]
    },
    {
     "name": "stdout",
     "output_type": "stream",
     "text": [
      "Train - Emotion Loss: 0.9663, FACS Loss: 0.4676\n",
      "Train - Emotion F1: 0.2460, FACS F1: 0.1375\n",
      "Val - Emotion Loss: 0.9578, FACS Loss: 0.4687\n",
      "Val - Emotion F1: 0.2472, FACS F1: 0.1230\n",
      "\n",
      "Epoch 17/100\n"
     ]
    },
    {
     "name": "stderr",
     "output_type": "stream",
     "text": [
      "100%|██████████████████████████████████████████████████████████████████████████████████| 14/14 [00:03<00:00,  3.55it/s]\n"
     ]
    },
    {
     "name": "stdout",
     "output_type": "stream",
     "text": [
      "Train - Emotion Loss: 0.9658, FACS Loss: 0.4602\n",
      "Train - Emotion F1: 0.2460, FACS F1: 0.1461\n",
      "Val - Emotion Loss: 0.9581, FACS Loss: 0.4604\n",
      "Val - Emotion F1: 0.2472, FACS F1: 0.1023\n",
      "\n",
      "Epoch 18/100\n"
     ]
    },
    {
     "name": "stderr",
     "output_type": "stream",
     "text": [
      "100%|██████████████████████████████████████████████████████████████████████████████████| 14/14 [00:03<00:00,  3.57it/s]\n"
     ]
    },
    {
     "name": "stdout",
     "output_type": "stream",
     "text": [
      "Train - Emotion Loss: 0.9629, FACS Loss: 0.4573\n",
      "Train - Emotion F1: 0.2460, FACS F1: 0.1671\n",
      "Val - Emotion Loss: 0.9587, FACS Loss: 0.5320\n",
      "Val - Emotion F1: 0.2472, FACS F1: 0.1113\n",
      "\n",
      "Epoch 19/100\n"
     ]
    },
    {
     "name": "stderr",
     "output_type": "stream",
     "text": [
      "100%|██████████████████████████████████████████████████████████████████████████████████| 14/14 [00:03<00:00,  3.58it/s]\n"
     ]
    },
    {
     "name": "stdout",
     "output_type": "stream",
     "text": [
      "Train - Emotion Loss: 0.9612, FACS Loss: 0.4503\n",
      "Train - Emotion F1: 0.2598, FACS F1: 0.1731\n",
      "Val - Emotion Loss: 0.9961, FACS Loss: 0.4923\n",
      "Val - Emotion F1: 0.3367, FACS F1: 0.1099\n",
      "\n",
      "Epoch 20/100\n"
     ]
    },
    {
     "name": "stderr",
     "output_type": "stream",
     "text": [
      "100%|██████████████████████████████████████████████████████████████████████████████████| 14/14 [00:03<00:00,  3.58it/s]\n"
     ]
    },
    {
     "name": "stdout",
     "output_type": "stream",
     "text": [
      "Train - Emotion Loss: 0.9439, FACS Loss: 0.4548\n",
      "Train - Emotion F1: 0.2806, FACS F1: 0.1530\n",
      "Val - Emotion Loss: 0.9900, FACS Loss: 0.4661\n",
      "Val - Emotion F1: 0.2844, FACS F1: 0.0941\n",
      "\n",
      "Epoch 21/100\n"
     ]
    },
    {
     "name": "stderr",
     "output_type": "stream",
     "text": [
      "100%|██████████████████████████████████████████████████████████████████████████████████| 14/14 [00:03<00:00,  3.60it/s]\n"
     ]
    },
    {
     "name": "stdout",
     "output_type": "stream",
     "text": [
      "Train - Emotion Loss: 0.9387, FACS Loss: 0.4593\n",
      "Train - Emotion F1: 0.3266, FACS F1: 0.1532\n",
      "Val - Emotion Loss: 1.0092, FACS Loss: 0.4755\n",
      "Val - Emotion F1: 0.3331, FACS F1: 0.0864\n",
      "\n",
      "Epoch 22/100\n"
     ]
    },
    {
     "name": "stderr",
     "output_type": "stream",
     "text": [
      "100%|██████████████████████████████████████████████████████████████████████████████████| 14/14 [00:03<00:00,  3.59it/s]\n"
     ]
    },
    {
     "name": "stdout",
     "output_type": "stream",
     "text": [
      "Train - Emotion Loss: 0.9201, FACS Loss: 0.4547\n",
      "Train - Emotion F1: 0.3715, FACS F1: 0.1621\n",
      "Val - Emotion Loss: 1.0079, FACS Loss: 0.4551\n",
      "Val - Emotion F1: 0.2723, FACS F1: 0.1444\n",
      "\n",
      "Epoch 23/100\n"
     ]
    },
    {
     "name": "stderr",
     "output_type": "stream",
     "text": [
      "100%|██████████████████████████████████████████████████████████████████████████████████| 14/14 [00:03<00:00,  3.59it/s]\n"
     ]
    },
    {
     "name": "stdout",
     "output_type": "stream",
     "text": [
      "Train - Emotion Loss: 0.9156, FACS Loss: 0.4561\n",
      "Train - Emotion F1: 0.3949, FACS F1: 0.1760\n",
      "Val - Emotion Loss: 0.9948, FACS Loss: 0.4632\n",
      "Val - Emotion F1: 0.3258, FACS F1: 0.0727\n",
      "\n",
      "Epoch 24/100\n"
     ]
    },
    {
     "name": "stderr",
     "output_type": "stream",
     "text": [
      "100%|██████████████████████████████████████████████████████████████████████████████████| 14/14 [00:03<00:00,  3.58it/s]\n"
     ]
    },
    {
     "name": "stdout",
     "output_type": "stream",
     "text": [
      "Train - Emotion Loss: 0.9093, FACS Loss: 0.4601\n",
      "Train - Emotion F1: 0.3782, FACS F1: 0.1492\n",
      "Val - Emotion Loss: 0.9579, FACS Loss: 0.4513\n",
      "Val - Emotion F1: 0.3595, FACS F1: 0.1202\n",
      "\n",
      "Epoch 25/100\n"
     ]
    },
    {
     "name": "stderr",
     "output_type": "stream",
     "text": [
      "100%|██████████████████████████████████████████████████████████████████████████████████| 14/14 [00:03<00:00,  3.57it/s]\n"
     ]
    },
    {
     "name": "stdout",
     "output_type": "stream",
     "text": [
      "Train - Emotion Loss: 0.8867, FACS Loss: 0.4402\n",
      "Train - Emotion F1: 0.4426, FACS F1: 0.1862\n",
      "Val - Emotion Loss: 1.0333, FACS Loss: 0.4808\n",
      "Val - Emotion F1: 0.3381, FACS F1: 0.0951\n",
      "\n",
      "Epoch 26/100\n"
     ]
    },
    {
     "name": "stderr",
     "output_type": "stream",
     "text": [
      "100%|██████████████████████████████████████████████████████████████████████████████████| 14/14 [00:03<00:00,  3.59it/s]\n"
     ]
    },
    {
     "name": "stdout",
     "output_type": "stream",
     "text": [
      "Train - Emotion Loss: 0.8642, FACS Loss: 0.4431\n",
      "Train - Emotion F1: 0.4691, FACS F1: 0.1824\n",
      "Val - Emotion Loss: 0.9972, FACS Loss: 0.4587\n",
      "Val - Emotion F1: 0.2905, FACS F1: 0.1207\n",
      "\n",
      "Epoch 27/100\n"
     ]
    },
    {
     "name": "stderr",
     "output_type": "stream",
     "text": [
      "100%|██████████████████████████████████████████████████████████████████████████████████| 14/14 [00:03<00:00,  3.58it/s]\n"
     ]
    },
    {
     "name": "stdout",
     "output_type": "stream",
     "text": [
      "Train - Emotion Loss: 0.8276, FACS Loss: 0.4347\n",
      "Train - Emotion F1: 0.5200, FACS F1: 0.2022\n",
      "Val - Emotion Loss: 0.9782, FACS Loss: 0.4552\n",
      "Val - Emotion F1: 0.3120, FACS F1: 0.1125\n",
      "\n",
      "Epoch 28/100\n"
     ]
    },
    {
     "name": "stderr",
     "output_type": "stream",
     "text": [
      "100%|██████████████████████████████████████████████████████████████████████████████████| 14/14 [00:03<00:00,  3.59it/s]\n"
     ]
    },
    {
     "name": "stdout",
     "output_type": "stream",
     "text": [
      "Train - Emotion Loss: 0.8309, FACS Loss: 0.4317\n",
      "Train - Emotion F1: 0.5176, FACS F1: 0.2060\n",
      "Val - Emotion Loss: 1.0002, FACS Loss: 0.4693\n",
      "Val - Emotion F1: 0.2990, FACS F1: 0.0966\n",
      "\n",
      "Epoch 29/100\n"
     ]
    },
    {
     "name": "stderr",
     "output_type": "stream",
     "text": [
      "100%|██████████████████████████████████████████████████████████████████████████████████| 14/14 [00:03<00:00,  3.54it/s]\n"
     ]
    },
    {
     "name": "stdout",
     "output_type": "stream",
     "text": [
      "Train - Emotion Loss: 0.8639, FACS Loss: 0.4378\n",
      "Train - Emotion F1: 0.5042, FACS F1: 0.2149\n",
      "Val - Emotion Loss: 0.9907, FACS Loss: 0.4615\n",
      "Val - Emotion F1: 0.3676, FACS F1: 0.0935\n",
      "\n",
      "Epoch 30/100\n"
     ]
    },
    {
     "name": "stderr",
     "output_type": "stream",
     "text": [
      "100%|██████████████████████████████████████████████████████████████████████████████████| 14/14 [00:03<00:00,  3.52it/s]\n"
     ]
    },
    {
     "name": "stdout",
     "output_type": "stream",
     "text": [
      "Train - Emotion Loss: 0.8497, FACS Loss: 0.4291\n",
      "Train - Emotion F1: 0.4758, FACS F1: 0.2170\n",
      "Val - Emotion Loss: 0.9998, FACS Loss: 0.4606\n",
      "Val - Emotion F1: 0.2603, FACS F1: 0.1080\n",
      "\n",
      "Epoch 31/100\n"
     ]
    },
    {
     "name": "stderr",
     "output_type": "stream",
     "text": [
      "100%|██████████████████████████████████████████████████████████████████████████████████| 14/14 [00:03<00:00,  3.59it/s]\n"
     ]
    },
    {
     "name": "stdout",
     "output_type": "stream",
     "text": [
      "Train - Emotion Loss: 0.8522, FACS Loss: 0.4343\n",
      "Train - Emotion F1: 0.4922, FACS F1: 0.1956\n",
      "Val - Emotion Loss: 1.0621, FACS Loss: 0.4789\n",
      "Val - Emotion F1: 0.2642, FACS F1: 0.1188\n",
      "\n",
      "Epoch 32/100\n"
     ]
    },
    {
     "name": "stderr",
     "output_type": "stream",
     "text": [
      "100%|██████████████████████████████████████████████████████████████████████████████████| 14/14 [00:03<00:00,  3.55it/s]\n"
     ]
    },
    {
     "name": "stdout",
     "output_type": "stream",
     "text": [
      "Train - Emotion Loss: 0.8274, FACS Loss: 0.4239\n",
      "Train - Emotion F1: 0.5340, FACS F1: 0.2136\n",
      "Val - Emotion Loss: 0.9663, FACS Loss: 0.4755\n",
      "Val - Emotion F1: 0.3650, FACS F1: 0.1170\n",
      "\n",
      "Epoch 33/100\n"
     ]
    },
    {
     "name": "stderr",
     "output_type": "stream",
     "text": [
      "100%|██████████████████████████████████████████████████████████████████████████████████| 14/14 [00:03<00:00,  3.58it/s]\n"
     ]
    },
    {
     "name": "stdout",
     "output_type": "stream",
     "text": [
      "Train - Emotion Loss: 0.7992, FACS Loss: 0.4173\n",
      "Train - Emotion F1: 0.5707, FACS F1: 0.2344\n",
      "Val - Emotion Loss: 1.0111, FACS Loss: 0.4664\n",
      "Val - Emotion F1: 0.3365, FACS F1: 0.1425\n",
      "\n",
      "Epoch 34/100\n"
     ]
    },
    {
     "name": "stderr",
     "output_type": "stream",
     "text": [
      "100%|██████████████████████████████████████████████████████████████████████████████████| 14/14 [00:03<00:00,  3.59it/s]\n"
     ]
    },
    {
     "name": "stdout",
     "output_type": "stream",
     "text": [
      "Train - Emotion Loss: 0.7765, FACS Loss: 0.4092\n",
      "Train - Emotion F1: 0.6456, FACS F1: 0.2454\n",
      "Val - Emotion Loss: 1.0175, FACS Loss: 0.4680\n",
      "Val - Emotion F1: 0.3629, FACS F1: 0.1312\n",
      "\n",
      "Epoch 35/100\n"
     ]
    },
    {
     "name": "stderr",
     "output_type": "stream",
     "text": [
      "100%|██████████████████████████████████████████████████████████████████████████████████| 14/14 [00:03<00:00,  3.59it/s]\n"
     ]
    },
    {
     "name": "stdout",
     "output_type": "stream",
     "text": [
      "Train - Emotion Loss: 0.7752, FACS Loss: 0.4029\n",
      "Train - Emotion F1: 0.6523, FACS F1: 0.2657\n",
      "Val - Emotion Loss: 1.0174, FACS Loss: 0.4687\n",
      "Val - Emotion F1: 0.3673, FACS F1: 0.1232\n",
      "\n",
      "Epoch 36/100\n"
     ]
    },
    {
     "name": "stderr",
     "output_type": "stream",
     "text": [
      "100%|██████████████████████████████████████████████████████████████████████████████████| 14/14 [00:03<00:00,  3.59it/s]\n"
     ]
    },
    {
     "name": "stdout",
     "output_type": "stream",
     "text": [
      "Train - Emotion Loss: 0.7576, FACS Loss: 0.3957\n",
      "Train - Emotion F1: 0.6730, FACS F1: 0.2927\n",
      "Val - Emotion Loss: 0.9934, FACS Loss: 0.4697\n",
      "Val - Emotion F1: 0.3764, FACS F1: 0.0987\n",
      "\n",
      "Epoch 37/100\n"
     ]
    },
    {
     "name": "stderr",
     "output_type": "stream",
     "text": [
      "100%|██████████████████████████████████████████████████████████████████████████████████| 14/14 [00:03<00:00,  3.60it/s]\n"
     ]
    },
    {
     "name": "stdout",
     "output_type": "stream",
     "text": [
      "Train - Emotion Loss: 0.7377, FACS Loss: 0.3926\n",
      "Train - Emotion F1: 0.7505, FACS F1: 0.2770\n",
      "Val - Emotion Loss: 1.0153, FACS Loss: 0.4728\n",
      "Val - Emotion F1: 0.3238, FACS F1: 0.1305\n",
      "\n",
      "Epoch 38/100\n"
     ]
    },
    {
     "name": "stderr",
     "output_type": "stream",
     "text": [
      "100%|██████████████████████████████████████████████████████████████████████████████████| 14/14 [00:03<00:00,  3.59it/s]\n"
     ]
    },
    {
     "name": "stdout",
     "output_type": "stream",
     "text": [
      "Train - Emotion Loss: 0.7155, FACS Loss: 0.3866\n",
      "Train - Emotion F1: 0.7601, FACS F1: 0.3117\n",
      "Val - Emotion Loss: 1.0283, FACS Loss: 0.4934\n",
      "Val - Emotion F1: 0.4358, FACS F1: 0.1410\n",
      "\n",
      "Epoch 39/100\n"
     ]
    },
    {
     "name": "stderr",
     "output_type": "stream",
     "text": [
      "100%|██████████████████████████████████████████████████████████████████████████████████| 14/14 [00:03<00:00,  3.61it/s]\n"
     ]
    },
    {
     "name": "stdout",
     "output_type": "stream",
     "text": [
      "Train - Emotion Loss: 0.7260, FACS Loss: 0.3788\n",
      "Train - Emotion F1: 0.7442, FACS F1: 0.3275\n",
      "Val - Emotion Loss: 1.0735, FACS Loss: 0.4989\n",
      "Val - Emotion F1: 0.3958, FACS F1: 0.1459\n",
      "\n",
      "Epoch 40/100\n"
     ]
    },
    {
     "name": "stderr",
     "output_type": "stream",
     "text": [
      "100%|██████████████████████████████████████████████████████████████████████████████████| 14/14 [00:03<00:00,  3.59it/s]\n"
     ]
    },
    {
     "name": "stdout",
     "output_type": "stream",
     "text": [
      "Train - Emotion Loss: 0.6781, FACS Loss: 0.3673\n",
      "Train - Emotion F1: 0.8544, FACS F1: 0.3601\n",
      "Val - Emotion Loss: 1.0076, FACS Loss: 0.5159\n",
      "Val - Emotion F1: 0.3868, FACS F1: 0.1583\n",
      "\n",
      "Epoch 41/100\n"
     ]
    },
    {
     "name": "stderr",
     "output_type": "stream",
     "text": [
      "100%|██████████████████████████████████████████████████████████████████████████████████| 14/14 [00:03<00:00,  3.60it/s]\n"
     ]
    },
    {
     "name": "stdout",
     "output_type": "stream",
     "text": [
      "Train - Emotion Loss: 0.6924, FACS Loss: 0.3798\n",
      "Train - Emotion F1: 0.8159, FACS F1: 0.3661\n",
      "Val - Emotion Loss: 0.9487, FACS Loss: 0.4494\n",
      "Val - Emotion F1: 0.4437, FACS F1: 0.2003\n",
      "\n",
      "Epoch 42/100\n"
     ]
    },
    {
     "name": "stderr",
     "output_type": "stream",
     "text": [
      "100%|██████████████████████████████████████████████████████████████████████████████████| 14/14 [00:03<00:00,  3.61it/s]\n"
     ]
    },
    {
     "name": "stdout",
     "output_type": "stream",
     "text": [
      "Train - Emotion Loss: 0.6377, FACS Loss: 0.3531\n",
      "Train - Emotion F1: 0.8904, FACS F1: 0.3770\n",
      "Val - Emotion Loss: 1.0120, FACS Loss: 0.4448\n",
      "Val - Emotion F1: 0.3826, FACS F1: 0.1849\n",
      "\n",
      "Epoch 43/100\n"
     ]
    },
    {
     "name": "stderr",
     "output_type": "stream",
     "text": [
      "100%|██████████████████████████████████████████████████████████████████████████████████| 14/14 [00:03<00:00,  3.60it/s]\n"
     ]
    },
    {
     "name": "stdout",
     "output_type": "stream",
     "text": [
      "Train - Emotion Loss: 0.6287, FACS Loss: 0.3456\n",
      "Train - Emotion F1: 0.9032, FACS F1: 0.3837\n",
      "Val - Emotion Loss: 0.9399, FACS Loss: 0.4572\n",
      "Val - Emotion F1: 0.5418, FACS F1: 0.2323\n",
      "\n",
      "Epoch 44/100\n"
     ]
    },
    {
     "name": "stderr",
     "output_type": "stream",
     "text": [
      "100%|██████████████████████████████████████████████████████████████████████████████████| 14/14 [00:03<00:00,  3.59it/s]\n"
     ]
    },
    {
     "name": "stdout",
     "output_type": "stream",
     "text": [
      "Train - Emotion Loss: 0.6435, FACS Loss: 0.3479\n",
      "Train - Emotion F1: 0.8644, FACS F1: 0.4162\n",
      "Val - Emotion Loss: 0.9880, FACS Loss: 0.4646\n",
      "Val - Emotion F1: 0.3564, FACS F1: 0.2132\n",
      "\n",
      "Epoch 45/100\n"
     ]
    },
    {
     "name": "stderr",
     "output_type": "stream",
     "text": [
      "100%|██████████████████████████████████████████████████████████████████████████████████| 14/14 [00:03<00:00,  3.58it/s]\n"
     ]
    },
    {
     "name": "stdout",
     "output_type": "stream",
     "text": [
      "Train - Emotion Loss: 0.6636, FACS Loss: 0.3481\n",
      "Train - Emotion F1: 0.8391, FACS F1: 0.4170\n",
      "Val - Emotion Loss: 0.9565, FACS Loss: 0.5016\n",
      "Val - Emotion F1: 0.4147, FACS F1: 0.1686\n",
      "\n",
      "Epoch 46/100\n"
     ]
    },
    {
     "name": "stderr",
     "output_type": "stream",
     "text": [
      "100%|██████████████████████████████████████████████████████████████████████████████████| 14/14 [00:03<00:00,  3.58it/s]\n"
     ]
    },
    {
     "name": "stdout",
     "output_type": "stream",
     "text": [
      "Train - Emotion Loss: 0.6205, FACS Loss: 0.3365\n",
      "Train - Emotion F1: 0.9134, FACS F1: 0.4383\n",
      "Val - Emotion Loss: 1.0142, FACS Loss: 0.4578\n",
      "Val - Emotion F1: 0.3821, FACS F1: 0.1611\n",
      "\n",
      "Epoch 47/100\n"
     ]
    },
    {
     "name": "stderr",
     "output_type": "stream",
     "text": [
      "100%|██████████████████████████████████████████████████████████████████████████████████| 14/14 [00:03<00:00,  3.59it/s]\n"
     ]
    },
    {
     "name": "stdout",
     "output_type": "stream",
     "text": [
      "Train - Emotion Loss: 0.6149, FACS Loss: 0.3360\n",
      "Train - Emotion F1: 0.9299, FACS F1: 0.4365\n",
      "Val - Emotion Loss: 0.9776, FACS Loss: 0.4780\n",
      "Val - Emotion F1: 0.4837, FACS F1: 0.2064\n",
      "\n",
      "Epoch 48/100\n"
     ]
    },
    {
     "name": "stderr",
     "output_type": "stream",
     "text": [
      "100%|██████████████████████████████████████████████████████████████████████████████████| 14/14 [00:03<00:00,  3.59it/s]\n"
     ]
    },
    {
     "name": "stdout",
     "output_type": "stream",
     "text": [
      "Train - Emotion Loss: 0.6127, FACS Loss: 0.3337\n",
      "Train - Emotion F1: 0.9209, FACS F1: 0.4395\n",
      "Val - Emotion Loss: 1.0328, FACS Loss: 0.6653\n",
      "Val - Emotion F1: 0.4167, FACS F1: 0.1730\n",
      "\n",
      "Epoch 49/100\n"
     ]
    },
    {
     "name": "stderr",
     "output_type": "stream",
     "text": [
      "100%|██████████████████████████████████████████████████████████████████████████████████| 14/14 [00:03<00:00,  3.58it/s]\n"
     ]
    },
    {
     "name": "stdout",
     "output_type": "stream",
     "text": [
      "Train - Emotion Loss: 0.6122, FACS Loss: 0.3307\n",
      "Train - Emotion F1: 0.9289, FACS F1: 0.4580\n",
      "Val - Emotion Loss: 0.9726, FACS Loss: 0.5022\n",
      "Val - Emotion F1: 0.3968, FACS F1: 0.1764\n",
      "\n",
      "Epoch 50/100\n"
     ]
    },
    {
     "name": "stderr",
     "output_type": "stream",
     "text": [
      "100%|██████████████████████████████████████████████████████████████████████████████████| 14/14 [00:03<00:00,  3.57it/s]\n"
     ]
    },
    {
     "name": "stdout",
     "output_type": "stream",
     "text": [
      "Train - Emotion Loss: 0.6280, FACS Loss: 0.3325\n",
      "Train - Emotion F1: 0.9093, FACS F1: 0.4279\n",
      "Val - Emotion Loss: 0.9427, FACS Loss: 0.4830\n",
      "Val - Emotion F1: 0.5113, FACS F1: 0.2340\n",
      "\n",
      "Epoch 51/100\n"
     ]
    },
    {
     "name": "stderr",
     "output_type": "stream",
     "text": [
      "100%|██████████████████████████████████████████████████████████████████████████████████| 14/14 [00:03<00:00,  3.58it/s]\n"
     ]
    },
    {
     "name": "stdout",
     "output_type": "stream",
     "text": [
      "Train - Emotion Loss: 0.6133, FACS Loss: 0.3286\n",
      "Train - Emotion F1: 0.9269, FACS F1: 0.4367\n",
      "Val - Emotion Loss: 0.9450, FACS Loss: 0.4984\n",
      "Val - Emotion F1: 0.4271, FACS F1: 0.1705\n",
      "\n",
      "Epoch 52/100\n"
     ]
    },
    {
     "name": "stderr",
     "output_type": "stream",
     "text": [
      "100%|██████████████████████████████████████████████████████████████████████████████████| 14/14 [00:03<00:00,  3.58it/s]\n"
     ]
    },
    {
     "name": "stdout",
     "output_type": "stream",
     "text": [
      "Train - Emotion Loss: 0.6009, FACS Loss: 0.3130\n",
      "Train - Emotion F1: 0.9447, FACS F1: 0.4714\n",
      "Val - Emotion Loss: 0.9487, FACS Loss: 0.4465\n",
      "Val - Emotion F1: 0.4273, FACS F1: 0.2075\n",
      "\n",
      "Epoch 53/100\n"
     ]
    },
    {
     "name": "stderr",
     "output_type": "stream",
     "text": [
      "100%|██████████████████████████████████████████████████████████████████████████████████| 14/14 [00:03<00:00,  3.59it/s]\n"
     ]
    },
    {
     "name": "stdout",
     "output_type": "stream",
     "text": [
      "Train - Emotion Loss: 0.5811, FACS Loss: 0.3124\n",
      "Train - Emotion F1: 0.9720, FACS F1: 0.4707\n",
      "Val - Emotion Loss: 0.8921, FACS Loss: 0.4460\n",
      "Val - Emotion F1: 0.5189, FACS F1: 0.2247\n",
      "\n",
      "Epoch 54/100\n"
     ]
    },
    {
     "name": "stderr",
     "output_type": "stream",
     "text": [
      "100%|██████████████████████████████████████████████████████████████████████████████████| 14/14 [00:03<00:00,  3.58it/s]\n"
     ]
    },
    {
     "name": "stdout",
     "output_type": "stream",
     "text": [
      "Train - Emotion Loss: 0.5673, FACS Loss: 0.3007\n",
      "Train - Emotion F1: 0.9867, FACS F1: 0.4820\n",
      "Val - Emotion Loss: 0.9060, FACS Loss: 0.4473\n",
      "Val - Emotion F1: 0.5098, FACS F1: 0.2312\n",
      "\n",
      "Epoch 55/100\n"
     ]
    },
    {
     "name": "stderr",
     "output_type": "stream",
     "text": [
      "100%|██████████████████████████████████████████████████████████████████████████████████| 14/14 [00:03<00:00,  3.59it/s]\n"
     ]
    },
    {
     "name": "stdout",
     "output_type": "stream",
     "text": [
      "Train - Emotion Loss: 0.5808, FACS Loss: 0.3016\n",
      "Train - Emotion F1: 0.9659, FACS F1: 0.4964\n",
      "Val - Emotion Loss: 0.8732, FACS Loss: 0.4370\n",
      "Val - Emotion F1: 0.5269, FACS F1: 0.2233\n",
      "\n",
      "Epoch 56/100\n"
     ]
    },
    {
     "name": "stderr",
     "output_type": "stream",
     "text": [
      "100%|██████████████████████████████████████████████████████████████████████████████████| 14/14 [00:03<00:00,  3.57it/s]\n"
     ]
    },
    {
     "name": "stdout",
     "output_type": "stream",
     "text": [
      "Train - Emotion Loss: 0.5709, FACS Loss: 0.2933\n",
      "Train - Emotion F1: 0.9793, FACS F1: 0.5056\n",
      "Val - Emotion Loss: 0.8702, FACS Loss: 0.4491\n",
      "Val - Emotion F1: 0.5835, FACS F1: 0.2636\n",
      "\n",
      "Epoch 57/100\n"
     ]
    },
    {
     "name": "stderr",
     "output_type": "stream",
     "text": [
      "100%|██████████████████████████████████████████████████████████████████████████████████| 14/14 [00:03<00:00,  3.58it/s]\n"
     ]
    },
    {
     "name": "stdout",
     "output_type": "stream",
     "text": [
      "Train - Emotion Loss: 0.5855, FACS Loss: 0.2888\n",
      "Train - Emotion F1: 0.9646, FACS F1: 0.4907\n",
      "Val - Emotion Loss: 0.9274, FACS Loss: 0.4520\n",
      "Val - Emotion F1: 0.5063, FACS F1: 0.2623\n",
      "\n",
      "Epoch 58/100\n"
     ]
    },
    {
     "name": "stderr",
     "output_type": "stream",
     "text": [
      "100%|██████████████████████████████████████████████████████████████████████████████████| 14/14 [00:03<00:00,  3.59it/s]\n"
     ]
    },
    {
     "name": "stdout",
     "output_type": "stream",
     "text": [
      "Train - Emotion Loss: 0.5823, FACS Loss: 0.2914\n",
      "Train - Emotion F1: 0.9688, FACS F1: 0.5156\n",
      "Val - Emotion Loss: 0.9120, FACS Loss: 0.4591\n",
      "Val - Emotion F1: 0.5147, FACS F1: 0.2252\n",
      "\n",
      "Epoch 59/100\n"
     ]
    },
    {
     "name": "stderr",
     "output_type": "stream",
     "text": [
      "100%|██████████████████████████████████████████████████████████████████████████████████| 14/14 [00:03<00:00,  3.59it/s]\n"
     ]
    },
    {
     "name": "stdout",
     "output_type": "stream",
     "text": [
      "Train - Emotion Loss: 0.5760, FACS Loss: 0.2821\n",
      "Train - Emotion F1: 0.9732, FACS F1: 0.5290\n",
      "Val - Emotion Loss: 0.8899, FACS Loss: 0.4635\n",
      "Val - Emotion F1: 0.5434, FACS F1: 0.2680\n",
      "\n",
      "Epoch 60/100\n"
     ]
    },
    {
     "name": "stderr",
     "output_type": "stream",
     "text": [
      "100%|██████████████████████████████████████████████████████████████████████████████████| 14/14 [00:03<00:00,  3.52it/s]\n"
     ]
    },
    {
     "name": "stdout",
     "output_type": "stream",
     "text": [
      "Train - Emotion Loss: 0.5838, FACS Loss: 0.2806\n",
      "Train - Emotion F1: 0.9624, FACS F1: 0.5146\n",
      "Val - Emotion Loss: 0.8620, FACS Loss: 0.4685\n",
      "Val - Emotion F1: 0.6071, FACS F1: 0.2940\n",
      "\n",
      "Epoch 61/100\n"
     ]
    },
    {
     "name": "stderr",
     "output_type": "stream",
     "text": [
      "100%|██████████████████████████████████████████████████████████████████████████████████| 14/14 [00:03<00:00,  3.60it/s]\n"
     ]
    },
    {
     "name": "stdout",
     "output_type": "stream",
     "text": [
      "Train - Emotion Loss: 0.5793, FACS Loss: 0.2810\n",
      "Train - Emotion F1: 0.9670, FACS F1: 0.5303\n",
      "Val - Emotion Loss: 0.8865, FACS Loss: 0.4813\n",
      "Val - Emotion F1: 0.5600, FACS F1: 0.2622\n",
      "\n",
      "Epoch 62/100\n"
     ]
    },
    {
     "name": "stderr",
     "output_type": "stream",
     "text": [
      "100%|██████████████████████████████████████████████████████████████████████████████████| 14/14 [00:03<00:00,  3.57it/s]\n"
     ]
    },
    {
     "name": "stdout",
     "output_type": "stream",
     "text": [
      "Train - Emotion Loss: 0.5888, FACS Loss: 0.2909\n",
      "Train - Emotion F1: 0.9488, FACS F1: 0.5057\n",
      "Val - Emotion Loss: 0.8930, FACS Loss: 0.4575\n",
      "Val - Emotion F1: 0.5909, FACS F1: 0.2673\n",
      "\n",
      "Epoch 63/100\n"
     ]
    },
    {
     "name": "stderr",
     "output_type": "stream",
     "text": [
      "100%|██████████████████████████████████████████████████████████████████████████████████| 14/14 [00:03<00:00,  3.57it/s]\n"
     ]
    },
    {
     "name": "stdout",
     "output_type": "stream",
     "text": [
      "Train - Emotion Loss: 0.5851, FACS Loss: 0.2871\n",
      "Train - Emotion F1: 0.9590, FACS F1: 0.5200\n",
      "Val - Emotion Loss: 0.9224, FACS Loss: 0.4553\n",
      "Val - Emotion F1: 0.5582, FACS F1: 0.2892\n",
      "\n",
      "Epoch 64/100\n"
     ]
    },
    {
     "name": "stderr",
     "output_type": "stream",
     "text": [
      "100%|██████████████████████████████████████████████████████████████████████████████████| 14/14 [00:03<00:00,  3.60it/s]\n"
     ]
    },
    {
     "name": "stdout",
     "output_type": "stream",
     "text": [
      "Train - Emotion Loss: 0.5857, FACS Loss: 0.2834\n",
      "Train - Emotion F1: 0.9627, FACS F1: 0.5147\n",
      "Val - Emotion Loss: 0.9439, FACS Loss: 0.4960\n",
      "Val - Emotion F1: 0.4306, FACS F1: 0.1843\n",
      "\n",
      "Epoch 65/100\n"
     ]
    },
    {
     "name": "stderr",
     "output_type": "stream",
     "text": [
      "100%|██████████████████████████████████████████████████████████████████████████████████| 14/14 [00:03<00:00,  3.59it/s]\n"
     ]
    },
    {
     "name": "stdout",
     "output_type": "stream",
     "text": [
      "Train - Emotion Loss: 0.5806, FACS Loss: 0.2752\n",
      "Train - Emotion F1: 0.9717, FACS F1: 0.5171\n",
      "Val - Emotion Loss: 0.8972, FACS Loss: 0.4615\n",
      "Val - Emotion F1: 0.5113, FACS F1: 0.2473\n",
      "\n",
      "Epoch 66/100\n"
     ]
    },
    {
     "name": "stderr",
     "output_type": "stream",
     "text": [
      "100%|██████████████████████████████████████████████████████████████████████████████████| 14/14 [00:03<00:00,  3.60it/s]\n"
     ]
    },
    {
     "name": "stdout",
     "output_type": "stream",
     "text": [
      "Train - Emotion Loss: 0.5891, FACS Loss: 0.2738\n",
      "Train - Emotion F1: 0.9578, FACS F1: 0.5451\n",
      "Val - Emotion Loss: 0.9112, FACS Loss: 0.4421\n",
      "Val - Emotion F1: 0.5401, FACS F1: 0.2879\n",
      "\n",
      "Epoch 67/100\n"
     ]
    },
    {
     "name": "stderr",
     "output_type": "stream",
     "text": [
      "100%|██████████████████████████████████████████████████████████████████████████████████| 14/14 [00:03<00:00,  3.57it/s]\n"
     ]
    },
    {
     "name": "stdout",
     "output_type": "stream",
     "text": [
      "Train - Emotion Loss: 0.5809, FACS Loss: 0.2729\n",
      "Train - Emotion F1: 0.9677, FACS F1: 0.5404\n",
      "Val - Emotion Loss: 0.9422, FACS Loss: 0.4613\n",
      "Val - Emotion F1: 0.5110, FACS F1: 0.2597\n",
      "\n",
      "Epoch 68/100\n"
     ]
    },
    {
     "name": "stderr",
     "output_type": "stream",
     "text": [
      "100%|██████████████████████████████████████████████████████████████████████████████████| 14/14 [00:03<00:00,  3.60it/s]\n"
     ]
    },
    {
     "name": "stdout",
     "output_type": "stream",
     "text": [
      "Train - Emotion Loss: 0.5688, FACS Loss: 0.2577\n",
      "Train - Emotion F1: 0.9842, FACS F1: 0.5663\n",
      "Val - Emotion Loss: 0.9004, FACS Loss: 0.4282\n",
      "Val - Emotion F1: 0.5434, FACS F1: 0.2969\n",
      "\n",
      "Epoch 69/100\n"
     ]
    },
    {
     "name": "stderr",
     "output_type": "stream",
     "text": [
      "100%|██████████████████████████████████████████████████████████████████████████████████| 14/14 [00:03<00:00,  3.61it/s]\n"
     ]
    },
    {
     "name": "stdout",
     "output_type": "stream",
     "text": [
      "Train - Emotion Loss: 0.5776, FACS Loss: 0.2540\n",
      "Train - Emotion F1: 0.9638, FACS F1: 0.5541\n",
      "Val - Emotion Loss: 0.9120, FACS Loss: 0.4713\n",
      "Val - Emotion F1: 0.5660, FACS F1: 0.2936\n",
      "\n",
      "Epoch 70/100\n"
     ]
    },
    {
     "name": "stderr",
     "output_type": "stream",
     "text": [
      "100%|██████████████████████████████████████████████████████████████████████████████████| 14/14 [00:03<00:00,  3.60it/s]\n"
     ]
    },
    {
     "name": "stdout",
     "output_type": "stream",
     "text": [
      "Train - Emotion Loss: 0.5820, FACS Loss: 0.2431\n",
      "Train - Emotion F1: 0.9626, FACS F1: 0.5755\n",
      "Val - Emotion Loss: 0.9125, FACS Loss: 0.4995\n",
      "Val - Emotion F1: 0.4969, FACS F1: 0.2287\n",
      "\n",
      "Epoch 71/100\n"
     ]
    },
    {
     "name": "stderr",
     "output_type": "stream",
     "text": [
      "100%|██████████████████████████████████████████████████████████████████████████████████| 14/14 [00:03<00:00,  3.59it/s]\n"
     ]
    },
    {
     "name": "stdout",
     "output_type": "stream",
     "text": [
      "Train - Emotion Loss: 0.5624, FACS Loss: 0.2428\n",
      "Train - Emotion F1: 0.9916, FACS F1: 0.5728\n",
      "Val - Emotion Loss: 0.8881, FACS Loss: 0.4835\n",
      "Val - Emotion F1: 0.5247, FACS F1: 0.2568\n",
      "\n",
      "Epoch 72/100\n"
     ]
    },
    {
     "name": "stderr",
     "output_type": "stream",
     "text": [
      "100%|██████████████████████████████████████████████████████████████████████████████████| 14/14 [00:03<00:00,  3.58it/s]\n"
     ]
    },
    {
     "name": "stdout",
     "output_type": "stream",
     "text": [
      "Train - Emotion Loss: 0.5691, FACS Loss: 0.2411\n",
      "Train - Emotion F1: 0.9771, FACS F1: 0.5767\n",
      "Val - Emotion Loss: 0.9054, FACS Loss: 0.4772\n",
      "Val - Emotion F1: 0.4878, FACS F1: 0.2556\n",
      "\n",
      "Epoch 73/100\n"
     ]
    },
    {
     "name": "stderr",
     "output_type": "stream",
     "text": [
      "100%|██████████████████████████████████████████████████████████████████████████████████| 14/14 [00:03<00:00,  3.58it/s]\n"
     ]
    },
    {
     "name": "stdout",
     "output_type": "stream",
     "text": [
      "Train - Emotion Loss: 0.5669, FACS Loss: 0.2425\n",
      "Train - Emotion F1: 0.9869, FACS F1: 0.5896\n",
      "Val - Emotion Loss: 0.9304, FACS Loss: 0.4605\n",
      "Val - Emotion F1: 0.4449, FACS F1: 0.2790\n",
      "\n",
      "Epoch 74/100\n"
     ]
    },
    {
     "name": "stderr",
     "output_type": "stream",
     "text": [
      "100%|██████████████████████████████████████████████████████████████████████████████████| 14/14 [00:03<00:00,  3.56it/s]\n"
     ]
    },
    {
     "name": "stdout",
     "output_type": "stream",
     "text": [
      "Train - Emotion Loss: 0.5720, FACS Loss: 0.2233\n",
      "Train - Emotion F1: 0.9819, FACS F1: 0.6152\n",
      "Val - Emotion Loss: 0.9391, FACS Loss: 0.5392\n",
      "Val - Emotion F1: 0.4321, FACS F1: 0.2247\n",
      "\n",
      "Epoch 75/100\n"
     ]
    },
    {
     "name": "stderr",
     "output_type": "stream",
     "text": [
      "100%|██████████████████████████████████████████████████████████████████████████████████| 14/14 [00:03<00:00,  3.59it/s]\n"
     ]
    },
    {
     "name": "stdout",
     "output_type": "stream",
     "text": [
      "Train - Emotion Loss: 0.5610, FACS Loss: 0.2320\n",
      "Train - Emotion F1: 0.9893, FACS F1: 0.6063\n",
      "Val - Emotion Loss: 0.9145, FACS Loss: 0.4768\n",
      "Val - Emotion F1: 0.4587, FACS F1: 0.2536\n",
      "\n",
      "Epoch 76/100\n"
     ]
    },
    {
     "name": "stderr",
     "output_type": "stream",
     "text": [
      "100%|██████████████████████████████████████████████████████████████████████████████████| 14/14 [00:03<00:00,  3.58it/s]\n"
     ]
    },
    {
     "name": "stdout",
     "output_type": "stream",
     "text": [
      "Train - Emotion Loss: 0.5558, FACS Loss: 0.2201\n",
      "Train - Emotion F1: 0.9976, FACS F1: 0.6238\n",
      "Val - Emotion Loss: 0.9024, FACS Loss: 0.5149\n",
      "Val - Emotion F1: 0.5101, FACS F1: 0.2508\n",
      "\n",
      "Epoch 77/100\n"
     ]
    },
    {
     "name": "stderr",
     "output_type": "stream",
     "text": [
      "100%|██████████████████████████████████████████████████████████████████████████████████| 14/14 [00:03<00:00,  3.61it/s]\n"
     ]
    },
    {
     "name": "stdout",
     "output_type": "stream",
     "text": [
      "Train - Emotion Loss: 0.5549, FACS Loss: 0.2160\n",
      "Train - Emotion F1: 0.9976, FACS F1: 0.6138\n",
      "Val - Emotion Loss: 0.9071, FACS Loss: 0.4719\n",
      "Val - Emotion F1: 0.5160, FACS F1: 0.2629\n",
      "\n",
      "Epoch 78/100\n"
     ]
    },
    {
     "name": "stderr",
     "output_type": "stream",
     "text": [
      "100%|██████████████████████████████████████████████████████████████████████████████████| 14/14 [00:03<00:00,  3.59it/s]\n"
     ]
    },
    {
     "name": "stdout",
     "output_type": "stream",
     "text": [
      "Train - Emotion Loss: 0.5568, FACS Loss: 0.2022\n",
      "Train - Emotion F1: 0.9951, FACS F1: 0.6659\n",
      "Val - Emotion Loss: 0.9148, FACS Loss: 0.4590\n",
      "Val - Emotion F1: 0.4635, FACS F1: 0.2922\n",
      "\n",
      "Epoch 79/100\n"
     ]
    },
    {
     "name": "stderr",
     "output_type": "stream",
     "text": [
      "100%|██████████████████████████████████████████████████████████████████████████████████| 14/14 [00:03<00:00,  3.59it/s]\n"
     ]
    },
    {
     "name": "stdout",
     "output_type": "stream",
     "text": [
      "Train - Emotion Loss: 0.5605, FACS Loss: 0.2004\n",
      "Train - Emotion F1: 0.9843, FACS F1: 0.6612\n",
      "Val - Emotion Loss: 0.9003, FACS Loss: 0.4714\n",
      "Val - Emotion F1: 0.5305, FACS F1: 0.2982\n",
      "\n",
      "Epoch 80/100\n"
     ]
    },
    {
     "name": "stderr",
     "output_type": "stream",
     "text": [
      "100%|██████████████████████████████████████████████████████████████████████████████████| 14/14 [00:03<00:00,  3.58it/s]\n"
     ]
    },
    {
     "name": "stdout",
     "output_type": "stream",
     "text": [
      "Train - Emotion Loss: 0.5568, FACS Loss: 0.1932\n",
      "Train - Emotion F1: 0.9951, FACS F1: 0.6836\n",
      "Val - Emotion Loss: 0.8962, FACS Loss: 0.5016\n",
      "Val - Emotion F1: 0.5459, FACS F1: 0.2642\n",
      "\n",
      "Epoch 81/100\n"
     ]
    },
    {
     "name": "stderr",
     "output_type": "stream",
     "text": [
      "100%|██████████████████████████████████████████████████████████████████████████████████| 14/14 [00:03<00:00,  3.56it/s]\n"
     ]
    },
    {
     "name": "stdout",
     "output_type": "stream",
     "text": [
      "Train - Emotion Loss: 0.5666, FACS Loss: 0.1921\n",
      "Train - Emotion F1: 0.9818, FACS F1: 0.6670\n",
      "Val - Emotion Loss: 0.9401, FACS Loss: 0.4621\n",
      "Val - Emotion F1: 0.4850, FACS F1: 0.2846\n",
      "\n",
      "Epoch 82/100\n"
     ]
    },
    {
     "name": "stderr",
     "output_type": "stream",
     "text": [
      "100%|██████████████████████████████████████████████████████████████████████████████████| 14/14 [00:03<00:00,  3.60it/s]\n"
     ]
    },
    {
     "name": "stdout",
     "output_type": "stream",
     "text": [
      "Train - Emotion Loss: 0.5638, FACS Loss: 0.1963\n",
      "Train - Emotion F1: 0.9858, FACS F1: 0.6878\n",
      "Val - Emotion Loss: 0.9501, FACS Loss: 0.4827\n",
      "Val - Emotion F1: 0.4980, FACS F1: 0.2796\n",
      "\n",
      "Epoch 83/100\n"
     ]
    },
    {
     "name": "stderr",
     "output_type": "stream",
     "text": [
      "100%|██████████████████████████████████████████████████████████████████████████████████| 14/14 [00:03<00:00,  3.57it/s]\n"
     ]
    },
    {
     "name": "stdout",
     "output_type": "stream",
     "text": [
      "Train - Emotion Loss: 0.5608, FACS Loss: 0.2003\n",
      "Train - Emotion F1: 0.9906, FACS F1: 0.6608\n",
      "Val - Emotion Loss: 0.9555, FACS Loss: 0.5895\n",
      "Val - Emotion F1: 0.4582, FACS F1: 0.1732\n",
      "\n",
      "Epoch 84/100\n"
     ]
    },
    {
     "name": "stderr",
     "output_type": "stream",
     "text": [
      "100%|██████████████████████████████████████████████████████████████████████████████████| 14/14 [00:03<00:00,  3.59it/s]\n"
     ]
    },
    {
     "name": "stdout",
     "output_type": "stream",
     "text": [
      "Train - Emotion Loss: 0.5617, FACS Loss: 0.1897\n",
      "Train - Emotion F1: 0.9879, FACS F1: 0.6852\n",
      "Val - Emotion Loss: 0.9065, FACS Loss: 0.5180\n",
      "Val - Emotion F1: 0.5227, FACS F1: 0.2913\n",
      "\n",
      "Epoch 85/100\n"
     ]
    },
    {
     "name": "stderr",
     "output_type": "stream",
     "text": [
      "100%|██████████████████████████████████████████████████████████████████████████████████| 14/14 [00:03<00:00,  3.61it/s]\n"
     ]
    },
    {
     "name": "stdout",
     "output_type": "stream",
     "text": [
      "Train - Emotion Loss: 0.5575, FACS Loss: 0.1790\n",
      "Train - Emotion F1: 0.9976, FACS F1: 0.7066\n",
      "Val - Emotion Loss: 0.9139, FACS Loss: 0.5085\n",
      "Val - Emotion F1: 0.5205, FACS F1: 0.2505\n",
      "\n",
      "Epoch 86/100\n"
     ]
    },
    {
     "name": "stderr",
     "output_type": "stream",
     "text": [
      "100%|██████████████████████████████████████████████████████████████████████████████████| 14/14 [00:03<00:00,  3.57it/s]\n"
     ]
    },
    {
     "name": "stdout",
     "output_type": "stream",
     "text": [
      "Train - Emotion Loss: 0.5597, FACS Loss: 0.1733\n",
      "Train - Emotion F1: 0.9914, FACS F1: 0.7169\n",
      "Val - Emotion Loss: 0.9207, FACS Loss: 0.4804\n",
      "Val - Emotion F1: 0.5424, FACS F1: 0.2927\n",
      "\n",
      "Epoch 87/100\n"
     ]
    },
    {
     "name": "stderr",
     "output_type": "stream",
     "text": [
      "100%|██████████████████████████████████████████████████████████████████████████████████| 14/14 [00:03<00:00,  3.60it/s]\n"
     ]
    },
    {
     "name": "stdout",
     "output_type": "stream",
     "text": [
      "Train - Emotion Loss: 0.5602, FACS Loss: 0.1728\n",
      "Train - Emotion F1: 0.9903, FACS F1: 0.7201\n",
      "Val - Emotion Loss: 0.9263, FACS Loss: 0.5703\n",
      "Val - Emotion F1: 0.5034, FACS F1: 0.2215\n",
      "\n",
      "Epoch 88/100\n"
     ]
    },
    {
     "name": "stderr",
     "output_type": "stream",
     "text": [
      "100%|██████████████████████████████████████████████████████████████████████████████████| 14/14 [00:03<00:00,  3.59it/s]\n"
     ]
    },
    {
     "name": "stdout",
     "output_type": "stream",
     "text": [
      "Train - Emotion Loss: 0.5546, FACS Loss: 0.1722\n",
      "Train - Emotion F1: 1.0000, FACS F1: 0.7372\n",
      "Val - Emotion Loss: 0.9090, FACS Loss: 0.4759\n",
      "Val - Emotion F1: 0.5262, FACS F1: 0.2947\n",
      "\n",
      "Epoch 89/100\n"
     ]
    },
    {
     "name": "stderr",
     "output_type": "stream",
     "text": [
      "100%|██████████████████████████████████████████████████████████████████████████████████| 14/14 [00:03<00:00,  3.62it/s]\n"
     ]
    },
    {
     "name": "stdout",
     "output_type": "stream",
     "text": [
      "Train - Emotion Loss: 0.5523, FACS Loss: 0.1643\n",
      "Train - Emotion F1: 1.0000, FACS F1: 0.7421\n",
      "Val - Emotion Loss: 0.9170, FACS Loss: 0.5211\n",
      "Val - Emotion F1: 0.5410, FACS F1: 0.2916\n",
      "\n",
      "Epoch 90/100\n"
     ]
    },
    {
     "name": "stderr",
     "output_type": "stream",
     "text": [
      "100%|██████████████████████████████████████████████████████████████████████████████████| 14/14 [00:03<00:00,  3.59it/s]\n"
     ]
    },
    {
     "name": "stdout",
     "output_type": "stream",
     "text": [
      "Train - Emotion Loss: 0.5580, FACS Loss: 0.1577\n",
      "Train - Emotion F1: 0.9916, FACS F1: 0.7565\n",
      "Val - Emotion Loss: 0.8957, FACS Loss: 0.5228\n",
      "Val - Emotion F1: 0.5759, FACS F1: 0.2792\n",
      "\n",
      "Epoch 91/100\n"
     ]
    },
    {
     "name": "stderr",
     "output_type": "stream",
     "text": [
      "100%|██████████████████████████████████████████████████████████████████████████████████| 14/14 [00:03<00:00,  3.59it/s]\n"
     ]
    },
    {
     "name": "stdout",
     "output_type": "stream",
     "text": [
      "Train - Emotion Loss: 0.5568, FACS Loss: 0.1590\n",
      "Train - Emotion F1: 0.9951, FACS F1: 0.7564\n",
      "Val - Emotion Loss: 0.9209, FACS Loss: 0.4877\n",
      "Val - Emotion F1: 0.5137, FACS F1: 0.3497\n",
      "\n",
      "Epoch 92/100\n"
     ]
    },
    {
     "name": "stderr",
     "output_type": "stream",
     "text": [
      "100%|██████████████████████████████████████████████████████████████████████████████████| 14/14 [00:03<00:00,  3.61it/s]\n"
     ]
    },
    {
     "name": "stdout",
     "output_type": "stream",
     "text": [
      "Train - Emotion Loss: 0.5562, FACS Loss: 0.1608\n",
      "Train - Emotion F1: 0.9951, FACS F1: 0.7606\n",
      "Val - Emotion Loss: 0.9188, FACS Loss: 0.6481\n",
      "Val - Emotion F1: 0.5037, FACS F1: 0.2011\n",
      "\n",
      "Epoch 93/100\n"
     ]
    },
    {
     "name": "stderr",
     "output_type": "stream",
     "text": [
      "100%|██████████████████████████████████████████████████████████████████████████████████| 14/14 [00:03<00:00,  3.58it/s]\n"
     ]
    },
    {
     "name": "stdout",
     "output_type": "stream",
     "text": [
      "Train - Emotion Loss: 0.5575, FACS Loss: 0.1615\n",
      "Train - Emotion F1: 0.9950, FACS F1: 0.7455\n",
      "Val - Emotion Loss: 0.9282, FACS Loss: 0.5368\n",
      "Val - Emotion F1: 0.4970, FACS F1: 0.3226\n",
      "\n",
      "Epoch 94/100\n"
     ]
    },
    {
     "name": "stderr",
     "output_type": "stream",
     "text": [
      "100%|██████████████████████████████████████████████████████████████████████████████████| 14/14 [00:03<00:00,  3.59it/s]\n"
     ]
    },
    {
     "name": "stdout",
     "output_type": "stream",
     "text": [
      "Train - Emotion Loss: 0.5566, FACS Loss: 0.1652\n",
      "Train - Emotion F1: 0.9949, FACS F1: 0.7391\n",
      "Val - Emotion Loss: 0.9480, FACS Loss: 0.5992\n",
      "Val - Emotion F1: 0.4490, FACS F1: 0.2438\n",
      "\n",
      "Epoch 95/100\n"
     ]
    },
    {
     "name": "stderr",
     "output_type": "stream",
     "text": [
      "100%|██████████████████████████████████████████████████████████████████████████████████| 14/14 [00:03<00:00,  3.59it/s]\n"
     ]
    },
    {
     "name": "stdout",
     "output_type": "stream",
     "text": [
      "Train - Emotion Loss: 0.5607, FACS Loss: 0.1699\n",
      "Train - Emotion F1: 0.9901, FACS F1: 0.7362\n",
      "Val - Emotion Loss: 0.9104, FACS Loss: 0.4901\n",
      "Val - Emotion F1: 0.5328, FACS F1: 0.3100\n",
      "\n",
      "Epoch 96/100\n"
     ]
    },
    {
     "name": "stderr",
     "output_type": "stream",
     "text": [
      "100%|██████████████████████████████████████████████████████████████████████████████████| 14/14 [00:03<00:00,  3.52it/s]\n"
     ]
    },
    {
     "name": "stdout",
     "output_type": "stream",
     "text": [
      "Train - Emotion Loss: 0.5593, FACS Loss: 0.1487\n",
      "Train - Emotion F1: 0.9894, FACS F1: 0.7660\n",
      "Val - Emotion Loss: 0.9095, FACS Loss: 0.5390\n",
      "Val - Emotion F1: 0.5432, FACS F1: 0.2869\n",
      "\n",
      "Epoch 97/100\n"
     ]
    },
    {
     "name": "stderr",
     "output_type": "stream",
     "text": [
      "100%|██████████████████████████████████████████████████████████████████████████████████| 14/14 [00:03<00:00,  3.60it/s]\n"
     ]
    },
    {
     "name": "stdout",
     "output_type": "stream",
     "text": [
      "Train - Emotion Loss: 0.5559, FACS Loss: 0.1498\n",
      "Train - Emotion F1: 0.9953, FACS F1: 0.7726\n",
      "Val - Emotion Loss: 0.9219, FACS Loss: 0.5112\n",
      "Val - Emotion F1: 0.4665, FACS F1: 0.2870\n",
      "\n",
      "Epoch 98/100\n"
     ]
    },
    {
     "name": "stderr",
     "output_type": "stream",
     "text": [
      "100%|██████████████████████████████████████████████████████████████████████████████████| 14/14 [00:03<00:00,  3.60it/s]\n"
     ]
    },
    {
     "name": "stdout",
     "output_type": "stream",
     "text": [
      "Train - Emotion Loss: 0.5637, FACS Loss: 0.1518\n",
      "Train - Emotion F1: 0.9856, FACS F1: 0.7783\n",
      "Val - Emotion Loss: 0.9442, FACS Loss: 0.5991\n",
      "Val - Emotion F1: 0.4709, FACS F1: 0.2814\n",
      "\n",
      "Epoch 99/100\n"
     ]
    },
    {
     "name": "stderr",
     "output_type": "stream",
     "text": [
      "100%|██████████████████████████████████████████████████████████████████████████████████| 14/14 [00:03<00:00,  3.59it/s]\n"
     ]
    },
    {
     "name": "stdout",
     "output_type": "stream",
     "text": [
      "Train - Emotion Loss: 0.5607, FACS Loss: 0.1619\n",
      "Train - Emotion F1: 0.9905, FACS F1: 0.7576\n",
      "Val - Emotion Loss: 0.9108, FACS Loss: 0.5730\n",
      "Val - Emotion F1: 0.5244, FACS F1: 0.3163\n",
      "\n",
      "Epoch 100/100\n"
     ]
    },
    {
     "name": "stderr",
     "output_type": "stream",
     "text": [
      "100%|██████████████████████████████████████████████████████████████████████████████████| 14/14 [00:03<00:00,  3.60it/s]\n"
     ]
    },
    {
     "name": "stdout",
     "output_type": "stream",
     "text": [
      "Train - Emotion Loss: 0.5604, FACS Loss: 0.1532\n",
      "Train - Emotion F1: 0.9903, FACS F1: 0.7623\n",
      "Val - Emotion Loss: 0.8890, FACS Loss: 0.5717\n",
      "Val - Emotion F1: 0.5469, FACS F1: 0.3270\n"
     ]
    }
   ],
   "source": [
    "resnet50_trainer.train(num_epochs = 100)"
   ]
  },
  {
   "cell_type": "code",
   "execution_count": 30,
   "id": "1b0247cc-da9b-4590-9870-b821bc6b0ee1",
   "metadata": {},
   "outputs": [
    {
     "data": {
      "image/png": "[encoded data removed]",
      "text/plain": [
       "<Figure size 1500x1000 with 4 Axes>"
      ]
     },
     "metadata": {},
     "output_type": "display_data"
    }
   ],
   "source": [
    "resnet50_trainer.plot_metrics()"
   ]
  },
  {
   "cell_type": "markdown",
   "id": "680a12da-1c29-4728-9e13-41837233f970",
   "metadata": {},
   "source": [
    "#### Resnet50 pretrained"
   ]
  },
  {
   "cell_type": "code",
   "execution_count": 31,
   "id": "33f01820-6b47-45e7-a56c-ded0d56adb49",
   "metadata": {},
   "outputs": [],
   "source": [
    "resnet50_pretrained = model.EmotionFACsNet(pretrained=True)"
   ]
  },
  {
   "cell_type": "code",
   "execution_count": 32,
   "id": "bee7c3d2-af9b-41a5-bd7b-d38ec91de3b2",
   "metadata": {},
   "outputs": [],
   "source": [
    "resnet50_pretrained_trainer= trainer.EmotionFACsTrainer(resnet50_pretrained, 'resnet50_pretrained', train_loader, val_loader,  patience = 20)"
   ]
  },
  {
   "cell_type": "code",
   "execution_count": 33,
   "id": "f6827e90-6c6b-4226-8350-518b7999d650",
   "metadata": {
    "scrolled": true
   },
   "outputs": [
    {
     "name": "stdout",
     "output_type": "stream",
     "text": [
      "\n",
      "Epoch 1/100\n"
     ]
    },
    {
     "name": "stderr",
     "output_type": "stream",
     "text": [
      "100%|██████████████████████████████████████████████████████████████████████████████████| 14/14 [00:03<00:00,  3.60it/s]\n"
     ]
    },
    {
     "name": "stdout",
     "output_type": "stream",
     "text": [
      "Train - Emotion Loss: 1.0429, FACS Loss: 0.6297\n",
      "Train - Emotion F1: 0.2521, FACS F1: 0.1893\n",
      "Val - Emotion Loss: 0.9509, FACS Loss: 0.5403\n",
      "Val - Emotion F1: 0.2472, FACS F1: 0.0450\n",
      "\n",
      "Epoch 2/100\n"
     ]
    },
    {
     "name": "stderr",
     "output_type": "stream",
     "text": [
      "100%|██████████████████████████████████████████████████████████████████████████████████| 14/14 [00:03<00:00,  3.61it/s]\n"
     ]
    },
    {
     "name": "stdout",
     "output_type": "stream",
     "text": [
      "Train - Emotion Loss: 0.8997, FACS Loss: 0.5214\n",
      "Train - Emotion F1: 0.2460, FACS F1: 0.1115\n",
      "Val - Emotion Loss: 0.9020, FACS Loss: 0.4681\n",
      "Val - Emotion F1: 0.2472, FACS F1: 0.0576\n",
      "\n",
      "Epoch 3/100\n"
     ]
    },
    {
     "name": "stderr",
     "output_type": "stream",
     "text": [
      "100%|██████████████████████████████████████████████████████████████████████████████████| 14/14 [00:03<00:00,  3.58it/s]\n"
     ]
    },
    {
     "name": "stdout",
     "output_type": "stream",
     "text": [
      "Train - Emotion Loss: 0.8053, FACS Loss: 0.4775\n",
      "Train - Emotion F1: 0.5028, FACS F1: 0.1348\n",
      "Val - Emotion Loss: 0.8189, FACS Loss: 0.4318\n",
      "Val - Emotion F1: 0.7454, FACS F1: 0.1331\n",
      "\n",
      "Epoch 4/100\n"
     ]
    },
    {
     "name": "stderr",
     "output_type": "stream",
     "text": [
      "100%|██████████████████████████████████████████████████████████████████████████████████| 14/14 [00:03<00:00,  3.59it/s]\n"
     ]
    },
    {
     "name": "stdout",
     "output_type": "stream",
     "text": [
      "Train - Emotion Loss: 0.6773, FACS Loss: 0.4156\n",
      "Train - Emotion F1: 0.9424, FACS F1: 0.2123\n",
      "Val - Emotion Loss: 0.6801, FACS Loss: 0.3536\n",
      "Val - Emotion F1: 0.8635, FACS F1: 0.2273\n",
      "\n",
      "Epoch 5/100\n"
     ]
    },
    {
     "name": "stderr",
     "output_type": "stream",
     "text": [
      "100%|██████████████████████████████████████████████████████████████████████████████████| 14/14 [00:03<00:00,  3.60it/s]\n"
     ]
    },
    {
     "name": "stdout",
     "output_type": "stream",
     "text": [
      "Train - Emotion Loss: 0.5828, FACS Loss: 0.3491\n",
      "Train - Emotion F1: 0.9772, FACS F1: 0.3545\n",
      "Val - Emotion Loss: 0.6708, FACS Loss: 0.3148\n",
      "Val - Emotion F1: 0.8476, FACS F1: 0.3968\n",
      "\n",
      "Epoch 6/100\n"
     ]
    },
    {
     "name": "stderr",
     "output_type": "stream",
     "text": [
      "100%|██████████████████████████████████████████████████████████████████████████████████| 14/14 [00:03<00:00,  3.58it/s]\n"
     ]
    },
    {
     "name": "stdout",
     "output_type": "stream",
     "text": [
      "Train - Emotion Loss: 0.5795, FACS Loss: 0.3126\n",
      "Train - Emotion F1: 0.9711, FACS F1: 0.4331\n",
      "Val - Emotion Loss: 0.6597, FACS Loss: 0.3017\n",
      "Val - Emotion F1: 0.8771, FACS F1: 0.4026\n",
      "\n",
      "Epoch 7/100\n"
     ]
    },
    {
     "name": "stderr",
     "output_type": "stream",
     "text": [
      "100%|██████████████████████████████████████████████████████████████████████████████████| 14/14 [00:03<00:00,  3.58it/s]\n"
     ]
    },
    {
     "name": "stdout",
     "output_type": "stream",
     "text": [
      "Train - Emotion Loss: 0.5786, FACS Loss: 0.3028\n",
      "Train - Emotion F1: 0.9702, FACS F1: 0.4460\n",
      "Val - Emotion Loss: 0.6262, FACS Loss: 0.2852\n",
      "Val - Emotion F1: 0.9142, FACS F1: 0.4178\n",
      "\n",
      "Epoch 8/100\n"
     ]
    },
    {
     "name": "stderr",
     "output_type": "stream",
     "text": [
      "100%|██████████████████████████████████████████████████████████████████████████████████| 14/14 [00:03<00:00,  3.60it/s]\n"
     ]
    },
    {
     "name": "stdout",
     "output_type": "stream",
     "text": [
      "Train - Emotion Loss: 0.5750, FACS Loss: 0.2777\n",
      "Train - Emotion F1: 0.9835, FACS F1: 0.4884\n",
      "Val - Emotion Loss: 0.6468, FACS Loss: 0.2826\n",
      "Val - Emotion F1: 0.8864, FACS F1: 0.4419\n",
      "\n",
      "Epoch 9/100\n"
     ]
    },
    {
     "name": "stderr",
     "output_type": "stream",
     "text": [
      "100%|██████████████████████████████████████████████████████████████████████████████████| 14/14 [00:03<00:00,  3.59it/s]\n"
     ]
    },
    {
     "name": "stdout",
     "output_type": "stream",
     "text": [
      "Train - Emotion Loss: 0.5749, FACS Loss: 0.2678\n",
      "Train - Emotion F1: 0.9735, FACS F1: 0.5116\n",
      "Val - Emotion Loss: 0.6825, FACS Loss: 0.2990\n",
      "Val - Emotion F1: 0.8590, FACS F1: 0.4429\n",
      "\n",
      "Epoch 10/100\n"
     ]
    },
    {
     "name": "stderr",
     "output_type": "stream",
     "text": [
      "100%|██████████████████████████████████████████████████████████████████████████████████| 14/14 [00:03<00:00,  3.61it/s]\n"
     ]
    },
    {
     "name": "stdout",
     "output_type": "stream",
     "text": [
      "Train - Emotion Loss: 0.5726, FACS Loss: 0.2456\n",
      "Train - Emotion F1: 0.9786, FACS F1: 0.5542\n",
      "Val - Emotion Loss: 0.6289, FACS Loss: 0.2526\n",
      "Val - Emotion F1: 0.9125, FACS F1: 0.5222\n",
      "\n",
      "Epoch 11/100\n"
     ]
    },
    {
     "name": "stderr",
     "output_type": "stream",
     "text": [
      "100%|██████████████████████████████████████████████████████████████████████████████████| 14/14 [00:03<00:00,  3.54it/s]\n"
     ]
    },
    {
     "name": "stdout",
     "output_type": "stream",
     "text": [
      "Train - Emotion Loss: 0.5672, FACS Loss: 0.2337\n",
      "Train - Emotion F1: 0.9879, FACS F1: 0.5754\n",
      "Val - Emotion Loss: 0.6680, FACS Loss: 0.2454\n",
      "Val - Emotion F1: 0.8235, FACS F1: 0.5340\n",
      "\n",
      "Epoch 12/100\n"
     ]
    },
    {
     "name": "stderr",
     "output_type": "stream",
     "text": [
      "100%|██████████████████████████████████████████████████████████████████████████████████| 14/14 [00:03<00:00,  3.59it/s]\n"
     ]
    },
    {
     "name": "stdout",
     "output_type": "stream",
     "text": [
      "Train - Emotion Loss: 0.5656, FACS Loss: 0.2131\n",
      "Train - Emotion F1: 0.9853, FACS F1: 0.6023\n",
      "Val - Emotion Loss: 0.6659, FACS Loss: 0.2432\n",
      "Val - Emotion F1: 0.8695, FACS F1: 0.5468\n",
      "\n",
      "Epoch 13/100\n"
     ]
    },
    {
     "name": "stderr",
     "output_type": "stream",
     "text": [
      "100%|██████████████████████████████████████████████████████████████████████████████████| 14/14 [00:03<00:00,  3.59it/s]\n"
     ]
    },
    {
     "name": "stdout",
     "output_type": "stream",
     "text": [
      "Train - Emotion Loss: 0.5691, FACS Loss: 0.1996\n",
      "Train - Emotion F1: 0.9807, FACS F1: 0.6324\n",
      "Val - Emotion Loss: 0.6437, FACS Loss: 0.2665\n",
      "Val - Emotion F1: 0.9117, FACS F1: 0.5076\n",
      "\n",
      "Epoch 14/100\n"
     ]
    },
    {
     "name": "stderr",
     "output_type": "stream",
     "text": [
      "100%|██████████████████████████████████████████████████████████████████████████████████| 14/14 [00:03<00:00,  3.59it/s]\n"
     ]
    },
    {
     "name": "stdout",
     "output_type": "stream",
     "text": [
      "Train - Emotion Loss: 0.5625, FACS Loss: 0.1936\n",
      "Train - Emotion F1: 0.9905, FACS F1: 0.6613\n",
      "Val - Emotion Loss: 0.6926, FACS Loss: 0.2372\n",
      "Val - Emotion F1: 0.8271, FACS F1: 0.5963\n",
      "\n",
      "Epoch 15/100\n"
     ]
    },
    {
     "name": "stderr",
     "output_type": "stream",
     "text": [
      "100%|██████████████████████████████████████████████████████████████████████████████████| 14/14 [00:03<00:00,  3.58it/s]\n"
     ]
    },
    {
     "name": "stdout",
     "output_type": "stream",
     "text": [
      "Train - Emotion Loss: 0.5639, FACS Loss: 0.1707\n",
      "Train - Emotion F1: 0.9857, FACS F1: 0.7151\n",
      "Val - Emotion Loss: 0.6472, FACS Loss: 0.2404\n",
      "Val - Emotion F1: 0.8950, FACS F1: 0.5379\n",
      "\n",
      "Epoch 16/100\n"
     ]
    },
    {
     "name": "stderr",
     "output_type": "stream",
     "text": [
      "100%|██████████████████████████████████████████████████████████████████████████████████| 14/14 [00:03<00:00,  3.59it/s]\n"
     ]
    },
    {
     "name": "stdout",
     "output_type": "stream",
     "text": [
      "Train - Emotion Loss: 0.5585, FACS Loss: 0.1648\n",
      "Train - Emotion F1: 0.9976, FACS F1: 0.7330\n",
      "Val - Emotion Loss: 0.6440, FACS Loss: 0.2118\n",
      "Val - Emotion F1: 0.8936, FACS F1: 0.6206\n",
      "\n",
      "Epoch 17/100\n"
     ]
    },
    {
     "name": "stderr",
     "output_type": "stream",
     "text": [
      "100%|██████████████████████████████████████████████████████████████████████████████████| 14/14 [00:03<00:00,  3.58it/s]\n"
     ]
    },
    {
     "name": "stdout",
     "output_type": "stream",
     "text": [
      "Train - Emotion Loss: 0.5547, FACS Loss: 0.1625\n",
      "Train - Emotion F1: 1.0000, FACS F1: 0.7494\n",
      "Val - Emotion Loss: 0.6323, FACS Loss: 0.2218\n",
      "Val - Emotion F1: 0.9034, FACS F1: 0.5551\n",
      "\n",
      "Epoch 18/100\n"
     ]
    },
    {
     "name": "stderr",
     "output_type": "stream",
     "text": [
      "100%|██████████████████████████████████████████████████████████████████████████████████| 14/14 [00:03<00:00,  3.60it/s]\n"
     ]
    },
    {
     "name": "stdout",
     "output_type": "stream",
     "text": [
      "Train - Emotion Loss: 0.5532, FACS Loss: 0.1452\n",
      "Train - Emotion F1: 1.0000, FACS F1: 0.7833\n",
      "Val - Emotion Loss: 0.6327, FACS Loss: 0.2084\n",
      "Val - Emotion F1: 0.9131, FACS F1: 0.6389\n",
      "\n",
      "Epoch 19/100\n"
     ]
    },
    {
     "name": "stderr",
     "output_type": "stream",
     "text": [
      "100%|██████████████████████████████████████████████████████████████████████████████████| 14/14 [00:03<00:00,  3.61it/s]\n"
     ]
    },
    {
     "name": "stdout",
     "output_type": "stream",
     "text": [
      "Train - Emotion Loss: 0.5526, FACS Loss: 0.1385\n",
      "Train - Emotion F1: 1.0000, FACS F1: 0.7868\n",
      "Val - Emotion Loss: 0.6451, FACS Loss: 0.2047\n",
      "Val - Emotion F1: 0.8851, FACS F1: 0.6166\n",
      "\n",
      "Epoch 20/100\n"
     ]
    },
    {
     "name": "stderr",
     "output_type": "stream",
     "text": [
      "100%|██████████████████████████████████████████████████████████████████████████████████| 14/14 [00:03<00:00,  3.60it/s]\n"
     ]
    },
    {
     "name": "stdout",
     "output_type": "stream",
     "text": [
      "Train - Emotion Loss: 0.5543, FACS Loss: 0.1221\n",
      "Train - Emotion F1: 0.9975, FACS F1: 0.8089\n",
      "Val - Emotion Loss: 0.6463, FACS Loss: 0.2120\n",
      "Val - Emotion F1: 0.8915, FACS F1: 0.6070\n",
      "\n",
      "Epoch 21/100\n"
     ]
    },
    {
     "name": "stderr",
     "output_type": "stream",
     "text": [
      "100%|██████████████████████████████████████████████████████████████████████████████████| 14/14 [00:03<00:00,  3.61it/s]\n"
     ]
    },
    {
     "name": "stdout",
     "output_type": "stream",
     "text": [
      "Train - Emotion Loss: 0.5571, FACS Loss: 0.1191\n",
      "Train - Emotion F1: 0.9951, FACS F1: 0.8228\n",
      "Val - Emotion Loss: 0.6223, FACS Loss: 0.2218\n",
      "Val - Emotion F1: 0.9125, FACS F1: 0.6108\n",
      "\n",
      "Epoch 22/100\n"
     ]
    },
    {
     "name": "stderr",
     "output_type": "stream",
     "text": [
      "100%|██████████████████████████████████████████████████████████████████████████████████| 14/14 [00:03<00:00,  3.61it/s]\n"
     ]
    },
    {
     "name": "stdout",
     "output_type": "stream",
     "text": [
      "Train - Emotion Loss: 0.5547, FACS Loss: 0.1092\n",
      "Train - Emotion F1: 0.9964, FACS F1: 0.8484\n",
      "Val - Emotion Loss: 0.6134, FACS Loss: 0.2189\n",
      "Val - Emotion F1: 0.9305, FACS F1: 0.6419\n",
      "\n",
      "Epoch 23/100\n"
     ]
    },
    {
     "name": "stderr",
     "output_type": "stream",
     "text": [
      "100%|██████████████████████████████████████████████████████████████████████████████████| 14/14 [00:03<00:00,  3.59it/s]\n"
     ]
    },
    {
     "name": "stdout",
     "output_type": "stream",
     "text": [
      "Train - Emotion Loss: 0.5530, FACS Loss: 0.1030\n",
      "Train - Emotion F1: 1.0000, FACS F1: 0.8586\n",
      "Val - Emotion Loss: 0.6197, FACS Loss: 0.2159\n",
      "Val - Emotion F1: 0.9284, FACS F1: 0.6695\n",
      "\n",
      "Epoch 24/100\n"
     ]
    },
    {
     "name": "stderr",
     "output_type": "stream",
     "text": [
      "100%|██████████████████████████████████████████████████████████████████████████████████| 14/14 [00:03<00:00,  3.58it/s]\n"
     ]
    },
    {
     "name": "stdout",
     "output_type": "stream",
     "text": [
      "Train - Emotion Loss: 0.5527, FACS Loss: 0.0936\n",
      "Train - Emotion F1: 1.0000, FACS F1: 0.8793\n",
      "Val - Emotion Loss: 0.6268, FACS Loss: 0.2292\n",
      "Val - Emotion F1: 0.9125, FACS F1: 0.6312\n",
      "\n",
      "Epoch 25/100\n"
     ]
    },
    {
     "name": "stderr",
     "output_type": "stream",
     "text": [
      "100%|██████████████████████████████████████████████████████████████████████████████████| 14/14 [00:03<00:00,  3.59it/s]\n"
     ]
    },
    {
     "name": "stdout",
     "output_type": "stream",
     "text": [
      "Train - Emotion Loss: 0.5550, FACS Loss: 0.0860\n",
      "Train - Emotion F1: 0.9975, FACS F1: 0.8788\n",
      "Val - Emotion Loss: 0.6255, FACS Loss: 0.2173\n",
      "Val - Emotion F1: 0.9125, FACS F1: 0.7066\n",
      "\n",
      "Epoch 26/100\n"
     ]
    },
    {
     "name": "stderr",
     "output_type": "stream",
     "text": [
      "100%|██████████████████████████████████████████████████████████████████████████████████| 14/14 [00:03<00:00,  3.59it/s]\n"
     ]
    },
    {
     "name": "stdout",
     "output_type": "stream",
     "text": [
      "Train - Emotion Loss: 0.5519, FACS Loss: 0.0802\n",
      "Train - Emotion F1: 1.0000, FACS F1: 0.9028\n",
      "Val - Emotion Loss: 0.6317, FACS Loss: 0.2221\n",
      "Val - Emotion F1: 0.9036, FACS F1: 0.6453\n",
      "\n",
      "Epoch 27/100\n"
     ]
    },
    {
     "name": "stderr",
     "output_type": "stream",
     "text": [
      "100%|██████████████████████████████████████████████████████████████████████████████████| 14/14 [00:03<00:00,  3.60it/s]\n"
     ]
    },
    {
     "name": "stdout",
     "output_type": "stream",
     "text": [
      "Train - Emotion Loss: 0.5527, FACS Loss: 0.0773\n",
      "Train - Emotion F1: 1.0000, FACS F1: 0.9011\n",
      "Val - Emotion Loss: 0.6324, FACS Loss: 0.2312\n",
      "Val - Emotion F1: 0.8950, FACS F1: 0.6417\n",
      "\n",
      "Epoch 28/100\n"
     ]
    },
    {
     "name": "stderr",
     "output_type": "stream",
     "text": [
      "100%|██████████████████████████████████████████████████████████████████████████████████| 14/14 [00:03<00:00,  3.59it/s]\n"
     ]
    },
    {
     "name": "stdout",
     "output_type": "stream",
     "text": [
      "Train - Emotion Loss: 0.5544, FACS Loss: 0.0785\n",
      "Train - Emotion F1: 1.0000, FACS F1: 0.9133\n",
      "Val - Emotion Loss: 0.6209, FACS Loss: 0.2222\n",
      "Val - Emotion F1: 0.9184, FACS F1: 0.6641\n",
      "\n",
      "Epoch 29/100\n"
     ]
    },
    {
     "name": "stderr",
     "output_type": "stream",
     "text": [
      "100%|██████████████████████████████████████████████████████████████████████████████████| 14/14 [00:03<00:00,  3.61it/s]\n"
     ]
    },
    {
     "name": "stdout",
     "output_type": "stream",
     "text": [
      "Train - Emotion Loss: 0.5533, FACS Loss: 0.0758\n",
      "Train - Emotion F1: 1.0000, FACS F1: 0.9034\n",
      "Val - Emotion Loss: 0.6345, FACS Loss: 0.2286\n",
      "Val - Emotion F1: 0.9000, FACS F1: 0.6569\n",
      "\n",
      "Epoch 30/100\n"
     ]
    },
    {
     "name": "stderr",
     "output_type": "stream",
     "text": [
      "100%|██████████████████████████████████████████████████████████████████████████████████| 14/14 [00:03<00:00,  3.59it/s]\n"
     ]
    },
    {
     "name": "stdout",
     "output_type": "stream",
     "text": [
      "Train - Emotion Loss: 0.5522, FACS Loss: 0.0714\n",
      "Train - Emotion F1: 1.0000, FACS F1: 0.9207\n",
      "Val - Emotion Loss: 0.6324, FACS Loss: 0.2214\n",
      "Val - Emotion F1: 0.9000, FACS F1: 0.6361\n",
      "\n",
      "Epoch 31/100\n"
     ]
    },
    {
     "name": "stderr",
     "output_type": "stream",
     "text": [
      "100%|██████████████████████████████████████████████████████████████████████████████████| 14/14 [00:03<00:00,  3.61it/s]\n"
     ]
    },
    {
     "name": "stdout",
     "output_type": "stream",
     "text": [
      "Train - Emotion Loss: 0.5518, FACS Loss: 0.0654\n",
      "Train - Emotion F1: 1.0000, FACS F1: 0.9150\n",
      "Val - Emotion Loss: 0.6424, FACS Loss: 0.2284\n",
      "Val - Emotion F1: 0.8916, FACS F1: 0.6621\n",
      "\n",
      "Epoch 32/100\n"
     ]
    },
    {
     "name": "stderr",
     "output_type": "stream",
     "text": [
      "100%|██████████████████████████████████████████████████████████████████████████████████| 14/14 [00:03<00:00,  3.59it/s]\n"
     ]
    },
    {
     "name": "stdout",
     "output_type": "stream",
     "text": [
      "Train - Emotion Loss: 0.5526, FACS Loss: 0.0590\n",
      "Train - Emotion F1: 1.0000, FACS F1: 0.9336\n",
      "Val - Emotion Loss: 0.6294, FACS Loss: 0.2173\n",
      "Val - Emotion F1: 0.9000, FACS F1: 0.6668\n",
      "\n",
      "Epoch 33/100\n"
     ]
    },
    {
     "name": "stderr",
     "output_type": "stream",
     "text": [
      "100%|██████████████████████████████████████████████████████████████████████████████████| 14/14 [00:03<00:00,  3.60it/s]\n"
     ]
    },
    {
     "name": "stdout",
     "output_type": "stream",
     "text": [
      "Train - Emotion Loss: 0.5532, FACS Loss: 0.0546\n",
      "Train - Emotion F1: 0.9977, FACS F1: 0.9405\n",
      "Val - Emotion Loss: 0.6345, FACS Loss: 0.2082\n",
      "Val - Emotion F1: 0.8851, FACS F1: 0.6841\n",
      "\n",
      "Epoch 34/100\n"
     ]
    },
    {
     "name": "stderr",
     "output_type": "stream",
     "text": [
      "100%|██████████████████████████████████████████████████████████████████████████████████| 14/14 [00:03<00:00,  3.60it/s]\n"
     ]
    },
    {
     "name": "stdout",
     "output_type": "stream",
     "text": [
      "Train - Emotion Loss: 0.5531, FACS Loss: 0.0552\n",
      "Train - Emotion F1: 1.0000, FACS F1: 0.9389\n",
      "Val - Emotion Loss: 0.6391, FACS Loss: 0.2186\n",
      "Val - Emotion F1: 0.8900, FACS F1: 0.6934\n",
      "\n",
      "Epoch 35/100\n"
     ]
    },
    {
     "name": "stderr",
     "output_type": "stream",
     "text": [
      "100%|██████████████████████████████████████████████████████████████████████████████████| 14/14 [00:03<00:00,  3.60it/s]\n"
     ]
    },
    {
     "name": "stdout",
     "output_type": "stream",
     "text": [
      "Train - Emotion Loss: 0.5521, FACS Loss: 0.0485\n",
      "Train - Emotion F1: 1.0000, FACS F1: 0.9538\n",
      "Val - Emotion Loss: 0.6360, FACS Loss: 0.2322\n",
      "Val - Emotion F1: 0.9068, FACS F1: 0.7026\n",
      "\n",
      "Epoch 36/100\n"
     ]
    },
    {
     "name": "stderr",
     "output_type": "stream",
     "text": [
      "100%|██████████████████████████████████████████████████████████████████████████████████| 14/14 [00:03<00:00,  3.60it/s]\n"
     ]
    },
    {
     "name": "stdout",
     "output_type": "stream",
     "text": [
      "Train - Emotion Loss: 0.5518, FACS Loss: 0.0522\n",
      "Train - Emotion F1: 1.0000, FACS F1: 0.9427\n",
      "Val - Emotion Loss: 0.6177, FACS Loss: 0.2417\n",
      "Val - Emotion F1: 0.9242, FACS F1: 0.6919\n",
      "\n",
      "Epoch 37/100\n"
     ]
    },
    {
     "name": "stderr",
     "output_type": "stream",
     "text": [
      "100%|██████████████████████████████████████████████████████████████████████████████████| 14/14 [00:03<00:00,  3.61it/s]\n"
     ]
    },
    {
     "name": "stdout",
     "output_type": "stream",
     "text": [
      "Train - Emotion Loss: 0.5524, FACS Loss: 0.0457\n",
      "Train - Emotion F1: 1.0000, FACS F1: 0.9588\n",
      "Val - Emotion Loss: 0.6475, FACS Loss: 0.2543\n",
      "Val - Emotion F1: 0.8884, FACS F1: 0.6339\n",
      "\n",
      "Epoch 38/100\n"
     ]
    },
    {
     "name": "stderr",
     "output_type": "stream",
     "text": [
      "100%|██████████████████████████████████████████████████████████████████████████████████| 14/14 [00:03<00:00,  3.59it/s]\n"
     ]
    },
    {
     "name": "stdout",
     "output_type": "stream",
     "text": [
      "Train - Emotion Loss: 0.5518, FACS Loss: 0.0461\n",
      "Train - Emotion F1: 1.0000, FACS F1: 0.9492\n",
      "Val - Emotion Loss: 0.6453, FACS Loss: 0.2412\n",
      "Val - Emotion F1: 0.8884, FACS F1: 0.6653\n",
      "\n",
      "Epoch 39/100\n"
     ]
    },
    {
     "name": "stderr",
     "output_type": "stream",
     "text": [
      "100%|██████████████████████████████████████████████████████████████████████████████████| 14/14 [00:03<00:00,  3.57it/s]\n"
     ]
    },
    {
     "name": "stdout",
     "output_type": "stream",
     "text": [
      "Train - Emotion Loss: 0.5522, FACS Loss: 0.0412\n",
      "Train - Emotion F1: 1.0000, FACS F1: 0.9639\n",
      "Val - Emotion Loss: 0.6383, FACS Loss: 0.2338\n",
      "Val - Emotion F1: 0.8916, FACS F1: 0.6707\n",
      "\n",
      "Epoch 40/100\n"
     ]
    },
    {
     "name": "stderr",
     "output_type": "stream",
     "text": [
      "100%|██████████████████████████████████████████████████████████████████████████████████| 14/14 [00:03<00:00,  3.60it/s]\n"
     ]
    },
    {
     "name": "stdout",
     "output_type": "stream",
     "text": [
      "Train - Emotion Loss: 0.5516, FACS Loss: 0.0376\n",
      "Train - Emotion F1: 1.0000, FACS F1: 0.9651\n",
      "Val - Emotion Loss: 0.6400, FACS Loss: 0.2381\n",
      "Val - Emotion F1: 0.8950, FACS F1: 0.6621\n",
      "\n",
      "Epoch 41/100\n"
     ]
    },
    {
     "name": "stderr",
     "output_type": "stream",
     "text": [
      "100%|██████████████████████████████████████████████████████████████████████████████████| 14/14 [00:03<00:00,  3.60it/s]\n"
     ]
    },
    {
     "name": "stdout",
     "output_type": "stream",
     "text": [
      "Train - Emotion Loss: 0.5517, FACS Loss: 0.0368\n",
      "Train - Emotion F1: 1.0000, FACS F1: 0.9635\n",
      "Val - Emotion Loss: 0.6403, FACS Loss: 0.2511\n",
      "Val - Emotion F1: 0.8950, FACS F1: 0.6784\n",
      "\n",
      "Epoch 42/100\n"
     ]
    },
    {
     "name": "stderr",
     "output_type": "stream",
     "text": [
      "100%|██████████████████████████████████████████████████████████████████████████████████| 14/14 [00:03<00:00,  3.59it/s]\n"
     ]
    },
    {
     "name": "stdout",
     "output_type": "stream",
     "text": [
      "Train - Emotion Loss: 0.5516, FACS Loss: 0.0389\n",
      "Train - Emotion F1: 1.0000, FACS F1: 0.9577\n",
      "Val - Emotion Loss: 0.6326, FACS Loss: 0.2481\n",
      "Val - Emotion F1: 0.9036, FACS F1: 0.6872\n",
      "\n",
      "Epoch 43/100\n"
     ]
    },
    {
     "name": "stderr",
     "output_type": "stream",
     "text": [
      "100%|██████████████████████████████████████████████████████████████████████████████████| 14/14 [00:03<00:00,  3.60it/s]\n"
     ]
    },
    {
     "name": "stdout",
     "output_type": "stream",
     "text": [
      "Train - Emotion Loss: 0.5523, FACS Loss: 0.0345\n",
      "Train - Emotion F1: 1.0000, FACS F1: 0.9661\n",
      "Val - Emotion Loss: 0.6318, FACS Loss: 0.2518\n",
      "Val - Emotion F1: 0.9036, FACS F1: 0.6666\n",
      "\n",
      "Epoch 44/100\n"
     ]
    },
    {
     "name": "stderr",
     "output_type": "stream",
     "text": [
      "100%|██████████████████████████████████████████████████████████████████████████████████| 14/14 [00:03<00:00,  3.59it/s]\n"
     ]
    },
    {
     "name": "stdout",
     "output_type": "stream",
     "text": [
      "Train - Emotion Loss: 0.5515, FACS Loss: 0.0366\n",
      "Train - Emotion F1: 1.0000, FACS F1: 0.9557\n",
      "Val - Emotion Loss: 0.6322, FACS Loss: 0.2487\n",
      "Val - Emotion F1: 0.9036, FACS F1: 0.6827\n",
      "\n",
      "Epoch 45/100\n"
     ]
    },
    {
     "name": "stderr",
     "output_type": "stream",
     "text": [
      "100%|██████████████████████████████████████████████████████████████████████████████████| 14/14 [00:03<00:00,  3.60it/s]\n"
     ]
    },
    {
     "name": "stdout",
     "output_type": "stream",
     "text": [
      "Train - Emotion Loss: 0.5517, FACS Loss: 0.0291\n",
      "Train - Emotion F1: 1.0000, FACS F1: 0.9733\n",
      "Val - Emotion Loss: 0.6262, FACS Loss: 0.2495\n",
      "Val - Emotion F1: 0.9036, FACS F1: 0.6863\n",
      "Early stop at epoch 45\n",
      "Best Val - Emotion Loss: 0.6255, Best FACS Loss: 0.2173\n",
      "Best Val - Emotion F1: 0.9125, Best FACS F1: 0.7066\n"
     ]
    }
   ],
   "source": [
    "resnet50_pretrained_trainer.train(num_epochs=100)"
   ]
  },
  {
   "cell_type": "code",
   "execution_count": 34,
   "id": "e9e5a7a6-6c4c-4081-b326-029bae50d94b",
   "metadata": {},
   "outputs": [
    {
     "data": {
      "image/png": "[encoded data removed]",
      "text/plain": [
       "<Figure size 1500x1000 with 4 Axes>"
      ]
     },
     "metadata": {},
     "output_type": "display_data"
    }
   ],
   "source": [
    "resnet50_pretrained_trainer.plot_metrics()"
   ]
  },
  {
   "cell_type": "markdown",
   "id": "08f864c4-6a9e-46b3-8b29-9b02cd4fd083",
   "metadata": {},
   "source": [
    "##### With Augmented Training dataset"
   ]
  },
  {
   "cell_type": "code",
   "execution_count": 35,
   "id": "9ccb41cc-bb99-4cea-8c1f-aa9856a6c8d5",
   "metadata": {},
   "outputs": [],
   "source": [
    "aug_resnet50_pretrained = model.EmotionFACsNet(pretrained=True)"
   ]
  },
  {
   "cell_type": "code",
   "execution_count": 36,
   "id": "bb005407-7258-449c-8cc2-590468c440b1",
   "metadata": {},
   "outputs": [],
   "source": [
    "aug_resnet50_pretrained_trainer= trainer.EmotionFACsTrainer(aug_resnet50_pretrained, 'aug_resnet50_pretrained', aug_train_loader, val_loader, patience = 20)"
   ]
  },
  {
   "cell_type": "code",
   "execution_count": 37,
   "id": "6a11d658-bc7f-4528-b8a4-1ff0609d1b6b",
   "metadata": {
    "scrolled": true
   },
   "outputs": [
    {
     "name": "stdout",
     "output_type": "stream",
     "text": [
      "\n",
      "Epoch 1/100\n"
     ]
    },
    {
     "name": "stderr",
     "output_type": "stream",
     "text": [
      "100%|██████████████████████████████████████████████████████████████████████████████████| 14/14 [00:03<00:00,  3.58it/s]\n"
     ]
    },
    {
     "name": "stdout",
     "output_type": "stream",
     "text": [
      "Train - Emotion Loss: 1.0410, FACS Loss: 0.6560\n",
      "Train - Emotion F1: 0.2729, FACS F1: 0.2343\n",
      "Val - Emotion Loss: 0.9690, FACS Loss: 0.5919\n",
      "Val - Emotion F1: 0.2472, FACS F1: 0.0933\n",
      "\n",
      "Epoch 2/100\n"
     ]
    },
    {
     "name": "stderr",
     "output_type": "stream",
     "text": [
      "100%|██████████████████████████████████████████████████████████████████████████████████| 14/14 [00:03<00:00,  3.60it/s]\n"
     ]
    },
    {
     "name": "stdout",
     "output_type": "stream",
     "text": [
      "Train - Emotion Loss: 0.9014, FACS Loss: 0.5511\n",
      "Train - Emotion F1: 0.2460, FACS F1: 0.1093\n",
      "Val - Emotion Loss: 0.8992, FACS Loss: 0.4853\n",
      "Val - Emotion F1: 0.2472, FACS F1: 0.0534\n",
      "\n",
      "Epoch 3/100\n"
     ]
    },
    {
     "name": "stderr",
     "output_type": "stream",
     "text": [
      "100%|██████████████████████████████████████████████████████████████████████████████████| 14/14 [00:03<00:00,  3.59it/s]\n"
     ]
    },
    {
     "name": "stdout",
     "output_type": "stream",
     "text": [
      "Train - Emotion Loss: 0.8084, FACS Loss: 0.5035\n",
      "Train - Emotion F1: 0.4828, FACS F1: 0.1310\n",
      "Val - Emotion Loss: 0.7964, FACS Loss: 0.4455\n",
      "Val - Emotion F1: 0.5523, FACS F1: 0.1603\n",
      "\n",
      "Epoch 4/100\n"
     ]
    },
    {
     "name": "stderr",
     "output_type": "stream",
     "text": [
      "100%|██████████████████████████████████████████████████████████████████████████████████| 14/14 [00:03<00:00,  3.60it/s]\n"
     ]
    },
    {
     "name": "stdout",
     "output_type": "stream",
     "text": [
      "Train - Emotion Loss: 0.7157, FACS Loss: 0.4467\n",
      "Train - Emotion F1: 0.8052, FACS F1: 0.1856\n",
      "Val - Emotion Loss: 0.7095, FACS Loss: 0.3692\n",
      "Val - Emotion F1: 0.8682, FACS F1: 0.2970\n",
      "\n",
      "Epoch 5/100\n"
     ]
    },
    {
     "name": "stderr",
     "output_type": "stream",
     "text": [
      "100%|██████████████████████████████████████████████████████████████████████████████████| 14/14 [00:03<00:00,  3.58it/s]\n"
     ]
    },
    {
     "name": "stdout",
     "output_type": "stream",
     "text": [
      "Train - Emotion Loss: 0.6280, FACS Loss: 0.3827\n",
      "Train - Emotion F1: 0.9502, FACS F1: 0.3201\n",
      "Val - Emotion Loss: 0.6499, FACS Loss: 0.3271\n",
      "Val - Emotion F1: 0.9039, FACS F1: 0.3517\n",
      "\n",
      "Epoch 6/100\n"
     ]
    },
    {
     "name": "stderr",
     "output_type": "stream",
     "text": [
      "100%|██████████████████████████████████████████████████████████████████████████████████| 14/14 [00:03<00:00,  3.60it/s]\n"
     ]
    },
    {
     "name": "stdout",
     "output_type": "stream",
     "text": [
      "Train - Emotion Loss: 0.5830, FACS Loss: 0.3360\n",
      "Train - Emotion F1: 0.9667, FACS F1: 0.4004\n",
      "Val - Emotion Loss: 0.6515, FACS Loss: 0.3024\n",
      "Val - Emotion F1: 0.9054, FACS F1: 0.4159\n",
      "\n",
      "Epoch 7/100\n"
     ]
    },
    {
     "name": "stderr",
     "output_type": "stream",
     "text": [
      "100%|██████████████████████████████████████████████████████████████████████████████████| 14/14 [00:03<00:00,  3.60it/s]\n"
     ]
    },
    {
     "name": "stdout",
     "output_type": "stream",
     "text": [
      "Train - Emotion Loss: 0.5711, FACS Loss: 0.3088\n",
      "Train - Emotion F1: 0.9856, FACS F1: 0.4499\n",
      "Val - Emotion Loss: 0.6858, FACS Loss: 0.2996\n",
      "Val - Emotion F1: 0.8625, FACS F1: 0.3981\n",
      "\n",
      "Epoch 8/100\n"
     ]
    },
    {
     "name": "stderr",
     "output_type": "stream",
     "text": [
      "100%|██████████████████████████████████████████████████████████████████████████████████| 14/14 [00:03<00:00,  3.58it/s]\n"
     ]
    },
    {
     "name": "stdout",
     "output_type": "stream",
     "text": [
      "Train - Emotion Loss: 0.5900, FACS Loss: 0.2987\n",
      "Train - Emotion F1: 0.9636, FACS F1: 0.4709\n",
      "Val - Emotion Loss: 0.6658, FACS Loss: 0.2854\n",
      "Val - Emotion F1: 0.8833, FACS F1: 0.4222\n",
      "\n",
      "Epoch 9/100\n"
     ]
    },
    {
     "name": "stderr",
     "output_type": "stream",
     "text": [
      "100%|██████████████████████████████████████████████████████████████████████████████████| 14/14 [00:03<00:00,  3.60it/s]\n"
     ]
    },
    {
     "name": "stdout",
     "output_type": "stream",
     "text": [
      "Train - Emotion Loss: 0.5624, FACS Loss: 0.2739\n",
      "Train - Emotion F1: 0.9892, FACS F1: 0.4973\n",
      "Val - Emotion Loss: 0.6323, FACS Loss: 0.2726\n",
      "Val - Emotion F1: 0.9125, FACS F1: 0.4794\n",
      "\n",
      "Epoch 10/100\n"
     ]
    },
    {
     "name": "stderr",
     "output_type": "stream",
     "text": [
      "100%|██████████████████████████████████████████████████████████████████████████████████| 14/14 [00:03<00:00,  3.58it/s]\n"
     ]
    },
    {
     "name": "stdout",
     "output_type": "stream",
     "text": [
      "Train - Emotion Loss: 0.5643, FACS Loss: 0.2547\n",
      "Train - Emotion F1: 0.9868, FACS F1: 0.5384\n",
      "Val - Emotion Loss: 0.6152, FACS Loss: 0.2533\n",
      "Val - Emotion F1: 0.9215, FACS F1: 0.5200\n",
      "\n",
      "Epoch 11/100\n"
     ]
    },
    {
     "name": "stderr",
     "output_type": "stream",
     "text": [
      "100%|██████████████████████████████████████████████████████████████████████████████████| 14/14 [00:03<00:00,  3.58it/s]\n"
     ]
    },
    {
     "name": "stdout",
     "output_type": "stream",
     "text": [
      "Train - Emotion Loss: 0.5625, FACS Loss: 0.2277\n",
      "Train - Emotion F1: 0.9917, FACS F1: 0.5650\n",
      "Val - Emotion Loss: 0.6325, FACS Loss: 0.2460\n",
      "Val - Emotion F1: 0.9125, FACS F1: 0.5256\n",
      "\n",
      "Epoch 12/100\n"
     ]
    },
    {
     "name": "stderr",
     "output_type": "stream",
     "text": [
      "100%|██████████████████████████████████████████████████████████████████████████████████| 14/14 [00:03<00:00,  3.60it/s]\n"
     ]
    },
    {
     "name": "stdout",
     "output_type": "stream",
     "text": [
      "Train - Emotion Loss: 0.5613, FACS Loss: 0.2096\n",
      "Train - Emotion F1: 0.9951, FACS F1: 0.5924\n",
      "Val - Emotion Loss: 0.6282, FACS Loss: 0.2400\n",
      "Val - Emotion F1: 0.9215, FACS F1: 0.5484\n",
      "\n",
      "Epoch 13/100\n"
     ]
    },
    {
     "name": "stderr",
     "output_type": "stream",
     "text": [
      "100%|██████████████████████████████████████████████████████████████████████████████████| 14/14 [00:03<00:00,  3.59it/s]\n"
     ]
    },
    {
     "name": "stdout",
     "output_type": "stream",
     "text": [
      "Train - Emotion Loss: 0.5663, FACS Loss: 0.2055\n",
      "Train - Emotion F1: 0.9852, FACS F1: 0.6389\n",
      "Val - Emotion Loss: 0.6293, FACS Loss: 0.2222\n",
      "Val - Emotion F1: 0.9036, FACS F1: 0.5651\n",
      "\n",
      "Epoch 14/100\n"
     ]
    },
    {
     "name": "stderr",
     "output_type": "stream",
     "text": [
      "100%|██████████████████████████████████████████████████████████████████████████████████| 14/14 [00:03<00:00,  3.59it/s]\n"
     ]
    },
    {
     "name": "stdout",
     "output_type": "stream",
     "text": [
      "Train - Emotion Loss: 0.5618, FACS Loss: 0.1909\n",
      "Train - Emotion F1: 0.9902, FACS F1: 0.6684\n",
      "Val - Emotion Loss: 0.6265, FACS Loss: 0.2336\n",
      "Val - Emotion F1: 0.9190, FACS F1: 0.5456\n",
      "\n",
      "Epoch 15/100\n"
     ]
    },
    {
     "name": "stderr",
     "output_type": "stream",
     "text": [
      "100%|██████████████████████████████████████████████████████████████████████████████████| 14/14 [00:03<00:00,  3.60it/s]\n"
     ]
    },
    {
     "name": "stdout",
     "output_type": "stream",
     "text": [
      "Train - Emotion Loss: 0.5562, FACS Loss: 0.1811\n",
      "Train - Emotion F1: 0.9975, FACS F1: 0.6953\n",
      "Val - Emotion Loss: 0.6180, FACS Loss: 0.2220\n",
      "Val - Emotion F1: 0.9215, FACS F1: 0.5753\n",
      "\n",
      "Epoch 16/100\n"
     ]
    },
    {
     "name": "stderr",
     "output_type": "stream",
     "text": [
      "100%|██████████████████████████████████████████████████████████████████████████████████| 14/14 [00:03<00:00,  3.61it/s]\n"
     ]
    },
    {
     "name": "stdout",
     "output_type": "stream",
     "text": [
      "Train - Emotion Loss: 0.5536, FACS Loss: 0.1613\n",
      "Train - Emotion F1: 1.0000, FACS F1: 0.7182\n",
      "Val - Emotion Loss: 0.6283, FACS Loss: 0.2220\n",
      "Val - Emotion F1: 0.9125, FACS F1: 0.5945\n",
      "\n",
      "Epoch 17/100\n"
     ]
    },
    {
     "name": "stderr",
     "output_type": "stream",
     "text": [
      "100%|██████████████████████████████████████████████████████████████████████████████████| 14/14 [00:03<00:00,  3.60it/s]\n"
     ]
    },
    {
     "name": "stdout",
     "output_type": "stream",
     "text": [
      "Train - Emotion Loss: 0.5530, FACS Loss: 0.1512\n",
      "Train - Emotion F1: 1.0000, FACS F1: 0.7509\n",
      "Val - Emotion Loss: 0.6112, FACS Loss: 0.2119\n",
      "Val - Emotion F1: 0.9377, FACS F1: 0.6237\n",
      "\n",
      "Epoch 18/100\n"
     ]
    },
    {
     "name": "stderr",
     "output_type": "stream",
     "text": [
      "100%|██████████████████████████████████████████████████████████████████████████████████| 14/14 [00:03<00:00,  3.60it/s]\n"
     ]
    },
    {
     "name": "stdout",
     "output_type": "stream",
     "text": [
      "Train - Emotion Loss: 0.5530, FACS Loss: 0.1354\n",
      "Train - Emotion F1: 1.0000, FACS F1: 0.7845\n",
      "Val - Emotion Loss: 0.6091, FACS Loss: 0.2107\n",
      "Val - Emotion F1: 0.9377, FACS F1: 0.6139\n",
      "\n",
      "Epoch 19/100\n"
     ]
    },
    {
     "name": "stderr",
     "output_type": "stream",
     "text": [
      "100%|██████████████████████████████████████████████████████████████████████████████████| 14/14 [00:03<00:00,  3.60it/s]\n"
     ]
    },
    {
     "name": "stdout",
     "output_type": "stream",
     "text": [
      "Train - Emotion Loss: 0.5537, FACS Loss: 0.1275\n",
      "Train - Emotion F1: 1.0000, FACS F1: 0.7896\n",
      "Val - Emotion Loss: 0.6188, FACS Loss: 0.2143\n",
      "Val - Emotion F1: 0.9305, FACS F1: 0.6550\n",
      "\n",
      "Epoch 20/100\n"
     ]
    },
    {
     "name": "stderr",
     "output_type": "stream",
     "text": [
      "100%|██████████████████████████████████████████████████████████████████████████████████| 14/14 [00:03<00:00,  3.61it/s]\n"
     ]
    },
    {
     "name": "stdout",
     "output_type": "stream",
     "text": [
      "Train - Emotion Loss: 0.5549, FACS Loss: 0.1172\n",
      "Train - Emotion F1: 0.9976, FACS F1: 0.8457\n",
      "Val - Emotion Loss: 0.6333, FACS Loss: 0.2302\n",
      "Val - Emotion F1: 0.9036, FACS F1: 0.6461\n",
      "\n",
      "Epoch 21/100\n"
     ]
    },
    {
     "name": "stderr",
     "output_type": "stream",
     "text": [
      "100%|██████████████████████████████████████████████████████████████████████████████████| 14/14 [00:03<00:00,  3.60it/s]\n"
     ]
    },
    {
     "name": "stdout",
     "output_type": "stream",
     "text": [
      "Train - Emotion Loss: 0.5545, FACS Loss: 0.1189\n",
      "Train - Emotion F1: 0.9977, FACS F1: 0.8385\n",
      "Val - Emotion Loss: 0.6137, FACS Loss: 0.2178\n",
      "Val - Emotion F1: 0.9215, FACS F1: 0.6902\n",
      "\n",
      "Epoch 22/100\n"
     ]
    },
    {
     "name": "stderr",
     "output_type": "stream",
     "text": [
      "100%|██████████████████████████████████████████████████████████████████████████████████| 14/14 [00:03<00:00,  3.60it/s]\n"
     ]
    },
    {
     "name": "stdout",
     "output_type": "stream",
     "text": [
      "Train - Emotion Loss: 0.5551, FACS Loss: 0.1124\n",
      "Train - Emotion F1: 0.9953, FACS F1: 0.8544\n",
      "Val - Emotion Loss: 0.6288, FACS Loss: 0.2219\n",
      "Val - Emotion F1: 0.9125, FACS F1: 0.6645\n",
      "\n",
      "Epoch 23/100\n"
     ]
    },
    {
     "name": "stderr",
     "output_type": "stream",
     "text": [
      "100%|██████████████████████████████████████████████████████████████████████████████████| 14/14 [00:03<00:00,  3.61it/s]\n"
     ]
    },
    {
     "name": "stdout",
     "output_type": "stream",
     "text": [
      "Train - Emotion Loss: 0.5531, FACS Loss: 0.1031\n",
      "Train - Emotion F1: 1.0000, FACS F1: 0.8506\n",
      "Val - Emotion Loss: 0.6076, FACS Loss: 0.2144\n",
      "Val - Emotion F1: 0.9377, FACS F1: 0.6926\n",
      "\n",
      "Epoch 24/100\n"
     ]
    },
    {
     "name": "stderr",
     "output_type": "stream",
     "text": [
      "100%|██████████████████████████████████████████████████████████████████████████████████| 14/14 [00:03<00:00,  3.59it/s]\n"
     ]
    },
    {
     "name": "stdout",
     "output_type": "stream",
     "text": [
      "Train - Emotion Loss: 0.5548, FACS Loss: 0.1000\n",
      "Train - Emotion F1: 0.9976, FACS F1: 0.8581\n",
      "Val - Emotion Loss: 0.6178, FACS Loss: 0.2179\n",
      "Val - Emotion F1: 0.9242, FACS F1: 0.7310\n",
      "\n",
      "Epoch 25/100\n"
     ]
    },
    {
     "name": "stderr",
     "output_type": "stream",
     "text": [
      "100%|██████████████████████████████████████████████████████████████████████████████████| 14/14 [00:03<00:00,  3.59it/s]\n"
     ]
    },
    {
     "name": "stdout",
     "output_type": "stream",
     "text": [
      "Train - Emotion Loss: 0.5537, FACS Loss: 0.0920\n",
      "Train - Emotion F1: 0.9975, FACS F1: 0.8712\n",
      "Val - Emotion Loss: 0.6462, FACS Loss: 0.2407\n",
      "Val - Emotion F1: 0.8984, FACS F1: 0.6792\n",
      "\n",
      "Epoch 26/100\n"
     ]
    },
    {
     "name": "stderr",
     "output_type": "stream",
     "text": [
      "100%|██████████████████████████████████████████████████████████████████████████████████| 14/14 [00:03<00:00,  3.59it/s]\n"
     ]
    },
    {
     "name": "stdout",
     "output_type": "stream",
     "text": [
      "Train - Emotion Loss: 0.5600, FACS Loss: 0.0891\n",
      "Train - Emotion F1: 0.9929, FACS F1: 0.8803\n",
      "Val - Emotion Loss: 0.6309, FACS Loss: 0.2320\n",
      "Val - Emotion F1: 0.8966, FACS F1: 0.6938\n",
      "\n",
      "Epoch 27/100\n"
     ]
    },
    {
     "name": "stderr",
     "output_type": "stream",
     "text": [
      "100%|██████████████████████████████████████████████████████████████████████████████████| 14/14 [00:03<00:00,  3.60it/s]\n"
     ]
    },
    {
     "name": "stdout",
     "output_type": "stream",
     "text": [
      "Train - Emotion Loss: 0.5545, FACS Loss: 0.0795\n",
      "Train - Emotion F1: 0.9976, FACS F1: 0.9004\n",
      "Val - Emotion Loss: 0.6215, FACS Loss: 0.2343\n",
      "Val - Emotion F1: 0.9125, FACS F1: 0.6770\n",
      "\n",
      "Epoch 28/100\n"
     ]
    },
    {
     "name": "stderr",
     "output_type": "stream",
     "text": [
      "100%|██████████████████████████████████████████████████████████████████████████████████| 14/14 [00:03<00:00,  3.58it/s]\n"
     ]
    },
    {
     "name": "stdout",
     "output_type": "stream",
     "text": [
      "Train - Emotion Loss: 0.5521, FACS Loss: 0.0760\n",
      "Train - Emotion F1: 1.0000, FACS F1: 0.8969\n",
      "Val - Emotion Loss: 0.6205, FACS Loss: 0.2279\n",
      "Val - Emotion F1: 0.9093, FACS F1: 0.7541\n",
      "\n",
      "Epoch 29/100\n"
     ]
    },
    {
     "name": "stderr",
     "output_type": "stream",
     "text": [
      "100%|██████████████████████████████████████████████████████████████████████████████████| 14/14 [00:03<00:00,  3.53it/s]\n"
     ]
    },
    {
     "name": "stdout",
     "output_type": "stream",
     "text": [
      "Train - Emotion Loss: 0.5550, FACS Loss: 0.0786\n",
      "Train - Emotion F1: 0.9977, FACS F1: 0.8988\n",
      "Val - Emotion Loss: 0.6164, FACS Loss: 0.2353\n",
      "Val - Emotion F1: 0.9215, FACS F1: 0.6740\n",
      "\n",
      "Epoch 30/100\n"
     ]
    },
    {
     "name": "stderr",
     "output_type": "stream",
     "text": [
      "100%|██████████████████████████████████████████████████████████████████████████████████| 14/14 [00:03<00:00,  3.53it/s]\n"
     ]
    },
    {
     "name": "stdout",
     "output_type": "stream",
     "text": [
      "Train - Emotion Loss: 0.5529, FACS Loss: 0.0696\n",
      "Train - Emotion F1: 0.9976, FACS F1: 0.9169\n",
      "Val - Emotion Loss: 0.6199, FACS Loss: 0.2464\n",
      "Val - Emotion F1: 0.9215, FACS F1: 0.6960\n",
      "\n",
      "Epoch 31/100\n"
     ]
    },
    {
     "name": "stderr",
     "output_type": "stream",
     "text": [
      "100%|██████████████████████████████████████████████████████████████████████████████████| 14/14 [00:03<00:00,  3.53it/s]\n"
     ]
    },
    {
     "name": "stdout",
     "output_type": "stream",
     "text": [
      "Train - Emotion Loss: 0.5550, FACS Loss: 0.0670\n",
      "Train - Emotion F1: 0.9953, FACS F1: 0.9257\n",
      "Val - Emotion Loss: 0.6282, FACS Loss: 0.2388\n",
      "Val - Emotion F1: 0.9125, FACS F1: 0.6745\n",
      "\n",
      "Epoch 32/100\n"
     ]
    },
    {
     "name": "stderr",
     "output_type": "stream",
     "text": [
      "100%|██████████████████████████████████████████████████████████████████████████████████| 14/14 [00:03<00:00,  3.59it/s]\n"
     ]
    },
    {
     "name": "stdout",
     "output_type": "stream",
     "text": [
      "Train - Emotion Loss: 0.5527, FACS Loss: 0.0632\n",
      "Train - Emotion F1: 1.0000, FACS F1: 0.9239\n",
      "Val - Emotion Loss: 0.6457, FACS Loss: 0.2392\n",
      "Val - Emotion F1: 0.8950, FACS F1: 0.6979\n",
      "\n",
      "Epoch 33/100\n"
     ]
    },
    {
     "name": "stderr",
     "output_type": "stream",
     "text": [
      "100%|██████████████████████████████████████████████████████████████████████████████████| 14/14 [00:04<00:00,  3.47it/s]\n"
     ]
    },
    {
     "name": "stdout",
     "output_type": "stream",
     "text": [
      "Train - Emotion Loss: 0.5523, FACS Loss: 0.0647\n",
      "Train - Emotion F1: 1.0000, FACS F1: 0.9193\n",
      "Val - Emotion Loss: 0.6416, FACS Loss: 0.2378\n",
      "Val - Emotion F1: 0.8950, FACS F1: 0.6916\n",
      "\n",
      "Epoch 34/100\n"
     ]
    },
    {
     "name": "stderr",
     "output_type": "stream",
     "text": [
      "100%|██████████████████████████████████████████████████████████████████████████████████| 14/14 [00:03<00:00,  3.58it/s]\n"
     ]
    },
    {
     "name": "stdout",
     "output_type": "stream",
     "text": [
      "Train - Emotion Loss: 0.5520, FACS Loss: 0.0596\n",
      "Train - Emotion F1: 1.0000, FACS F1: 0.9382\n",
      "Val - Emotion Loss: 0.6307, FACS Loss: 0.2357\n",
      "Val - Emotion F1: 0.8950, FACS F1: 0.6870\n",
      "\n",
      "Epoch 35/100\n"
     ]
    },
    {
     "name": "stderr",
     "output_type": "stream",
     "text": [
      "100%|██████████████████████████████████████████████████████████████████████████████████| 14/14 [00:03<00:00,  3.58it/s]\n"
     ]
    },
    {
     "name": "stdout",
     "output_type": "stream",
     "text": [
      "Train - Emotion Loss: 0.5526, FACS Loss: 0.0526\n",
      "Train - Emotion F1: 1.0000, FACS F1: 0.9450\n",
      "Val - Emotion Loss: 0.6310, FACS Loss: 0.2312\n",
      "Val - Emotion F1: 0.9068, FACS F1: 0.6940\n",
      "\n",
      "Epoch 36/100\n"
     ]
    },
    {
     "name": "stderr",
     "output_type": "stream",
     "text": [
      "100%|██████████████████████████████████████████████████████████████████████████████████| 14/14 [00:03<00:00,  3.55it/s]\n"
     ]
    },
    {
     "name": "stdout",
     "output_type": "stream",
     "text": [
      "Train - Emotion Loss: 0.5519, FACS Loss: 0.0468\n",
      "Train - Emotion F1: 1.0000, FACS F1: 0.9602\n",
      "Val - Emotion Loss: 0.6419, FACS Loss: 0.2383\n",
      "Val - Emotion F1: 0.8829, FACS F1: 0.6974\n",
      "\n",
      "Epoch 37/100\n"
     ]
    },
    {
     "name": "stderr",
     "output_type": "stream",
     "text": [
      "100%|██████████████████████████████████████████████████████████████████████████████████| 14/14 [00:03<00:00,  3.55it/s]\n"
     ]
    },
    {
     "name": "stdout",
     "output_type": "stream",
     "text": [
      "Train - Emotion Loss: 0.5517, FACS Loss: 0.0459\n",
      "Train - Emotion F1: 1.0000, FACS F1: 0.9520\n",
      "Val - Emotion Loss: 0.6342, FACS Loss: 0.2337\n",
      "Val - Emotion F1: 0.9036, FACS F1: 0.6754\n",
      "\n",
      "Epoch 38/100\n"
     ]
    },
    {
     "name": "stderr",
     "output_type": "stream",
     "text": [
      "100%|██████████████████████████████████████████████████████████████████████████████████| 14/14 [00:03<00:00,  3.58it/s]\n"
     ]
    },
    {
     "name": "stdout",
     "output_type": "stream",
     "text": [
      "Train - Emotion Loss: 0.5548, FACS Loss: 0.0490\n",
      "Train - Emotion F1: 0.9964, FACS F1: 0.9466\n",
      "Val - Emotion Loss: 0.6254, FACS Loss: 0.2332\n",
      "Val - Emotion F1: 0.9154, FACS F1: 0.6758\n",
      "\n",
      "Epoch 39/100\n"
     ]
    },
    {
     "name": "stderr",
     "output_type": "stream",
     "text": [
      "100%|██████████████████████████████████████████████████████████████████████████████████| 14/14 [00:03<00:00,  3.59it/s]\n"
     ]
    },
    {
     "name": "stdout",
     "output_type": "stream",
     "text": [
      "Train - Emotion Loss: 0.5530, FACS Loss: 0.0460\n",
      "Train - Emotion F1: 0.9975, FACS F1: 0.9523\n",
      "Val - Emotion Loss: 0.6323, FACS Loss: 0.2463\n",
      "Val - Emotion F1: 0.9003, FACS F1: 0.6724\n",
      "\n",
      "Epoch 40/100\n"
     ]
    },
    {
     "name": "stderr",
     "output_type": "stream",
     "text": [
      "100%|██████████████████████████████████████████████████████████████████████████████████| 14/14 [00:03<00:00,  3.58it/s]\n"
     ]
    },
    {
     "name": "stdout",
     "output_type": "stream",
     "text": [
      "Train - Emotion Loss: 0.5517, FACS Loss: 0.0415\n",
      "Train - Emotion F1: 1.0000, FACS F1: 0.9597\n",
      "Val - Emotion Loss: 0.6465, FACS Loss: 0.2449\n",
      "Val - Emotion F1: 0.8829, FACS F1: 0.6750\n",
      "\n",
      "Epoch 41/100\n"
     ]
    },
    {
     "name": "stderr",
     "output_type": "stream",
     "text": [
      "100%|██████████████████████████████████████████████████████████████████████████████████| 14/14 [00:03<00:00,  3.60it/s]\n"
     ]
    },
    {
     "name": "stdout",
     "output_type": "stream",
     "text": [
      "Train - Emotion Loss: 0.5523, FACS Loss: 0.0409\n",
      "Train - Emotion F1: 1.0000, FACS F1: 0.9591\n",
      "Val - Emotion Loss: 0.6370, FACS Loss: 0.2569\n",
      "Val - Emotion F1: 0.9003, FACS F1: 0.6631\n",
      "\n",
      "Epoch 42/100\n"
     ]
    },
    {
     "name": "stderr",
     "output_type": "stream",
     "text": [
      "100%|██████████████████████████████████████████████████████████████████████████████████| 14/14 [00:03<00:00,  3.58it/s]\n"
     ]
    },
    {
     "name": "stdout",
     "output_type": "stream",
     "text": [
      "Train - Emotion Loss: 0.5519, FACS Loss: 0.0360\n",
      "Train - Emotion F1: 1.0000, FACS F1: 0.9585\n",
      "Val - Emotion Loss: 0.6289, FACS Loss: 0.2496\n",
      "Val - Emotion F1: 0.9003, FACS F1: 0.6728\n",
      "\n",
      "Epoch 43/100\n"
     ]
    },
    {
     "name": "stderr",
     "output_type": "stream",
     "text": [
      "100%|██████████████████████████████████████████████████████████████████████████████████| 14/14 [00:03<00:00,  3.51it/s]\n"
     ]
    },
    {
     "name": "stdout",
     "output_type": "stream",
     "text": [
      "Train - Emotion Loss: 0.5517, FACS Loss: 0.0352\n",
      "Train - Emotion F1: 1.0000, FACS F1: 0.9669\n",
      "Val - Emotion Loss: 0.6188, FACS Loss: 0.2406\n",
      "Val - Emotion F1: 0.9242, FACS F1: 0.7098\n",
      "\n",
      "Epoch 44/100\n"
     ]
    },
    {
     "name": "stderr",
     "output_type": "stream",
     "text": [
      "100%|██████████████████████████████████████████████████████████████████████████████████| 14/14 [00:03<00:00,  3.60it/s]\n"
     ]
    },
    {
     "name": "stdout",
     "output_type": "stream",
     "text": [
      "Train - Emotion Loss: 0.5516, FACS Loss: 0.0348\n",
      "Train - Emotion F1: 1.0000, FACS F1: 0.9699\n",
      "Val - Emotion Loss: 0.6191, FACS Loss: 0.2516\n",
      "Val - Emotion F1: 0.9215, FACS F1: 0.7077\n",
      "\n",
      "Epoch 45/100\n"
     ]
    },
    {
     "name": "stderr",
     "output_type": "stream",
     "text": [
      "100%|██████████████████████████████████████████████████████████████████████████████████| 14/14 [00:03<00:00,  3.59it/s]\n"
     ]
    },
    {
     "name": "stdout",
     "output_type": "stream",
     "text": [
      "Train - Emotion Loss: 0.5516, FACS Loss: 0.0314\n",
      "Train - Emotion F1: 1.0000, FACS F1: 0.9617\n",
      "Val - Emotion Loss: 0.6209, FACS Loss: 0.2578\n",
      "Val - Emotion F1: 0.9093, FACS F1: 0.6979\n",
      "\n",
      "Epoch 46/100\n"
     ]
    },
    {
     "name": "stderr",
     "output_type": "stream",
     "text": [
      "100%|██████████████████████████████████████████████████████████████████████████████████| 14/14 [00:03<00:00,  3.59it/s]\n"
     ]
    },
    {
     "name": "stdout",
     "output_type": "stream",
     "text": [
      "Train - Emotion Loss: 0.5517, FACS Loss: 0.0308\n",
      "Train - Emotion F1: 1.0000, FACS F1: 0.9673\n",
      "Val - Emotion Loss: 0.6172, FACS Loss: 0.2516\n",
      "Val - Emotion F1: 0.9332, FACS F1: 0.6910\n",
      "\n",
      "Epoch 47/100\n"
     ]
    },
    {
     "name": "stderr",
     "output_type": "stream",
     "text": [
      "100%|██████████████████████████████████████████████████████████████████████████████████| 14/14 [00:03<00:00,  3.59it/s]\n"
     ]
    },
    {
     "name": "stdout",
     "output_type": "stream",
     "text": [
      "Train - Emotion Loss: 0.5518, FACS Loss: 0.0298\n",
      "Train - Emotion F1: 1.0000, FACS F1: 0.9769\n",
      "Val - Emotion Loss: 0.6322, FACS Loss: 0.2541\n",
      "Val - Emotion F1: 0.9068, FACS F1: 0.6994\n",
      "\n",
      "Epoch 48/100\n"
     ]
    },
    {
     "name": "stderr",
     "output_type": "stream",
     "text": [
      "100%|██████████████████████████████████████████████████████████████████████████████████| 14/14 [00:03<00:00,  3.53it/s]\n"
     ]
    },
    {
     "name": "stdout",
     "output_type": "stream",
     "text": [
      "Train - Emotion Loss: 0.5523, FACS Loss: 0.0285\n",
      "Train - Emotion F1: 1.0000, FACS F1: 0.9800\n",
      "Val - Emotion Loss: 0.6091, FACS Loss: 0.2694\n",
      "Val - Emotion F1: 0.9332, FACS F1: 0.7068\n",
      "Early stop at epoch 48\n",
      "Best Val - Emotion Loss: 0.6205, Best FACS Loss: 0.2279\n",
      "Best Val - Emotion F1: 0.9093, Best FACS F1: 0.7541\n"
     ]
    }
   ],
   "source": [
    "aug_resnet50_pretrained_trainer.train(num_epochs=100)"
   ]
  },
  {
   "cell_type": "code",
   "execution_count": 38,
   "id": "4a305bf8-9899-4455-b133-fedd95e3e998",
   "metadata": {},
   "outputs": [
    {
     "data": {
      "image/png": "[encoded data removed]",
      "text/plain": [
       "<Figure size 1500x1000 with 4 Axes>"
      ]
     },
     "metadata": {},
     "output_type": "display_data"
    }
   ],
   "source": [
    "aug_resnet50_pretrained_trainer.plot_metrics()"
   ]
  },
  {
   "cell_type": "markdown",
   "id": "871777f3-4f49-4627-8bfe-86811a4b4239",
   "metadata": {},
   "source": [
    "#### ResNet18"
   ]
  },
  {
   "cell_type": "code",
   "execution_count": 39,
   "id": "1207f8ed-6aaf-41eb-bd74-1bd025296eec",
   "metadata": {},
   "outputs": [],
   "source": [
    "resnet18_pretrained = model.EmotionFACsNet(backbone_name='resnet18', pretrained=True)"
   ]
  },
  {
   "cell_type": "code",
   "execution_count": 40,
   "id": "8590aa39-eab1-4fbb-8c09-2216350c5d81",
   "metadata": {},
   "outputs": [],
   "source": [
    "resnet18_pretrained_trainer= trainer.EmotionFACsTrainer(resnet18_pretrained,'resnet18_pretrained', train_loader, val_loader, patience = 20)"
   ]
  },
  {
   "cell_type": "code",
   "execution_count": 41,
   "id": "61b415e4-eefa-4d6d-a365-52443b20e781",
   "metadata": {
    "scrolled": true
   },
   "outputs": [
    {
     "name": "stdout",
     "output_type": "stream",
     "text": [
      "\n",
      "Epoch 1/100\n"
     ]
    },
    {
     "name": "stderr",
     "output_type": "stream",
     "text": [
      "100%|██████████████████████████████████████████████████████████████████████████████████| 14/14 [00:03<00:00,  4.62it/s]\n"
     ]
    },
    {
     "name": "stdout",
     "output_type": "stream",
     "text": [
      "Train - Emotion Loss: 0.9702, FACS Loss: 0.6274\n",
      "Train - Emotion F1: 0.4190, FACS F1: 0.2429\n",
      "Val - Emotion Loss: 0.8802, FACS Loss: 0.5467\n",
      "Val - Emotion F1: 0.5143, FACS F1: 0.0644\n",
      "\n",
      "Epoch 2/100\n"
     ]
    },
    {
     "name": "stderr",
     "output_type": "stream",
     "text": [
      "100%|██████████████████████████████████████████████████████████████████████████████████| 14/14 [00:03<00:00,  4.25it/s]\n"
     ]
    },
    {
     "name": "stdout",
     "output_type": "stream",
     "text": [
      "Train - Emotion Loss: 0.8044, FACS Loss: 0.5011\n",
      "Train - Emotion F1: 0.5752, FACS F1: 0.1698\n",
      "Val - Emotion Loss: 0.7821, FACS Loss: 0.4264\n",
      "Val - Emotion F1: 0.5427, FACS F1: 0.1298\n",
      "\n",
      "Epoch 3/100\n"
     ]
    },
    {
     "name": "stderr",
     "output_type": "stream",
     "text": [
      "100%|██████████████████████████████████████████████████████████████████████████████████| 14/14 [00:03<00:00,  4.30it/s]\n"
     ]
    },
    {
     "name": "stdout",
     "output_type": "stream",
     "text": [
      "Train - Emotion Loss: 0.7063, FACS Loss: 0.4210\n",
      "Train - Emotion F1: 0.8338, FACS F1: 0.2582\n",
      "Val - Emotion Loss: 0.6907, FACS Loss: 0.3590\n",
      "Val - Emotion F1: 0.8371, FACS F1: 0.2889\n",
      "\n",
      "Epoch 4/100\n"
     ]
    },
    {
     "name": "stderr",
     "output_type": "stream",
     "text": [
      "100%|██████████████████████████████████████████████████████████████████████████████████| 14/14 [00:03<00:00,  4.32it/s]\n"
     ]
    },
    {
     "name": "stdout",
     "output_type": "stream",
     "text": [
      "Train - Emotion Loss: 0.6150, FACS Loss: 0.3702\n",
      "Train - Emotion F1: 0.9687, FACS F1: 0.3246\n",
      "Val - Emotion Loss: 0.6667, FACS Loss: 0.3286\n",
      "Val - Emotion F1: 0.8968, FACS F1: 0.3370\n",
      "\n",
      "Epoch 5/100\n"
     ]
    },
    {
     "name": "stderr",
     "output_type": "stream",
     "text": [
      "100%|██████████████████████████████████████████████████████████████████████████████████| 14/14 [00:03<00:00,  4.38it/s]\n"
     ]
    },
    {
     "name": "stdout",
     "output_type": "stream",
     "text": [
      "Train - Emotion Loss: 0.5882, FACS Loss: 0.3362\n",
      "Train - Emotion F1: 0.9774, FACS F1: 0.4053\n",
      "Val - Emotion Loss: 0.6654, FACS Loss: 0.3066\n",
      "Val - Emotion F1: 0.8608, FACS F1: 0.4049\n",
      "\n",
      "Epoch 6/100\n"
     ]
    },
    {
     "name": "stderr",
     "output_type": "stream",
     "text": [
      "100%|██████████████████████████████████████████████████████████████████████████████████| 14/14 [00:03<00:00,  4.35it/s]\n"
     ]
    },
    {
     "name": "stdout",
     "output_type": "stream",
     "text": [
      "Train - Emotion Loss: 0.5715, FACS Loss: 0.3055\n",
      "Train - Emotion F1: 0.9881, FACS F1: 0.4504\n",
      "Val - Emotion Loss: 0.6606, FACS Loss: 0.2824\n",
      "Val - Emotion F1: 0.8746, FACS F1: 0.4377\n",
      "\n",
      "Epoch 7/100\n"
     ]
    },
    {
     "name": "stderr",
     "output_type": "stream",
     "text": [
      "100%|██████████████████████████████████████████████████████████████████████████████████| 14/14 [00:03<00:00,  4.32it/s]\n"
     ]
    },
    {
     "name": "stdout",
     "output_type": "stream",
     "text": [
      "Train - Emotion Loss: 0.5669, FACS Loss: 0.2846\n",
      "Train - Emotion F1: 0.9929, FACS F1: 0.4766\n",
      "Val - Emotion Loss: 0.6614, FACS Loss: 0.2649\n",
      "Val - Emotion F1: 0.8593, FACS F1: 0.4501\n",
      "\n",
      "Epoch 8/100\n"
     ]
    },
    {
     "name": "stderr",
     "output_type": "stream",
     "text": [
      "100%|██████████████████████████████████████████████████████████████████████████████████| 14/14 [00:03<00:00,  4.33it/s]\n"
     ]
    },
    {
     "name": "stdout",
     "output_type": "stream",
     "text": [
      "Train - Emotion Loss: 0.5626, FACS Loss: 0.2720\n",
      "Train - Emotion F1: 0.9926, FACS F1: 0.5115\n",
      "Val - Emotion Loss: 0.6495, FACS Loss: 0.2575\n",
      "Val - Emotion F1: 0.8903, FACS F1: 0.4702\n",
      "\n",
      "Epoch 9/100\n"
     ]
    },
    {
     "name": "stderr",
     "output_type": "stream",
     "text": [
      "100%|██████████████████████████████████████████████████████████████████████████████████| 14/14 [00:03<00:00,  4.31it/s]\n"
     ]
    },
    {
     "name": "stdout",
     "output_type": "stream",
     "text": [
      "Train - Emotion Loss: 0.5621, FACS Loss: 0.2428\n",
      "Train - Emotion F1: 0.9976, FACS F1: 0.5492\n",
      "Val - Emotion Loss: 0.6418, FACS Loss: 0.2438\n",
      "Val - Emotion F1: 0.9093, FACS F1: 0.5428\n",
      "\n",
      "Epoch 10/100\n"
     ]
    },
    {
     "name": "stderr",
     "output_type": "stream",
     "text": [
      "100%|██████████████████████████████████████████████████████████████████████████████████| 14/14 [00:03<00:00,  4.29it/s]\n"
     ]
    },
    {
     "name": "stdout",
     "output_type": "stream",
     "text": [
      "Train - Emotion Loss: 0.5660, FACS Loss: 0.2270\n",
      "Train - Emotion F1: 0.9869, FACS F1: 0.5735\n",
      "Val - Emotion Loss: 0.6537, FACS Loss: 0.2322\n",
      "Val - Emotion F1: 0.8891, FACS F1: 0.5428\n",
      "\n",
      "Epoch 11/100\n"
     ]
    },
    {
     "name": "stderr",
     "output_type": "stream",
     "text": [
      "100%|██████████████████████████████████████████████████████████████████████████████████| 14/14 [00:03<00:00,  4.34it/s]\n"
     ]
    },
    {
     "name": "stdout",
     "output_type": "stream",
     "text": [
      "Train - Emotion Loss: 0.5635, FACS Loss: 0.2134\n",
      "Train - Emotion F1: 0.9929, FACS F1: 0.5920\n",
      "Val - Emotion Loss: 0.6385, FACS Loss: 0.2267\n",
      "Val - Emotion F1: 0.9085, FACS F1: 0.5318\n",
      "\n",
      "Epoch 12/100\n"
     ]
    },
    {
     "name": "stderr",
     "output_type": "stream",
     "text": [
      "100%|██████████████████████████████████████████████████████████████████████████████████| 14/14 [00:03<00:00,  4.34it/s]\n"
     ]
    },
    {
     "name": "stdout",
     "output_type": "stream",
     "text": [
      "Train - Emotion Loss: 0.5618, FACS Loss: 0.1959\n",
      "Train - Emotion F1: 0.9953, FACS F1: 0.6398\n",
      "Val - Emotion Loss: 0.6544, FACS Loss: 0.2249\n",
      "Val - Emotion F1: 0.9106, FACS F1: 0.5527\n",
      "\n",
      "Epoch 13/100\n"
     ]
    },
    {
     "name": "stderr",
     "output_type": "stream",
     "text": [
      "100%|██████████████████████████████████████████████████████████████████████████████████| 14/14 [00:03<00:00,  4.29it/s]\n"
     ]
    },
    {
     "name": "stdout",
     "output_type": "stream",
     "text": [
      "Train - Emotion Loss: 0.5599, FACS Loss: 0.1836\n",
      "Train - Emotion F1: 0.9953, FACS F1: 0.6652\n",
      "Val - Emotion Loss: 0.6387, FACS Loss: 0.2215\n",
      "Val - Emotion F1: 0.9075, FACS F1: 0.5643\n",
      "\n",
      "Epoch 14/100\n"
     ]
    },
    {
     "name": "stderr",
     "output_type": "stream",
     "text": [
      "100%|██████████████████████████████████████████████████████████████████████████████████| 14/14 [00:03<00:00,  4.28it/s]\n"
     ]
    },
    {
     "name": "stdout",
     "output_type": "stream",
     "text": [
      "Train - Emotion Loss: 0.5651, FACS Loss: 0.1691\n",
      "Train - Emotion F1: 0.9905, FACS F1: 0.7178\n",
      "Val - Emotion Loss: 0.6324, FACS Loss: 0.2095\n",
      "Val - Emotion F1: 0.9290, FACS F1: 0.5876\n",
      "\n",
      "Epoch 15/100\n"
     ]
    },
    {
     "name": "stderr",
     "output_type": "stream",
     "text": [
      "100%|██████████████████████████████████████████████████████████████████████████████████| 14/14 [00:03<00:00,  4.27it/s]\n"
     ]
    },
    {
     "name": "stdout",
     "output_type": "stream",
     "text": [
      "Train - Emotion Loss: 0.5584, FACS Loss: 0.1597\n",
      "Train - Emotion F1: 0.9976, FACS F1: 0.7329\n",
      "Val - Emotion Loss: 0.6282, FACS Loss: 0.2084\n",
      "Val - Emotion F1: 0.9277, FACS F1: 0.5743\n",
      "\n",
      "Epoch 16/100\n"
     ]
    },
    {
     "name": "stderr",
     "output_type": "stream",
     "text": [
      "100%|██████████████████████████████████████████████████████████████████████████████████| 14/14 [00:03<00:00,  4.30it/s]\n"
     ]
    },
    {
     "name": "stdout",
     "output_type": "stream",
     "text": [
      "Train - Emotion Loss: 0.5571, FACS Loss: 0.1513\n",
      "Train - Emotion F1: 0.9976, FACS F1: 0.7472\n",
      "Val - Emotion Loss: 0.6426, FACS Loss: 0.2155\n",
      "Val - Emotion F1: 0.8968, FACS F1: 0.5663\n",
      "\n",
      "Epoch 17/100\n"
     ]
    },
    {
     "name": "stderr",
     "output_type": "stream",
     "text": [
      "100%|██████████████████████████████████████████████████████████████████████████████████| 14/14 [00:03<00:00,  4.34it/s]\n"
     ]
    },
    {
     "name": "stdout",
     "output_type": "stream",
     "text": [
      "Train - Emotion Loss: 0.5576, FACS Loss: 0.1427\n",
      "Train - Emotion F1: 0.9976, FACS F1: 0.7886\n",
      "Val - Emotion Loss: 0.6210, FACS Loss: 0.2077\n",
      "Val - Emotion F1: 0.9290, FACS F1: 0.6057\n",
      "\n",
      "Epoch 18/100\n"
     ]
    },
    {
     "name": "stderr",
     "output_type": "stream",
     "text": [
      "100%|██████████████████████████████████████████████████████████████████████████████████| 14/14 [00:03<00:00,  4.35it/s]\n"
     ]
    },
    {
     "name": "stdout",
     "output_type": "stream",
     "text": [
      "Train - Emotion Loss: 0.5573, FACS Loss: 0.1295\n",
      "Train - Emotion F1: 0.9951, FACS F1: 0.8151\n",
      "Val - Emotion Loss: 0.6395, FACS Loss: 0.2109\n",
      "Val - Emotion F1: 0.9075, FACS F1: 0.5847\n",
      "\n",
      "Epoch 19/100\n"
     ]
    },
    {
     "name": "stderr",
     "output_type": "stream",
     "text": [
      "100%|██████████████████████████████████████████████████████████████████████████████████| 14/14 [00:03<00:00,  4.33it/s]\n"
     ]
    },
    {
     "name": "stdout",
     "output_type": "stream",
     "text": [
      "Train - Emotion Loss: 0.5569, FACS Loss: 0.1274\n",
      "Train - Emotion F1: 0.9976, FACS F1: 0.8239\n",
      "Val - Emotion Loss: 0.6421, FACS Loss: 0.2011\n",
      "Val - Emotion F1: 0.9066, FACS F1: 0.6220\n",
      "\n",
      "Epoch 20/100\n"
     ]
    },
    {
     "name": "stderr",
     "output_type": "stream",
     "text": [
      "100%|██████████████████████████████████████████████████████████████████████████████████| 14/14 [00:03<00:00,  4.34it/s]\n"
     ]
    },
    {
     "name": "stdout",
     "output_type": "stream",
     "text": [
      "Train - Emotion Loss: 0.5563, FACS Loss: 0.1162\n",
      "Train - Emotion F1: 0.9976, FACS F1: 0.8425\n",
      "Val - Emotion Loss: 0.6492, FACS Loss: 0.2016\n",
      "Val - Emotion F1: 0.8956, FACS F1: 0.6316\n",
      "\n",
      "Epoch 21/100\n"
     ]
    },
    {
     "name": "stderr",
     "output_type": "stream",
     "text": [
      "100%|██████████████████████████████████████████████████████████████████████████████████| 14/14 [00:03<00:00,  4.27it/s]\n"
     ]
    },
    {
     "name": "stdout",
     "output_type": "stream",
     "text": [
      "Train - Emotion Loss: 0.5576, FACS Loss: 0.1143\n",
      "Train - Emotion F1: 0.9976, FACS F1: 0.8651\n",
      "Val - Emotion Loss: 0.6350, FACS Loss: 0.2189\n",
      "Val - Emotion F1: 0.9068, FACS F1: 0.5798\n",
      "\n",
      "Epoch 22/100\n"
     ]
    },
    {
     "name": "stderr",
     "output_type": "stream",
     "text": [
      "100%|██████████████████████████████████████████████████████████████████████████████████| 14/14 [00:03<00:00,  4.32it/s]\n"
     ]
    },
    {
     "name": "stdout",
     "output_type": "stream",
     "text": [
      "Train - Emotion Loss: 0.5571, FACS Loss: 0.1060\n",
      "Train - Emotion F1: 0.9977, FACS F1: 0.8599\n",
      "Val - Emotion Loss: 0.6618, FACS Loss: 0.2178\n",
      "Val - Emotion F1: 0.8575, FACS F1: 0.6563\n",
      "\n",
      "Epoch 23/100\n"
     ]
    },
    {
     "name": "stderr",
     "output_type": "stream",
     "text": [
      "100%|██████████████████████████████████████████████████████████████████████████████████| 14/14 [00:03<00:00,  4.21it/s]\n"
     ]
    },
    {
     "name": "stdout",
     "output_type": "stream",
     "text": [
      "Train - Emotion Loss: 0.5557, FACS Loss: 0.1037\n",
      "Train - Emotion F1: 0.9976, FACS F1: 0.8793\n",
      "Val - Emotion Loss: 0.6331, FACS Loss: 0.2043\n",
      "Val - Emotion F1: 0.9093, FACS F1: 0.6081\n",
      "\n",
      "Epoch 24/100\n"
     ]
    },
    {
     "name": "stderr",
     "output_type": "stream",
     "text": [
      "100%|██████████████████████████████████████████████████████████████████████████████████| 14/14 [00:03<00:00,  4.31it/s]\n"
     ]
    },
    {
     "name": "stdout",
     "output_type": "stream",
     "text": [
      "Train - Emotion Loss: 0.5541, FACS Loss: 0.0918\n",
      "Train - Emotion F1: 1.0000, FACS F1: 0.8872\n",
      "Val - Emotion Loss: 0.6312, FACS Loss: 0.1977\n",
      "Val - Emotion F1: 0.9075, FACS F1: 0.6502\n",
      "\n",
      "Epoch 25/100\n"
     ]
    },
    {
     "name": "stderr",
     "output_type": "stream",
     "text": [
      "100%|██████████████████████████████████████████████████████████████████████████████████| 14/14 [00:03<00:00,  4.33it/s]\n"
     ]
    },
    {
     "name": "stdout",
     "output_type": "stream",
     "text": [
      "Train - Emotion Loss: 0.5548, FACS Loss: 0.0855\n",
      "Train - Emotion F1: 0.9976, FACS F1: 0.9016\n",
      "Val - Emotion Loss: 0.6292, FACS Loss: 0.2090\n",
      "Val - Emotion F1: 0.9184, FACS F1: 0.6111\n",
      "\n",
      "Epoch 26/100\n"
     ]
    },
    {
     "name": "stderr",
     "output_type": "stream",
     "text": [
      "100%|██████████████████████████████████████████████████████████████████████████████████| 14/14 [00:03<00:00,  4.25it/s]\n"
     ]
    },
    {
     "name": "stdout",
     "output_type": "stream",
     "text": [
      "Train - Emotion Loss: 0.5535, FACS Loss: 0.0828\n",
      "Train - Emotion F1: 1.0000, FACS F1: 0.9084\n",
      "Val - Emotion Loss: 0.6425, FACS Loss: 0.2101\n",
      "Val - Emotion F1: 0.8950, FACS F1: 0.6612\n",
      "\n",
      "Epoch 27/100\n"
     ]
    },
    {
     "name": "stderr",
     "output_type": "stream",
     "text": [
      "100%|██████████████████████████████████████████████████████████████████████████████████| 14/14 [00:03<00:00,  4.35it/s]\n"
     ]
    },
    {
     "name": "stdout",
     "output_type": "stream",
     "text": [
      "Train - Emotion Loss: 0.5530, FACS Loss: 0.0721\n",
      "Train - Emotion F1: 1.0000, FACS F1: 0.9243\n",
      "Val - Emotion Loss: 0.6352, FACS Loss: 0.2050\n",
      "Val - Emotion F1: 0.8964, FACS F1: 0.6194\n",
      "\n",
      "Epoch 28/100\n"
     ]
    },
    {
     "name": "stderr",
     "output_type": "stream",
     "text": [
      "100%|██████████████████████████████████████████████████████████████████████████████████| 14/14 [00:03<00:00,  4.35it/s]\n"
     ]
    },
    {
     "name": "stdout",
     "output_type": "stream",
     "text": [
      "Train - Emotion Loss: 0.5524, FACS Loss: 0.0705\n",
      "Train - Emotion F1: 1.0000, FACS F1: 0.9266\n",
      "Val - Emotion Loss: 0.6350, FACS Loss: 0.2132\n",
      "Val - Emotion F1: 0.9080, FACS F1: 0.6471\n",
      "\n",
      "Epoch 29/100\n"
     ]
    },
    {
     "name": "stderr",
     "output_type": "stream",
     "text": [
      "100%|██████████████████████████████████████████████████████████████████████████████████| 14/14 [00:03<00:00,  4.31it/s]\n"
     ]
    },
    {
     "name": "stdout",
     "output_type": "stream",
     "text": [
      "Train - Emotion Loss: 0.5532, FACS Loss: 0.0691\n",
      "Train - Emotion F1: 1.0000, FACS F1: 0.9332\n",
      "Val - Emotion Loss: 0.6376, FACS Loss: 0.2116\n",
      "Val - Emotion F1: 0.9184, FACS F1: 0.6199\n",
      "\n",
      "Epoch 30/100\n"
     ]
    },
    {
     "name": "stderr",
     "output_type": "stream",
     "text": [
      "100%|██████████████████████████████████████████████████████████████████████████████████| 14/14 [00:03<00:00,  4.28it/s]\n"
     ]
    },
    {
     "name": "stdout",
     "output_type": "stream",
     "text": [
      "Train - Emotion Loss: 0.5525, FACS Loss: 0.0654\n",
      "Train - Emotion F1: 1.0000, FACS F1: 0.9388\n",
      "Val - Emotion Loss: 0.6413, FACS Loss: 0.2176\n",
      "Val - Emotion F1: 0.8922, FACS F1: 0.6118\n",
      "\n",
      "Epoch 31/100\n"
     ]
    },
    {
     "name": "stderr",
     "output_type": "stream",
     "text": [
      "100%|██████████████████████████████████████████████████████████████████████████████████| 14/14 [00:03<00:00,  4.32it/s]\n"
     ]
    },
    {
     "name": "stdout",
     "output_type": "stream",
     "text": [
      "Train - Emotion Loss: 0.5546, FACS Loss: 0.0702\n",
      "Train - Emotion F1: 1.0000, FACS F1: 0.9201\n",
      "Val - Emotion Loss: 0.6451, FACS Loss: 0.2138\n",
      "Val - Emotion F1: 0.8801, FACS F1: 0.6490\n",
      "\n",
      "Epoch 32/100\n"
     ]
    },
    {
     "name": "stderr",
     "output_type": "stream",
     "text": [
      "100%|██████████████████████████████████████████████████████████████████████████████████| 14/14 [00:03<00:00,  4.36it/s]\n"
     ]
    },
    {
     "name": "stdout",
     "output_type": "stream",
     "text": [
      "Train - Emotion Loss: 0.5580, FACS Loss: 0.0625\n",
      "Train - Emotion F1: 0.9951, FACS F1: 0.9439\n",
      "Val - Emotion Loss: 0.6358, FACS Loss: 0.2175\n",
      "Val - Emotion F1: 0.9192, FACS F1: 0.6695\n",
      "\n",
      "Epoch 33/100\n"
     ]
    },
    {
     "name": "stderr",
     "output_type": "stream",
     "text": [
      "100%|██████████████████████████████████████████████████████████████████████████████████| 14/14 [00:03<00:00,  4.32it/s]\n"
     ]
    },
    {
     "name": "stdout",
     "output_type": "stream",
     "text": [
      "Train - Emotion Loss: 0.5561, FACS Loss: 0.0578\n",
      "Train - Emotion F1: 0.9975, FACS F1: 0.9423\n",
      "Val - Emotion Loss: 0.6426, FACS Loss: 0.2242\n",
      "Val - Emotion F1: 0.8801, FACS F1: 0.6260\n",
      "\n",
      "Epoch 34/100\n"
     ]
    },
    {
     "name": "stderr",
     "output_type": "stream",
     "text": [
      "100%|██████████████████████████████████████████████████████████████████████████████████| 14/14 [00:03<00:00,  4.32it/s]\n"
     ]
    },
    {
     "name": "stdout",
     "output_type": "stream",
     "text": [
      "Train - Emotion Loss: 0.5550, FACS Loss: 0.0581\n",
      "Train - Emotion F1: 0.9976, FACS F1: 0.9443\n",
      "Val - Emotion Loss: 0.6350, FACS Loss: 0.2203\n",
      "Val - Emotion F1: 0.9294, FACS F1: 0.6866\n",
      "\n",
      "Epoch 35/100\n"
     ]
    },
    {
     "name": "stderr",
     "output_type": "stream",
     "text": [
      "100%|██████████████████████████████████████████████████████████████████████████████████| 14/14 [00:03<00:00,  4.32it/s]\n"
     ]
    },
    {
     "name": "stdout",
     "output_type": "stream",
     "text": [
      "Train - Emotion Loss: 0.5545, FACS Loss: 0.0542\n",
      "Train - Emotion F1: 0.9975, FACS F1: 0.9462\n",
      "Val - Emotion Loss: 0.6317, FACS Loss: 0.2285\n",
      "Val - Emotion F1: 0.9039, FACS F1: 0.6197\n",
      "\n",
      "Epoch 36/100\n"
     ]
    },
    {
     "name": "stderr",
     "output_type": "stream",
     "text": [
      "100%|██████████████████████████████████████████████████████████████████████████████████| 14/14 [00:03<00:00,  4.31it/s]\n"
     ]
    },
    {
     "name": "stdout",
     "output_type": "stream",
     "text": [
      "Train - Emotion Loss: 0.5524, FACS Loss: 0.0526\n",
      "Train - Emotion F1: 1.0000, FACS F1: 0.9502\n",
      "Val - Emotion Loss: 0.6268, FACS Loss: 0.2069\n",
      "Val - Emotion F1: 0.9285, FACS F1: 0.6627\n",
      "\n",
      "Epoch 37/100\n"
     ]
    },
    {
     "name": "stderr",
     "output_type": "stream",
     "text": [
      "100%|██████████████████████████████████████████████████████████████████████████████████| 14/14 [00:03<00:00,  4.33it/s]\n"
     ]
    },
    {
     "name": "stdout",
     "output_type": "stream",
     "text": [
      "Train - Emotion Loss: 0.5525, FACS Loss: 0.0458\n",
      "Train - Emotion F1: 1.0000, FACS F1: 0.9698\n",
      "Val - Emotion Loss: 0.6241, FACS Loss: 0.2172\n",
      "Val - Emotion F1: 0.9184, FACS F1: 0.6170\n",
      "\n",
      "Epoch 38/100\n"
     ]
    },
    {
     "name": "stderr",
     "output_type": "stream",
     "text": [
      "100%|██████████████████████████████████████████████████████████████████████████████████| 14/14 [00:03<00:00,  4.32it/s]\n"
     ]
    },
    {
     "name": "stdout",
     "output_type": "stream",
     "text": [
      "Train - Emotion Loss: 0.5525, FACS Loss: 0.0419\n",
      "Train - Emotion F1: 1.0000, FACS F1: 0.9650\n",
      "Val - Emotion Loss: 0.6274, FACS Loss: 0.2220\n",
      "Val - Emotion F1: 0.9080, FACS F1: 0.6392\n",
      "\n",
      "Epoch 39/100\n"
     ]
    },
    {
     "name": "stderr",
     "output_type": "stream",
     "text": [
      "100%|██████████████████████████████████████████████████████████████████████████████████| 14/14 [00:03<00:00,  4.36it/s]\n"
     ]
    },
    {
     "name": "stdout",
     "output_type": "stream",
     "text": [
      "Train - Emotion Loss: 0.5538, FACS Loss: 0.0423\n",
      "Train - Emotion F1: 0.9977, FACS F1: 0.9669\n",
      "Val - Emotion Loss: 0.6380, FACS Loss: 0.2361\n",
      "Val - Emotion F1: 0.9080, FACS F1: 0.6293\n",
      "\n",
      "Epoch 40/100\n"
     ]
    },
    {
     "name": "stderr",
     "output_type": "stream",
     "text": [
      "100%|██████████████████████████████████████████████████████████████████████████████████| 14/14 [00:03<00:00,  4.35it/s]\n"
     ]
    },
    {
     "name": "stdout",
     "output_type": "stream",
     "text": [
      "Train - Emotion Loss: 0.5534, FACS Loss: 0.0416\n",
      "Train - Emotion F1: 1.0000, FACS F1: 0.9565\n",
      "Val - Emotion Loss: 0.6235, FACS Loss: 0.2340\n",
      "Val - Emotion F1: 0.9025, FACS F1: 0.6468\n",
      "\n",
      "Epoch 41/100\n"
     ]
    },
    {
     "name": "stderr",
     "output_type": "stream",
     "text": [
      "100%|██████████████████████████████████████████████████████████████████████████████████| 14/14 [00:03<00:00,  4.33it/s]\n"
     ]
    },
    {
     "name": "stdout",
     "output_type": "stream",
     "text": [
      "Train - Emotion Loss: 0.5528, FACS Loss: 0.0404\n",
      "Train - Emotion F1: 1.0000, FACS F1: 0.9682\n",
      "Val - Emotion Loss: 0.6160, FACS Loss: 0.2240\n",
      "Val - Emotion F1: 0.9377, FACS F1: 0.6682\n",
      "\n",
      "Epoch 42/100\n"
     ]
    },
    {
     "name": "stderr",
     "output_type": "stream",
     "text": [
      "100%|██████████████████████████████████████████████████████████████████████████████████| 14/14 [00:03<00:00,  4.30it/s]\n"
     ]
    },
    {
     "name": "stdout",
     "output_type": "stream",
     "text": [
      "Train - Emotion Loss: 0.5540, FACS Loss: 0.0395\n",
      "Train - Emotion F1: 0.9977, FACS F1: 0.9657\n",
      "Val - Emotion Loss: 0.6594, FACS Loss: 0.2258\n",
      "Val - Emotion F1: 0.8599, FACS F1: 0.6550\n",
      "\n",
      "Epoch 43/100\n"
     ]
    },
    {
     "name": "stderr",
     "output_type": "stream",
     "text": [
      "100%|██████████████████████████████████████████████████████████████████████████████████| 14/14 [00:03<00:00,  4.31it/s]\n"
     ]
    },
    {
     "name": "stdout",
     "output_type": "stream",
     "text": [
      "Train - Emotion Loss: 0.5529, FACS Loss: 0.0395\n",
      "Train - Emotion F1: 1.0000, FACS F1: 0.9680\n",
      "Val - Emotion Loss: 0.6567, FACS Loss: 0.2599\n",
      "Val - Emotion F1: 0.8662, FACS F1: 0.6074\n",
      "\n",
      "Epoch 44/100\n"
     ]
    },
    {
     "name": "stderr",
     "output_type": "stream",
     "text": [
      "100%|██████████████████████████████████████████████████████████████████████████████████| 14/14 [00:03<00:00,  4.33it/s]\n"
     ]
    },
    {
     "name": "stdout",
     "output_type": "stream",
     "text": [
      "Train - Emotion Loss: 0.5519, FACS Loss: 0.0371\n",
      "Train - Emotion F1: 1.0000, FACS F1: 0.9692\n",
      "Val - Emotion Loss: 0.6191, FACS Loss: 0.2417\n",
      "Val - Emotion F1: 0.9260, FACS F1: 0.6077\n",
      "\n",
      "Epoch 45/100\n"
     ]
    },
    {
     "name": "stderr",
     "output_type": "stream",
     "text": [
      "100%|██████████████████████████████████████████████████████████████████████████████████| 14/14 [00:03<00:00,  4.27it/s]\n"
     ]
    },
    {
     "name": "stdout",
     "output_type": "stream",
     "text": [
      "Train - Emotion Loss: 0.5521, FACS Loss: 0.0333\n",
      "Train - Emotion F1: 1.0000, FACS F1: 0.9815\n",
      "Val - Emotion Loss: 0.6228, FACS Loss: 0.2287\n",
      "Val - Emotion F1: 0.9285, FACS F1: 0.6708\n",
      "\n",
      "Epoch 46/100\n"
     ]
    },
    {
     "name": "stderr",
     "output_type": "stream",
     "text": [
      "100%|██████████████████████████████████████████████████████████████████████████████████| 14/14 [00:03<00:00,  4.31it/s]\n"
     ]
    },
    {
     "name": "stdout",
     "output_type": "stream",
     "text": [
      "Train - Emotion Loss: 0.5524, FACS Loss: 0.0325\n",
      "Train - Emotion F1: 1.0000, FACS F1: 0.9785\n",
      "Val - Emotion Loss: 0.6087, FACS Loss: 0.2315\n",
      "Val - Emotion F1: 0.9598, FACS F1: 0.6683\n",
      "\n",
      "Epoch 47/100\n"
     ]
    },
    {
     "name": "stderr",
     "output_type": "stream",
     "text": [
      "100%|██████████████████████████████████████████████████████████████████████████████████| 14/14 [00:03<00:00,  4.30it/s]\n"
     ]
    },
    {
     "name": "stdout",
     "output_type": "stream",
     "text": [
      "Train - Emotion Loss: 0.5520, FACS Loss: 0.0294\n",
      "Train - Emotion F1: 1.0000, FACS F1: 0.9835\n",
      "Val - Emotion Loss: 0.6219, FACS Loss: 0.2356\n",
      "Val - Emotion F1: 0.9260, FACS F1: 0.6389\n",
      "\n",
      "Epoch 48/100\n"
     ]
    },
    {
     "name": "stderr",
     "output_type": "stream",
     "text": [
      "100%|██████████████████████████████████████████████████████████████████████████████████| 14/14 [00:03<00:00,  4.35it/s]\n"
     ]
    },
    {
     "name": "stdout",
     "output_type": "stream",
     "text": [
      "Train - Emotion Loss: 0.5521, FACS Loss: 0.0287\n",
      "Train - Emotion F1: 1.0000, FACS F1: 0.9804\n",
      "Val - Emotion Loss: 0.6232, FACS Loss: 0.2420\n",
      "Val - Emotion F1: 0.9277, FACS F1: 0.6296\n",
      "\n",
      "Epoch 49/100\n"
     ]
    },
    {
     "name": "stderr",
     "output_type": "stream",
     "text": [
      "100%|██████████████████████████████████████████████████████████████████████████████████| 14/14 [00:03<00:00,  4.34it/s]\n"
     ]
    },
    {
     "name": "stdout",
     "output_type": "stream",
     "text": [
      "Train - Emotion Loss: 0.5530, FACS Loss: 0.0283\n",
      "Train - Emotion F1: 0.9975, FACS F1: 0.9764\n",
      "Val - Emotion Loss: 0.6158, FACS Loss: 0.2467\n",
      "Val - Emotion F1: 0.9389, FACS F1: 0.6335\n",
      "\n",
      "Epoch 50/100\n"
     ]
    },
    {
     "name": "stderr",
     "output_type": "stream",
     "text": [
      "100%|██████████████████████████████████████████████████████████████████████████████████| 14/14 [00:03<00:00,  4.37it/s]\n"
     ]
    },
    {
     "name": "stdout",
     "output_type": "stream",
     "text": [
      "Train - Emotion Loss: 0.5520, FACS Loss: 0.0280\n",
      "Train - Emotion F1: 1.0000, FACS F1: 0.9753\n",
      "Val - Emotion Loss: 0.6150, FACS Loss: 0.2406\n",
      "Val - Emotion F1: 0.9389, FACS F1: 0.6489\n",
      "\n",
      "Epoch 51/100\n"
     ]
    },
    {
     "name": "stderr",
     "output_type": "stream",
     "text": [
      "100%|██████████████████████████████████████████████████████████████████████████████████| 14/14 [00:03<00:00,  4.35it/s]\n"
     ]
    },
    {
     "name": "stdout",
     "output_type": "stream",
     "text": [
      "Train - Emotion Loss: 0.5518, FACS Loss: 0.0238\n",
      "Train - Emotion F1: 1.0000, FACS F1: 0.9823\n",
      "Val - Emotion Loss: 0.6099, FACS Loss: 0.2414\n",
      "Val - Emotion F1: 0.9490, FACS F1: 0.6287\n",
      "\n",
      "Epoch 52/100\n"
     ]
    },
    {
     "name": "stderr",
     "output_type": "stream",
     "text": [
      "100%|██████████████████████████████████████████████████████████████████████████████████| 14/14 [00:03<00:00,  4.29it/s]\n"
     ]
    },
    {
     "name": "stdout",
     "output_type": "stream",
     "text": [
      "Train - Emotion Loss: 0.5521, FACS Loss: 0.0254\n",
      "Train - Emotion F1: 1.0000, FACS F1: 0.9796\n",
      "Val - Emotion Loss: 0.6118, FACS Loss: 0.2447\n",
      "Val - Emotion F1: 0.9377, FACS F1: 0.6705\n",
      "\n",
      "Epoch 53/100\n"
     ]
    },
    {
     "name": "stderr",
     "output_type": "stream",
     "text": [
      "100%|██████████████████████████████████████████████████████████████████████████████████| 14/14 [00:03<00:00,  4.30it/s]\n"
     ]
    },
    {
     "name": "stdout",
     "output_type": "stream",
     "text": [
      "Train - Emotion Loss: 0.5518, FACS Loss: 0.0257\n",
      "Train - Emotion F1: 1.0000, FACS F1: 0.9815\n",
      "Val - Emotion Loss: 0.6256, FACS Loss: 0.2474\n",
      "Val - Emotion F1: 0.9057, FACS F1: 0.6807\n",
      "\n",
      "Epoch 54/100\n"
     ]
    },
    {
     "name": "stderr",
     "output_type": "stream",
     "text": [
      "100%|██████████████████████████████████████████████████████████████████████████████████| 14/14 [00:03<00:00,  4.36it/s]\n"
     ]
    },
    {
     "name": "stdout",
     "output_type": "stream",
     "text": [
      "Train - Emotion Loss: 0.5518, FACS Loss: 0.0241\n",
      "Train - Emotion F1: 1.0000, FACS F1: 0.9872\n",
      "Val - Emotion Loss: 0.6170, FACS Loss: 0.2414\n",
      "Val - Emotion F1: 0.9277, FACS F1: 0.6787\n",
      "\n",
      "Epoch 55/100\n"
     ]
    },
    {
     "name": "stderr",
     "output_type": "stream",
     "text": [
      "100%|██████████████████████████████████████████████████████████████████████████████████| 14/14 [00:03<00:00,  4.35it/s]\n"
     ]
    },
    {
     "name": "stdout",
     "output_type": "stream",
     "text": [
      "Train - Emotion Loss: 0.5518, FACS Loss: 0.0214\n",
      "Train - Emotion F1: 1.0000, FACS F1: 0.9862\n",
      "Val - Emotion Loss: 0.6167, FACS Loss: 0.2546\n",
      "Val - Emotion F1: 0.9284, FACS F1: 0.6255\n",
      "\n",
      "Epoch 56/100\n"
     ]
    },
    {
     "name": "stderr",
     "output_type": "stream",
     "text": [
      "100%|██████████████████████████████████████████████████████████████████████████████████| 14/14 [00:03<00:00,  4.35it/s]\n"
     ]
    },
    {
     "name": "stdout",
     "output_type": "stream",
     "text": [
      "Train - Emotion Loss: 0.5519, FACS Loss: 0.0223\n",
      "Train - Emotion F1: 1.0000, FACS F1: 0.9890\n",
      "Val - Emotion Loss: 0.6180, FACS Loss: 0.2628\n",
      "Val - Emotion F1: 0.9277, FACS F1: 0.6451\n",
      "\n",
      "Epoch 57/100\n"
     ]
    },
    {
     "name": "stderr",
     "output_type": "stream",
     "text": [
      "100%|██████████████████████████████████████████████████████████████████████████████████| 14/14 [00:03<00:00,  4.32it/s]\n"
     ]
    },
    {
     "name": "stdout",
     "output_type": "stream",
     "text": [
      "Train - Emotion Loss: 0.5540, FACS Loss: 0.0240\n",
      "Train - Emotion F1: 0.9976, FACS F1: 0.9851\n",
      "Val - Emotion Loss: 0.6356, FACS Loss: 0.2594\n",
      "Val - Emotion F1: 0.8968, FACS F1: 0.6619\n",
      "\n",
      "Epoch 58/100\n"
     ]
    },
    {
     "name": "stderr",
     "output_type": "stream",
     "text": [
      "100%|██████████████████████████████████████████████████████████████████████████████████| 14/14 [00:03<00:00,  4.33it/s]\n"
     ]
    },
    {
     "name": "stdout",
     "output_type": "stream",
     "text": [
      "Train - Emotion Loss: 0.5543, FACS Loss: 0.0218\n",
      "Train - Emotion F1: 0.9964, FACS F1: 0.9891\n",
      "Val - Emotion Loss: 0.6151, FACS Loss: 0.2506\n",
      "Val - Emotion F1: 0.9505, FACS F1: 0.6375\n",
      "\n",
      "Epoch 59/100\n"
     ]
    },
    {
     "name": "stderr",
     "output_type": "stream",
     "text": [
      "100%|██████████████████████████████████████████████████████████████████████████████████| 14/14 [00:03<00:00,  4.35it/s]\n"
     ]
    },
    {
     "name": "stdout",
     "output_type": "stream",
     "text": [
      "Train - Emotion Loss: 0.5519, FACS Loss: 0.0211\n",
      "Train - Emotion F1: 1.0000, FACS F1: 0.9879\n",
      "Val - Emotion Loss: 0.6233, FACS Loss: 0.2599\n",
      "Val - Emotion F1: 0.9080, FACS F1: 0.6205\n",
      "\n",
      "Epoch 60/100\n"
     ]
    },
    {
     "name": "stderr",
     "output_type": "stream",
     "text": [
      "100%|██████████████████████████████████████████████████████████████████████████████████| 14/14 [00:03<00:00,  4.35it/s]\n"
     ]
    },
    {
     "name": "stdout",
     "output_type": "stream",
     "text": [
      "Train - Emotion Loss: 0.5524, FACS Loss: 0.0215\n",
      "Train - Emotion F1: 1.0000, FACS F1: 0.9868\n",
      "Val - Emotion Loss: 0.6138, FACS Loss: 0.2492\n",
      "Val - Emotion F1: 0.9404, FACS F1: 0.6580\n",
      "\n",
      "Epoch 61/100\n"
     ]
    },
    {
     "name": "stderr",
     "output_type": "stream",
     "text": [
      "100%|██████████████████████████████████████████████████████████████████████████████████| 14/14 [00:03<00:00,  4.33it/s]\n"
     ]
    },
    {
     "name": "stdout",
     "output_type": "stream",
     "text": [
      "Train - Emotion Loss: 0.5518, FACS Loss: 0.0197\n",
      "Train - Emotion F1: 1.0000, FACS F1: 0.9902\n",
      "Val - Emotion Loss: 0.6154, FACS Loss: 0.2544\n",
      "Val - Emotion F1: 0.9396, FACS F1: 0.6404\n",
      "\n",
      "Epoch 62/100\n"
     ]
    },
    {
     "name": "stderr",
     "output_type": "stream",
     "text": [
      "100%|██████████████████████████████████████████████████████████████████████████████████| 14/14 [00:03<00:00,  4.28it/s]\n"
     ]
    },
    {
     "name": "stdout",
     "output_type": "stream",
     "text": [
      "Train - Emotion Loss: 0.5531, FACS Loss: 0.0174\n",
      "Train - Emotion F1: 0.9975, FACS F1: 0.9897\n",
      "Val - Emotion Loss: 0.6186, FACS Loss: 0.2468\n",
      "Val - Emotion F1: 0.9319, FACS F1: 0.6744\n",
      "\n",
      "Epoch 63/100\n"
     ]
    },
    {
     "name": "stderr",
     "output_type": "stream",
     "text": [
      "100%|██████████████████████████████████████████████████████████████████████████████████| 14/14 [00:03<00:00,  4.33it/s]\n"
     ]
    },
    {
     "name": "stdout",
     "output_type": "stream",
     "text": [
      "Train - Emotion Loss: 0.5540, FACS Loss: 0.0201\n",
      "Train - Emotion F1: 0.9975, FACS F1: 0.9874\n",
      "Val - Emotion Loss: 0.6324, FACS Loss: 0.2555\n",
      "Val - Emotion F1: 0.9003, FACS F1: 0.6328\n",
      "\n",
      "Epoch 64/100\n"
     ]
    },
    {
     "name": "stderr",
     "output_type": "stream",
     "text": [
      "100%|██████████████████████████████████████████████████████████████████████████████████| 14/14 [00:03<00:00,  4.32it/s]\n"
     ]
    },
    {
     "name": "stdout",
     "output_type": "stream",
     "text": [
      "Train - Emotion Loss: 0.5521, FACS Loss: 0.0187\n",
      "Train - Emotion F1: 1.0000, FACS F1: 0.9926\n",
      "Val - Emotion Loss: 0.6307, FACS Loss: 0.2504\n",
      "Val - Emotion F1: 0.9173, FACS F1: 0.6273\n",
      "\n",
      "Epoch 65/100\n"
     ]
    },
    {
     "name": "stderr",
     "output_type": "stream",
     "text": [
      "100%|██████████████████████████████████████████████████████████████████████████████████| 14/14 [00:03<00:00,  4.33it/s]\n"
     ]
    },
    {
     "name": "stdout",
     "output_type": "stream",
     "text": [
      "Train - Emotion Loss: 0.5518, FACS Loss: 0.0174\n",
      "Train - Emotion F1: 1.0000, FACS F1: 0.9852\n",
      "Val - Emotion Loss: 0.6147, FACS Loss: 0.2517\n",
      "Val - Emotion F1: 0.9277, FACS F1: 0.6734\n",
      "\n",
      "Epoch 66/100\n"
     ]
    },
    {
     "name": "stderr",
     "output_type": "stream",
     "text": [
      "100%|██████████████████████████████████████████████████████████████████████████████████| 14/14 [00:03<00:00,  4.31it/s]\n"
     ]
    },
    {
     "name": "stdout",
     "output_type": "stream",
     "text": [
      "Train - Emotion Loss: 0.5517, FACS Loss: 0.0174\n",
      "Train - Emotion F1: 1.0000, FACS F1: 0.9938\n",
      "Val - Emotion Loss: 0.6108, FACS Loss: 0.2461\n",
      "Val - Emotion F1: 0.9377, FACS F1: 0.6509\n",
      "Early stop at epoch 66\n",
      "Best Val - Emotion Loss: 0.6087, Best FACS Loss: 0.2315\n",
      "Best Val - Emotion F1: 0.9598, Best FACS F1: 0.6683\n"
     ]
    }
   ],
   "source": [
    "resnet18_pretrained_trainer.train(num_epochs=100)"
   ]
  },
  {
   "cell_type": "code",
   "execution_count": 42,
   "id": "78fe4b7b-21e4-4e77-bab9-eb087fc36d8c",
   "metadata": {},
   "outputs": [
    {
     "data": {
      "image/png": "[encoded data removed]",
      "text/plain": [
       "<Figure size 1500x1000 with 4 Axes>"
      ]
     },
     "metadata": {},
     "output_type": "display_data"
    }
   ],
   "source": [
    "resnet18_pretrained_trainer.plot_metrics()"
   ]
  },
  {
   "cell_type": "code",
   "execution_count": 43,
   "id": "f8ae558a-4e87-484d-acb7-742eb9318c9b",
   "metadata": {},
   "outputs": [],
   "source": [
    "aug_resnet18_pretrained = model.EmotionFACsNet(pretrained=True)"
   ]
  },
  {
   "cell_type": "code",
   "execution_count": 44,
   "id": "ca71a77c-e664-4000-b7e8-e1e5a617b07a",
   "metadata": {},
   "outputs": [],
   "source": [
    "aug_resnet18_pretrained_trainer= trainer.EmotionFACsTrainer(aug_resnet18_pretrained, 'aug_resnet18_pretrained', aug_train_loader, val_loader, patience = 20)"
   ]
  },
  {
   "cell_type": "code",
   "execution_count": 45,
   "id": "00c1686c-07bf-48bc-b167-f8b6719298ff",
   "metadata": {
    "scrolled": true
   },
   "outputs": [
    {
     "name": "stdout",
     "output_type": "stream",
     "text": [
      "\n",
      "Epoch 1/100\n"
     ]
    },
    {
     "name": "stderr",
     "output_type": "stream",
     "text": [
      "100%|██████████████████████████████████████████████████████████████████████████████████| 14/14 [00:04<00:00,  3.46it/s]\n"
     ]
    },
    {
     "name": "stdout",
     "output_type": "stream",
     "text": [
      "Train - Emotion Loss: 1.0480, FACS Loss: 0.6394\n",
      "Train - Emotion F1: 0.2867, FACS F1: 0.2011\n",
      "Val - Emotion Loss: 0.9631, FACS Loss: 0.5528\n",
      "Val - Emotion F1: 0.2472, FACS F1: 0.0635\n",
      "\n",
      "Epoch 2/100\n"
     ]
    },
    {
     "name": "stderr",
     "output_type": "stream",
     "text": [
      "100%|██████████████████████████████████████████████████████████████████████████████████| 14/14 [00:03<00:00,  3.56it/s]\n"
     ]
    },
    {
     "name": "stdout",
     "output_type": "stream",
     "text": [
      "Train - Emotion Loss: 0.9088, FACS Loss: 0.5324\n",
      "Train - Emotion F1: 0.2460, FACS F1: 0.1066\n",
      "Val - Emotion Loss: 0.9269, FACS Loss: 0.4692\n",
      "Val - Emotion F1: 0.2472, FACS F1: 0.0452\n",
      "\n",
      "Epoch 3/100\n"
     ]
    },
    {
     "name": "stderr",
     "output_type": "stream",
     "text": [
      "100%|██████████████████████████████████████████████████████████████████████████████████| 14/14 [00:03<00:00,  3.52it/s]\n"
     ]
    },
    {
     "name": "stdout",
     "output_type": "stream",
     "text": [
      "Train - Emotion Loss: 0.8296, FACS Loss: 0.4956\n",
      "Train - Emotion F1: 0.3566, FACS F1: 0.1122\n",
      "Val - Emotion Loss: 0.8527, FACS Loss: 0.4504\n",
      "Val - Emotion F1: 0.4539, FACS F1: 0.1143\n",
      "\n",
      "Epoch 4/100\n"
     ]
    },
    {
     "name": "stderr",
     "output_type": "stream",
     "text": [
      "100%|██████████████████████████████████████████████████████████████████████████████████| 14/14 [00:03<00:00,  3.58it/s]\n"
     ]
    },
    {
     "name": "stdout",
     "output_type": "stream",
     "text": [
      "Train - Emotion Loss: 0.7377, FACS Loss: 0.4558\n",
      "Train - Emotion F1: 0.8882, FACS F1: 0.1523\n",
      "Val - Emotion Loss: 0.7501, FACS Loss: 0.3929\n",
      "Val - Emotion F1: 0.8366, FACS F1: 0.1544\n",
      "\n",
      "Epoch 5/100\n"
     ]
    },
    {
     "name": "stderr",
     "output_type": "stream",
     "text": [
      "100%|██████████████████████████████████████████████████████████████████████████████████| 14/14 [00:03<00:00,  3.61it/s]\n"
     ]
    },
    {
     "name": "stdout",
     "output_type": "stream",
     "text": [
      "Train - Emotion Loss: 0.6200, FACS Loss: 0.3923\n",
      "Train - Emotion F1: 0.9524, FACS F1: 0.2572\n",
      "Val - Emotion Loss: 0.6735, FACS Loss: 0.3296\n",
      "Val - Emotion F1: 0.8903, FACS F1: 0.3544\n",
      "\n",
      "Epoch 6/100\n"
     ]
    },
    {
     "name": "stderr",
     "output_type": "stream",
     "text": [
      "100%|██████████████████████████████████████████████████████████████████████████████████| 14/14 [00:03<00:00,  3.60it/s]\n"
     ]
    },
    {
     "name": "stdout",
     "output_type": "stream",
     "text": [
      "Train - Emotion Loss: 0.5743, FACS Loss: 0.3361\n",
      "Train - Emotion F1: 0.9809, FACS F1: 0.4007\n",
      "Val - Emotion Loss: 0.7192, FACS Loss: 0.3315\n",
      "Val - Emotion F1: 0.7894, FACS F1: 0.3830\n",
      "\n",
      "Epoch 7/100\n"
     ]
    },
    {
     "name": "stderr",
     "output_type": "stream",
     "text": [
      "100%|██████████████████████████████████████████████████████████████████████████████████| 14/14 [00:03<00:00,  3.60it/s]\n"
     ]
    },
    {
     "name": "stdout",
     "output_type": "stream",
     "text": [
      "Train - Emotion Loss: 0.5702, FACS Loss: 0.3018\n",
      "Train - Emotion F1: 0.9833, FACS F1: 0.4451\n",
      "Val - Emotion Loss: 0.6429, FACS Loss: 0.2761\n",
      "Val - Emotion F1: 0.8932, FACS F1: 0.4201\n",
      "\n",
      "Epoch 8/100\n"
     ]
    },
    {
     "name": "stderr",
     "output_type": "stream",
     "text": [
      "100%|██████████████████████████████████████████████████████████████████████████████████| 14/14 [00:03<00:00,  3.59it/s]\n"
     ]
    },
    {
     "name": "stdout",
     "output_type": "stream",
     "text": [
      "Train - Emotion Loss: 0.5595, FACS Loss: 0.2787\n",
      "Train - Emotion F1: 0.9976, FACS F1: 0.4788\n",
      "Val - Emotion Loss: 0.6607, FACS Loss: 0.2714\n",
      "Val - Emotion F1: 0.8795, FACS F1: 0.5034\n",
      "\n",
      "Epoch 9/100\n"
     ]
    },
    {
     "name": "stderr",
     "output_type": "stream",
     "text": [
      "100%|██████████████████████████████████████████████████████████████████████████████████| 14/14 [00:03<00:00,  3.59it/s]\n"
     ]
    },
    {
     "name": "stdout",
     "output_type": "stream",
     "text": [
      "Train - Emotion Loss: 0.5736, FACS Loss: 0.2639\n",
      "Train - Emotion F1: 0.9754, FACS F1: 0.5034\n",
      "Val - Emotion Loss: 0.6676, FACS Loss: 0.2576\n",
      "Val - Emotion F1: 0.8768, FACS F1: 0.4922\n",
      "\n",
      "Epoch 10/100\n"
     ]
    },
    {
     "name": "stderr",
     "output_type": "stream",
     "text": [
      "100%|██████████████████████████████████████████████████████████████████████████████████| 14/14 [00:03<00:00,  3.59it/s]\n"
     ]
    },
    {
     "name": "stdout",
     "output_type": "stream",
     "text": [
      "Train - Emotion Loss: 0.5706, FACS Loss: 0.2404\n",
      "Train - Emotion F1: 0.9829, FACS F1: 0.5485\n",
      "Val - Emotion Loss: 0.6593, FACS Loss: 0.2552\n",
      "Val - Emotion F1: 0.8784, FACS F1: 0.5249\n",
      "\n",
      "Epoch 11/100\n"
     ]
    },
    {
     "name": "stderr",
     "output_type": "stream",
     "text": [
      "100%|██████████████████████████████████████████████████████████████████████████████████| 14/14 [00:03<00:00,  3.58it/s]\n"
     ]
    },
    {
     "name": "stdout",
     "output_type": "stream",
     "text": [
      "Train - Emotion Loss: 0.5677, FACS Loss: 0.2333\n",
      "Train - Emotion F1: 0.9876, FACS F1: 0.5646\n",
      "Val - Emotion Loss: 0.6774, FACS Loss: 0.2266\n",
      "Val - Emotion F1: 0.8919, FACS F1: 0.5624\n",
      "\n",
      "Epoch 12/100\n"
     ]
    },
    {
     "name": "stderr",
     "output_type": "stream",
     "text": [
      "100%|██████████████████████████████████████████████████████████████████████████████████| 14/14 [00:03<00:00,  3.59it/s]\n"
     ]
    },
    {
     "name": "stdout",
     "output_type": "stream",
     "text": [
      "Train - Emotion Loss: 0.5597, FACS Loss: 0.2090\n",
      "Train - Emotion F1: 0.9975, FACS F1: 0.5997\n",
      "Val - Emotion Loss: 0.7025, FACS Loss: 0.2238\n",
      "Val - Emotion F1: 0.8190, FACS F1: 0.5656\n",
      "\n",
      "Epoch 13/100\n"
     ]
    },
    {
     "name": "stderr",
     "output_type": "stream",
     "text": [
      "100%|██████████████████████████████████████████████████████████████████████████████████| 14/14 [00:03<00:00,  3.60it/s]\n"
     ]
    },
    {
     "name": "stdout",
     "output_type": "stream",
     "text": [
      "Train - Emotion Loss: 0.5614, FACS Loss: 0.1972\n",
      "Train - Emotion F1: 0.9929, FACS F1: 0.6286\n",
      "Val - Emotion Loss: 0.6719, FACS Loss: 0.2315\n",
      "Val - Emotion F1: 0.8801, FACS F1: 0.5402\n",
      "\n",
      "Epoch 14/100\n"
     ]
    },
    {
     "name": "stderr",
     "output_type": "stream",
     "text": [
      "100%|██████████████████████████████████████████████████████████████████████████████████| 14/14 [00:03<00:00,  3.60it/s]\n"
     ]
    },
    {
     "name": "stdout",
     "output_type": "stream",
     "text": [
      "Train - Emotion Loss: 0.5618, FACS Loss: 0.1888\n",
      "Train - Emotion F1: 0.9930, FACS F1: 0.6743\n",
      "Val - Emotion Loss: 0.6806, FACS Loss: 0.2183\n",
      "Val - Emotion F1: 0.8511, FACS F1: 0.5753\n",
      "\n",
      "Epoch 15/100\n"
     ]
    },
    {
     "name": "stderr",
     "output_type": "stream",
     "text": [
      "100%|██████████████████████████████████████████████████████████████████████████████████| 14/14 [00:03<00:00,  3.57it/s]\n"
     ]
    },
    {
     "name": "stdout",
     "output_type": "stream",
     "text": [
      "Train - Emotion Loss: 0.5562, FACS Loss: 0.1689\n",
      "Train - Emotion F1: 1.0000, FACS F1: 0.7032\n",
      "Val - Emotion Loss: 0.6676, FACS Loss: 0.2116\n",
      "Val - Emotion F1: 0.8710, FACS F1: 0.5748\n",
      "\n",
      "Epoch 16/100\n"
     ]
    },
    {
     "name": "stderr",
     "output_type": "stream",
     "text": [
      "100%|██████████████████████████████████████████████████████████████████████████████████| 14/14 [00:03<00:00,  3.59it/s]\n"
     ]
    },
    {
     "name": "stdout",
     "output_type": "stream",
     "text": [
      "Train - Emotion Loss: 0.5541, FACS Loss: 0.1581\n",
      "Train - Emotion F1: 1.0000, FACS F1: 0.7409\n",
      "Val - Emotion Loss: 0.6577, FACS Loss: 0.2015\n",
      "Val - Emotion F1: 0.8884, FACS F1: 0.6591\n",
      "\n",
      "Epoch 17/100\n"
     ]
    },
    {
     "name": "stderr",
     "output_type": "stream",
     "text": [
      "100%|██████████████████████████████████████████████████████████████████████████████████| 14/14 [00:03<00:00,  3.58it/s]\n"
     ]
    },
    {
     "name": "stdout",
     "output_type": "stream",
     "text": [
      "Train - Emotion Loss: 0.5574, FACS Loss: 0.1509\n",
      "Train - Emotion F1: 0.9929, FACS F1: 0.7631\n",
      "Val - Emotion Loss: 0.6422, FACS Loss: 0.1999\n",
      "Val - Emotion F1: 0.9059, FACS F1: 0.6112\n",
      "\n",
      "Epoch 18/100\n"
     ]
    },
    {
     "name": "stderr",
     "output_type": "stream",
     "text": [
      "100%|██████████████████████████████████████████████████████████████████████████████████| 14/14 [00:03<00:00,  3.57it/s]\n"
     ]
    },
    {
     "name": "stdout",
     "output_type": "stream",
     "text": [
      "Train - Emotion Loss: 0.5568, FACS Loss: 0.1484\n",
      "Train - Emotion F1: 0.9975, FACS F1: 0.7673\n",
      "Val - Emotion Loss: 0.6587, FACS Loss: 0.2226\n",
      "Val - Emotion F1: 0.8940, FACS F1: 0.5455\n",
      "\n",
      "Epoch 19/100\n"
     ]
    },
    {
     "name": "stderr",
     "output_type": "stream",
     "text": [
      "100%|██████████████████████████████████████████████████████████████████████████████████| 14/14 [00:03<00:00,  3.57it/s]\n"
     ]
    },
    {
     "name": "stdout",
     "output_type": "stream",
     "text": [
      "Train - Emotion Loss: 0.5557, FACS Loss: 0.1350\n",
      "Train - Emotion F1: 0.9977, FACS F1: 0.7976\n",
      "Val - Emotion Loss: 0.6601, FACS Loss: 0.1984\n",
      "Val - Emotion F1: 0.8833, FACS F1: 0.6293\n",
      "\n",
      "Epoch 20/100\n"
     ]
    },
    {
     "name": "stderr",
     "output_type": "stream",
     "text": [
      "100%|██████████████████████████████████████████████████████████████████████████████████| 14/14 [00:03<00:00,  3.58it/s]\n"
     ]
    },
    {
     "name": "stdout",
     "output_type": "stream",
     "text": [
      "Train - Emotion Loss: 0.5534, FACS Loss: 0.1307\n",
      "Train - Emotion F1: 1.0000, FACS F1: 0.8072\n",
      "Val - Emotion Loss: 0.6696, FACS Loss: 0.2005\n",
      "Val - Emotion F1: 0.8766, FACS F1: 0.6968\n",
      "\n",
      "Epoch 21/100\n"
     ]
    },
    {
     "name": "stderr",
     "output_type": "stream",
     "text": [
      "100%|██████████████████████████████████████████████████████████████████████████████████| 14/14 [00:03<00:00,  3.59it/s]\n"
     ]
    },
    {
     "name": "stdout",
     "output_type": "stream",
     "text": [
      "Train - Emotion Loss: 0.5543, FACS Loss: 0.1220\n",
      "Train - Emotion F1: 0.9975, FACS F1: 0.8244\n",
      "Val - Emotion Loss: 0.6796, FACS Loss: 0.2168\n",
      "Val - Emotion F1: 0.8565, FACS F1: 0.6744\n",
      "\n",
      "Epoch 22/100\n"
     ]
    },
    {
     "name": "stderr",
     "output_type": "stream",
     "text": [
      "100%|██████████████████████████████████████████████████████████████████████████████████| 14/14 [00:03<00:00,  3.58it/s]\n"
     ]
    },
    {
     "name": "stdout",
     "output_type": "stream",
     "text": [
      "Train - Emotion Loss: 0.5534, FACS Loss: 0.1113\n",
      "Train - Emotion F1: 1.0000, FACS F1: 0.8352\n",
      "Val - Emotion Loss: 0.6708, FACS Loss: 0.2132\n",
      "Val - Emotion F1: 0.8630, FACS F1: 0.6479\n",
      "\n",
      "Epoch 23/100\n"
     ]
    },
    {
     "name": "stderr",
     "output_type": "stream",
     "text": [
      "100%|██████████████████████████████████████████████████████████████████████████████████| 14/14 [00:03<00:00,  3.59it/s]\n"
     ]
    },
    {
     "name": "stdout",
     "output_type": "stream",
     "text": [
      "Train - Emotion Loss: 0.5541, FACS Loss: 0.1047\n",
      "Train - Emotion F1: 1.0000, FACS F1: 0.8482\n",
      "Val - Emotion Loss: 0.6694, FACS Loss: 0.2056\n",
      "Val - Emotion F1: 0.8628, FACS F1: 0.6865\n",
      "\n",
      "Epoch 24/100\n"
     ]
    },
    {
     "name": "stderr",
     "output_type": "stream",
     "text": [
      "100%|██████████████████████████████████████████████████████████████████████████████████| 14/14 [00:03<00:00,  3.59it/s]\n"
     ]
    },
    {
     "name": "stdout",
     "output_type": "stream",
     "text": [
      "Train - Emotion Loss: 0.5537, FACS Loss: 0.1017\n",
      "Train - Emotion F1: 0.9964, FACS F1: 0.8399\n",
      "Val - Emotion Loss: 0.6627, FACS Loss: 0.2082\n",
      "Val - Emotion F1: 0.8844, FACS F1: 0.6869\n",
      "\n",
      "Epoch 25/100\n"
     ]
    },
    {
     "name": "stderr",
     "output_type": "stream",
     "text": [
      "100%|██████████████████████████████████████████████████████████████████████████████████| 14/14 [00:03<00:00,  3.60it/s]\n"
     ]
    },
    {
     "name": "stdout",
     "output_type": "stream",
     "text": [
      "Train - Emotion Loss: 0.5537, FACS Loss: 0.0939\n",
      "Train - Emotion F1: 0.9977, FACS F1: 0.8791\n",
      "Val - Emotion Loss: 0.6752, FACS Loss: 0.2124\n",
      "Val - Emotion F1: 0.8766, FACS F1: 0.7158\n",
      "\n",
      "Epoch 26/100\n"
     ]
    },
    {
     "name": "stderr",
     "output_type": "stream",
     "text": [
      "100%|██████████████████████████████████████████████████████████████████████████████████| 14/14 [00:03<00:00,  3.59it/s]\n"
     ]
    },
    {
     "name": "stdout",
     "output_type": "stream",
     "text": [
      "Train - Emotion Loss: 0.5541, FACS Loss: 0.0911\n",
      "Train - Emotion F1: 1.0000, FACS F1: 0.8820\n",
      "Val - Emotion Loss: 0.6654, FACS Loss: 0.1906\n",
      "Val - Emotion F1: 0.8738, FACS F1: 0.7105\n",
      "\n",
      "Epoch 27/100\n"
     ]
    },
    {
     "name": "stderr",
     "output_type": "stream",
     "text": [
      "100%|██████████████████████████████████████████████████████████████████████████████████| 14/14 [00:03<00:00,  3.56it/s]\n"
     ]
    },
    {
     "name": "stdout",
     "output_type": "stream",
     "text": [
      "Train - Emotion Loss: 0.5556, FACS Loss: 0.0856\n",
      "Train - Emotion F1: 0.9953, FACS F1: 0.8918\n",
      "Val - Emotion Loss: 0.6622, FACS Loss: 0.2012\n",
      "Val - Emotion F1: 0.8842, FACS F1: 0.6883\n",
      "\n",
      "Epoch 28/100\n"
     ]
    },
    {
     "name": "stderr",
     "output_type": "stream",
     "text": [
      "100%|██████████████████████████████████████████████████████████████████████████████████| 14/14 [00:03<00:00,  3.58it/s]\n"
     ]
    },
    {
     "name": "stdout",
     "output_type": "stream",
     "text": [
      "Train - Emotion Loss: 0.5537, FACS Loss: 0.0832\n",
      "Train - Emotion F1: 0.9975, FACS F1: 0.8934\n",
      "Val - Emotion Loss: 0.6639, FACS Loss: 0.2254\n",
      "Val - Emotion F1: 0.8766, FACS F1: 0.6585\n",
      "\n",
      "Epoch 29/100\n"
     ]
    },
    {
     "name": "stderr",
     "output_type": "stream",
     "text": [
      "100%|██████████████████████████████████████████████████████████████████████████████████| 14/14 [00:03<00:00,  3.57it/s]\n"
     ]
    },
    {
     "name": "stdout",
     "output_type": "stream",
     "text": [
      "Train - Emotion Loss: 0.5523, FACS Loss: 0.0774\n",
      "Train - Emotion F1: 1.0000, FACS F1: 0.9042\n",
      "Val - Emotion Loss: 0.6739, FACS Loss: 0.2122\n",
      "Val - Emotion F1: 0.8625, FACS F1: 0.7258\n",
      "\n",
      "Epoch 30/100\n"
     ]
    },
    {
     "name": "stderr",
     "output_type": "stream",
     "text": [
      "100%|██████████████████████████████████████████████████████████████████████████████████| 14/14 [00:03<00:00,  3.58it/s]\n"
     ]
    },
    {
     "name": "stdout",
     "output_type": "stream",
     "text": [
      "Train - Emotion Loss: 0.5529, FACS Loss: 0.0710\n",
      "Train - Emotion F1: 1.0000, FACS F1: 0.9176\n",
      "Val - Emotion Loss: 0.6572, FACS Loss: 0.2194\n",
      "Val - Emotion F1: 0.8838, FACS F1: 0.7052\n",
      "\n",
      "Epoch 31/100\n"
     ]
    },
    {
     "name": "stderr",
     "output_type": "stream",
     "text": [
      "100%|██████████████████████████████████████████████████████████████████████████████████| 14/14 [00:03<00:00,  3.59it/s]\n"
     ]
    },
    {
     "name": "stdout",
     "output_type": "stream",
     "text": [
      "Train - Emotion Loss: 0.5528, FACS Loss: 0.0660\n",
      "Train - Emotion F1: 1.0000, FACS F1: 0.9156\n",
      "Val - Emotion Loss: 0.6660, FACS Loss: 0.2074\n",
      "Val - Emotion F1: 0.8751, FACS F1: 0.7397\n",
      "\n",
      "Epoch 32/100\n"
     ]
    },
    {
     "name": "stderr",
     "output_type": "stream",
     "text": [
      "100%|██████████████████████████████████████████████████████████████████████████████████| 14/14 [00:03<00:00,  3.54it/s]\n"
     ]
    },
    {
     "name": "stdout",
     "output_type": "stream",
     "text": [
      "Train - Emotion Loss: 0.5529, FACS Loss: 0.0626\n",
      "Train - Emotion F1: 1.0000, FACS F1: 0.9230\n",
      "Val - Emotion Loss: 0.6661, FACS Loss: 0.2171\n",
      "Val - Emotion F1: 0.8751, FACS F1: 0.6943\n",
      "\n",
      "Epoch 33/100\n"
     ]
    },
    {
     "name": "stderr",
     "output_type": "stream",
     "text": [
      "100%|██████████████████████████████████████████████████████████████████████████████████| 14/14 [00:03<00:00,  3.54it/s]\n"
     ]
    },
    {
     "name": "stdout",
     "output_type": "stream",
     "text": [
      "Train - Emotion Loss: 0.5517, FACS Loss: 0.0589\n",
      "Train - Emotion F1: 1.0000, FACS F1: 0.9394\n",
      "Val - Emotion Loss: 0.6657, FACS Loss: 0.2192\n",
      "Val - Emotion F1: 0.8766, FACS F1: 0.6935\n",
      "\n",
      "Epoch 34/100\n"
     ]
    },
    {
     "name": "stderr",
     "output_type": "stream",
     "text": [
      "100%|██████████████████████████████████████████████████████████████████████████████████| 14/14 [00:03<00:00,  3.55it/s]\n"
     ]
    },
    {
     "name": "stdout",
     "output_type": "stream",
     "text": [
      "Train - Emotion Loss: 0.5544, FACS Loss: 0.0647\n",
      "Train - Emotion F1: 0.9977, FACS F1: 0.9215\n",
      "Val - Emotion Loss: 0.6582, FACS Loss: 0.2358\n",
      "Val - Emotion F1: 0.8819, FACS F1: 0.7356\n",
      "\n",
      "Epoch 35/100\n"
     ]
    },
    {
     "name": "stderr",
     "output_type": "stream",
     "text": [
      "100%|██████████████████████████████████████████████████████████████████████████████████| 14/14 [00:03<00:00,  3.53it/s]\n"
     ]
    },
    {
     "name": "stdout",
     "output_type": "stream",
     "text": [
      "Train - Emotion Loss: 0.5529, FACS Loss: 0.0586\n",
      "Train - Emotion F1: 1.0000, FACS F1: 0.9411\n",
      "Val - Emotion Loss: 0.6584, FACS Loss: 0.2288\n",
      "Val - Emotion F1: 0.8736, FACS F1: 0.7292\n",
      "\n",
      "Epoch 36/100\n"
     ]
    },
    {
     "name": "stderr",
     "output_type": "stream",
     "text": [
      "100%|██████████████████████████████████████████████████████████████████████████████████| 14/14 [00:03<00:00,  3.57it/s]\n"
     ]
    },
    {
     "name": "stdout",
     "output_type": "stream",
     "text": [
      "Train - Emotion Loss: 0.5521, FACS Loss: 0.0523\n",
      "Train - Emotion F1: 1.0000, FACS F1: 0.9476\n",
      "Val - Emotion Loss: 0.6540, FACS Loss: 0.2195\n",
      "Val - Emotion F1: 0.8854, FACS F1: 0.7319\n",
      "\n",
      "Epoch 37/100\n"
     ]
    },
    {
     "name": "stderr",
     "output_type": "stream",
     "text": [
      "100%|██████████████████████████████████████████████████████████████████████████████████| 14/14 [00:03<00:00,  3.53it/s]\n"
     ]
    },
    {
     "name": "stdout",
     "output_type": "stream",
     "text": [
      "Train - Emotion Loss: 0.5518, FACS Loss: 0.0487\n",
      "Train - Emotion F1: 1.0000, FACS F1: 0.9514\n",
      "Val - Emotion Loss: 0.6475, FACS Loss: 0.2411\n",
      "Val - Emotion F1: 0.8926, FACS F1: 0.7033\n",
      "\n",
      "Epoch 38/100\n"
     ]
    },
    {
     "name": "stderr",
     "output_type": "stream",
     "text": [
      "100%|██████████████████████████████████████████████████████████████████████████████████| 14/14 [00:03<00:00,  3.59it/s]\n"
     ]
    },
    {
     "name": "stdout",
     "output_type": "stream",
     "text": [
      "Train - Emotion Loss: 0.5521, FACS Loss: 0.0483\n",
      "Train - Emotion F1: 1.0000, FACS F1: 0.9459\n",
      "Val - Emotion Loss: 0.6617, FACS Loss: 0.2285\n",
      "Val - Emotion F1: 0.8838, FACS F1: 0.7302\n",
      "\n",
      "Epoch 39/100\n"
     ]
    },
    {
     "name": "stderr",
     "output_type": "stream",
     "text": [
      "100%|██████████████████████████████████████████████████████████████████████████████████| 14/14 [00:03<00:00,  3.53it/s]\n"
     ]
    },
    {
     "name": "stdout",
     "output_type": "stream",
     "text": [
      "Train - Emotion Loss: 0.5516, FACS Loss: 0.0499\n",
      "Train - Emotion F1: 1.0000, FACS F1: 0.9486\n",
      "Val - Emotion Loss: 0.6567, FACS Loss: 0.2307\n",
      "Val - Emotion F1: 0.8838, FACS F1: 0.7074\n",
      "\n",
      "Epoch 40/100\n"
     ]
    },
    {
     "name": "stderr",
     "output_type": "stream",
     "text": [
      "100%|██████████████████████████████████████████████████████████████████████████████████| 14/14 [00:03<00:00,  3.58it/s]\n"
     ]
    },
    {
     "name": "stdout",
     "output_type": "stream",
     "text": [
      "Train - Emotion Loss: 0.5521, FACS Loss: 0.0410\n",
      "Train - Emotion F1: 1.0000, FACS F1: 0.9552\n",
      "Val - Emotion Loss: 0.6519, FACS Loss: 0.2350\n",
      "Val - Emotion F1: 0.8922, FACS F1: 0.6800\n",
      "\n",
      "Epoch 41/100\n"
     ]
    },
    {
     "name": "stderr",
     "output_type": "stream",
     "text": [
      "100%|██████████████████████████████████████████████████████████████████████████████████| 14/14 [00:03<00:00,  3.59it/s]\n"
     ]
    },
    {
     "name": "stdout",
     "output_type": "stream",
     "text": [
      "Train - Emotion Loss: 0.5517, FACS Loss: 0.0447\n",
      "Train - Emotion F1: 1.0000, FACS F1: 0.9535\n",
      "Val - Emotion Loss: 0.6537, FACS Loss: 0.2399\n",
      "Val - Emotion F1: 0.8838, FACS F1: 0.7100\n",
      "\n",
      "Epoch 42/100\n"
     ]
    },
    {
     "name": "stderr",
     "output_type": "stream",
     "text": [
      "100%|██████████████████████████████████████████████████████████████████████████████████| 14/14 [00:03<00:00,  3.59it/s]\n"
     ]
    },
    {
     "name": "stdout",
     "output_type": "stream",
     "text": [
      "Train - Emotion Loss: 0.5517, FACS Loss: 0.0372\n",
      "Train - Emotion F1: 1.0000, FACS F1: 0.9679\n",
      "Val - Emotion Loss: 0.6544, FACS Loss: 0.2422\n",
      "Val - Emotion F1: 0.8922, FACS F1: 0.7089\n",
      "\n",
      "Epoch 43/100\n"
     ]
    },
    {
     "name": "stderr",
     "output_type": "stream",
     "text": [
      "100%|██████████████████████████████████████████████████████████████████████████████████| 14/14 [00:03<00:00,  3.57it/s]\n"
     ]
    },
    {
     "name": "stdout",
     "output_type": "stream",
     "text": [
      "Train - Emotion Loss: 0.5518, FACS Loss: 0.0346\n",
      "Train - Emotion F1: 1.0000, FACS F1: 0.9735\n",
      "Val - Emotion Loss: 0.6487, FACS Loss: 0.2333\n",
      "Val - Emotion F1: 0.9043, FACS F1: 0.6949\n",
      "\n",
      "Epoch 44/100\n"
     ]
    },
    {
     "name": "stderr",
     "output_type": "stream",
     "text": [
      "100%|██████████████████████████████████████████████████████████████████████████████████| 14/14 [00:03<00:00,  3.58it/s]\n"
     ]
    },
    {
     "name": "stdout",
     "output_type": "stream",
     "text": [
      "Train - Emotion Loss: 0.5517, FACS Loss: 0.0349\n",
      "Train - Emotion F1: 1.0000, FACS F1: 0.9695\n",
      "Val - Emotion Loss: 0.6528, FACS Loss: 0.2407\n",
      "Val - Emotion F1: 0.8926, FACS F1: 0.6922\n",
      "\n",
      "Epoch 45/100\n"
     ]
    },
    {
     "name": "stderr",
     "output_type": "stream",
     "text": [
      "100%|██████████████████████████████████████████████████████████████████████████████████| 14/14 [00:03<00:00,  3.57it/s]\n"
     ]
    },
    {
     "name": "stdout",
     "output_type": "stream",
     "text": [
      "Train - Emotion Loss: 0.5517, FACS Loss: 0.0319\n",
      "Train - Emotion F1: 1.0000, FACS F1: 0.9760\n",
      "Val - Emotion Loss: 0.6532, FACS Loss: 0.2530\n",
      "Val - Emotion F1: 0.8819, FACS F1: 0.7192\n",
      "\n",
      "Epoch 46/100\n"
     ]
    },
    {
     "name": "stderr",
     "output_type": "stream",
     "text": [
      "100%|██████████████████████████████████████████████████████████████████████████████████| 14/14 [00:03<00:00,  3.59it/s]\n"
     ]
    },
    {
     "name": "stdout",
     "output_type": "stream",
     "text": [
      "Train - Emotion Loss: 0.5518, FACS Loss: 0.0327\n",
      "Train - Emotion F1: 1.0000, FACS F1: 0.9694\n",
      "Val - Emotion Loss: 0.6541, FACS Loss: 0.2718\n",
      "Val - Emotion F1: 0.8926, FACS F1: 0.6798\n",
      "\n",
      "Epoch 47/100\n"
     ]
    },
    {
     "name": "stderr",
     "output_type": "stream",
     "text": [
      "100%|██████████████████████████████████████████████████████████████████████████████████| 14/14 [00:03<00:00,  3.58it/s]\n"
     ]
    },
    {
     "name": "stdout",
     "output_type": "stream",
     "text": [
      "Train - Emotion Loss: 0.5519, FACS Loss: 0.0288\n",
      "Train - Emotion F1: 1.0000, FACS F1: 0.9782\n",
      "Val - Emotion Loss: 0.6696, FACS Loss: 0.2577\n",
      "Val - Emotion F1: 0.8752, FACS F1: 0.6895\n",
      "\n",
      "Epoch 48/100\n"
     ]
    },
    {
     "name": "stderr",
     "output_type": "stream",
     "text": [
      "100%|██████████████████████████████████████████████████████████████████████████████████| 14/14 [00:03<00:00,  3.55it/s]\n"
     ]
    },
    {
     "name": "stdout",
     "output_type": "stream",
     "text": [
      "Train - Emotion Loss: 0.5515, FACS Loss: 0.0278\n",
      "Train - Emotion F1: 1.0000, FACS F1: 0.9774\n",
      "Val - Emotion Loss: 0.6807, FACS Loss: 0.2564\n",
      "Val - Emotion F1: 0.8586, FACS F1: 0.6906\n",
      "\n",
      "Epoch 49/100\n"
     ]
    },
    {
     "name": "stderr",
     "output_type": "stream",
     "text": [
      "100%|██████████████████████████████████████████████████████████████████████████████████| 14/14 [00:03<00:00,  3.55it/s]\n"
     ]
    },
    {
     "name": "stdout",
     "output_type": "stream",
     "text": [
      "Train - Emotion Loss: 0.5519, FACS Loss: 0.0260\n",
      "Train - Emotion F1: 1.0000, FACS F1: 0.9760\n",
      "Val - Emotion Loss: 0.6553, FACS Loss: 0.2546\n",
      "Val - Emotion F1: 0.8926, FACS F1: 0.6996\n",
      "\n",
      "Epoch 50/100\n"
     ]
    },
    {
     "name": "stderr",
     "output_type": "stream",
     "text": [
      "100%|██████████████████████████████████████████████████████████████████████████████████| 14/14 [00:03<00:00,  3.58it/s]\n"
     ]
    },
    {
     "name": "stdout",
     "output_type": "stream",
     "text": [
      "Train - Emotion Loss: 0.5516, FACS Loss: 0.0247\n",
      "Train - Emotion F1: 1.0000, FACS F1: 0.9750\n",
      "Val - Emotion Loss: 0.6530, FACS Loss: 0.2621\n",
      "Val - Emotion F1: 0.8926, FACS F1: 0.6962\n",
      "\n",
      "Epoch 51/100\n"
     ]
    },
    {
     "name": "stderr",
     "output_type": "stream",
     "text": [
      "100%|██████████████████████████████████████████████████████████████████████████████████| 14/14 [00:03<00:00,  3.59it/s]\n"
     ]
    },
    {
     "name": "stdout",
     "output_type": "stream",
     "text": [
      "Train - Emotion Loss: 0.5516, FACS Loss: 0.0256\n",
      "Train - Emotion F1: 1.0000, FACS F1: 0.9693\n",
      "Val - Emotion Loss: 0.6566, FACS Loss: 0.2490\n",
      "Val - Emotion F1: 0.8926, FACS F1: 0.7096\n",
      "\n",
      "Epoch 52/100\n"
     ]
    },
    {
     "name": "stderr",
     "output_type": "stream",
     "text": [
      "100%|██████████████████████████████████████████████████████████████████████████████████| 14/14 [00:03<00:00,  3.51it/s]\n"
     ]
    },
    {
     "name": "stdout",
     "output_type": "stream",
     "text": [
      "Train - Emotion Loss: 0.5518, FACS Loss: 0.0221\n",
      "Train - Emotion F1: 1.0000, FACS F1: 0.9836\n",
      "Val - Emotion Loss: 0.6474, FACS Loss: 0.2626\n",
      "Val - Emotion F1: 0.8937, FACS F1: 0.7092\n",
      "\n",
      "Epoch 53/100\n"
     ]
    },
    {
     "name": "stderr",
     "output_type": "stream",
     "text": [
      "100%|██████████████████████████████████████████████████████████████████████████████████| 14/14 [00:03<00:00,  3.57it/s]\n"
     ]
    },
    {
     "name": "stdout",
     "output_type": "stream",
     "text": [
      "Train - Emotion Loss: 0.5516, FACS Loss: 0.0216\n",
      "Train - Emotion F1: 1.0000, FACS F1: 0.9837\n",
      "Val - Emotion Loss: 0.6465, FACS Loss: 0.2785\n",
      "Val - Emotion F1: 0.9017, FACS F1: 0.6679\n",
      "\n",
      "Epoch 54/100\n"
     ]
    },
    {
     "name": "stderr",
     "output_type": "stream",
     "text": [
      "100%|██████████████████████████████████████████████████████████████████████████████████| 14/14 [00:03<00:00,  3.52it/s]\n"
     ]
    },
    {
     "name": "stdout",
     "output_type": "stream",
     "text": [
      "Train - Emotion Loss: 0.5516, FACS Loss: 0.0215\n",
      "Train - Emotion F1: 1.0000, FACS F1: 0.9826\n",
      "Val - Emotion Loss: 0.6447, FACS Loss: 0.2626\n",
      "Val - Emotion F1: 0.9017, FACS F1: 0.6776\n",
      "Early stop at epoch 54\n",
      "Best Val - Emotion Loss: 0.6582, Best FACS Loss: 0.2358\n",
      "Best Val - Emotion F1: 0.8819, Best FACS F1: 0.7356\n"
     ]
    }
   ],
   "source": [
    "aug_resnet18_pretrained_trainer.train(num_epochs=100)"
   ]
  },
  {
   "cell_type": "code",
   "execution_count": 46,
   "id": "ba2644ff-c16b-4f18-ac7b-aecf8894312f",
   "metadata": {},
   "outputs": [
    {
     "data": {
      "image/png": "[encoded data removed]",
      "text/plain": [
       "<Figure size 1500x1000 with 4 Axes>"
      ]
     },
     "metadata": {},
     "output_type": "display_data"
    }
   ],
   "source": [
    "aug_resnet18_pretrained_trainer.plot_metrics()"
   ]
  },
  {
   "cell_type": "markdown",
   "id": "f4ceb974-6f61-4928-810a-e53785609ba7",
   "metadata": {},
   "source": [
    "## V. Evaluation\n",
    "For models evaluation, refer to the notebook `evaluation_notebook.ipynb`\n",
    "\n",
    "To validate more precisely, `val_df` is exported."
   ]
  },
  {
   "cell_type": "code",
   "execution_count": 47,
   "id": "1cc7c889-fc19-4172-bdd9-77148ffb6eac",
   "metadata": {},
   "outputs": [],
   "source": [
    "val_df.to_csv('data/validate_data.csv')"
   ]
  },
  {
   "cell_type": "code",
   "execution_count": null,
   "id": "e883d9f5-29c6-4193-9dfe-e9a73db8508b",
   "metadata": {},
   "outputs": [],
   "source": []
  }
 ],
 "metadata": {
  "kernelspec": {
   "display_name": "fer_env",
   "language": "python",
   "name": "fer_env"
  },
  "language_info": {
   "codemirror_mode": {
    "name": "ipython",
    "version": 3
   },
   "file_extension": ".py",
   "mimetype": "text/x-python",
   "name": "python",
   "nbconvert_exporter": "python",
   "pygments_lexer": "ipython3",
   "version": "3.12.7"
  }
 },
 "nbformat": 4,
 "nbformat_minor": 5
}
