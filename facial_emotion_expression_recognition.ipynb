{
 "cells": [
  {
   "cell_type": "code",
   "execution_count": 1,
   "id": "4a2d0a75-ff9c-4239-8e84-2562d7b76e38",
   "metadata": {},
   "outputs": [],
   "source": [
    "import pandas as pd\n",
    "import matplotlib.pyplot as plt\n",
    "import seaborn as sns\n",
    "\n",
    "from sklearn.model_selection import train_test_split"
   ]
  },
  {
   "cell_type": "code",
   "execution_count": 1,
   "id": "67e94abf-29f1-4ea8-b742-1799b229ecde",
   "metadata": {},
   "outputs": [
    {
     "name": "stdout",
     "output_type": "stream",
     "text": [
      "GPU support availble: True\n"
     ]
    }
   ],
   "source": [
    "import torch\n",
    " \n",
    "# if you have cuda enabled GPU and selected a CUDA version, the following code should print \"GPU support availble: True\"\n",
    "print(\"GPU support availble:\", torch.cuda.is_available())"
   ]
  },
  {
   "cell_type": "code",
   "execution_count": 2,
   "id": "705ec985-e900-4723-ab74-bfa1ad2714e6",
   "metadata": {},
   "outputs": [],
   "source": [
    "from utils import trainer"
   ]
  },
  {
   "cell_type": "code",
   "execution_count": null,
   "id": "8bfda6db-c952-411e-9500-700f9ad23147",
   "metadata": {},
   "outputs": [],
   "source": [
    "CNNtrainer"
   ]
  },
  {
   "cell_type": "markdown",
   "id": "bff08fd4-d524-4d01-aa9a-6913834c9756",
   "metadata": {},
   "source": [
    "## I. Import dataset and general overview\n",
    "The labels dataset `data_labels.csv` includes the **image path**, 15 one-hot-encoded **FACs** and **emotions** in three categories: `negative`, `positive` and `surprise`."
   ]
  },
  {
   "cell_type": "code",
   "execution_count": 4,
   "id": "ee03c2f0-abf3-4bf6-943a-adc0893d778f",
   "metadata": {},
   "outputs": [],
   "source": [
    "gk_df = pd.read_csv('data/data_labels.csv')"
   ]
  },
  {
   "cell_type": "code",
   "execution_count": 5,
   "id": "49ac29f7-4ebe-4f45-8931-de99ee51ab84",
   "metadata": {},
   "outputs": [
    {
     "data": {
      "text/html": [
       "<div>\n",
       "<style scoped>\n",
       "    .dataframe tbody tr th:only-of-type {\n",
       "        vertical-align: middle;\n",
       "    }\n",
       "\n",
       "    .dataframe tbody tr th {\n",
       "        vertical-align: top;\n",
       "    }\n",
       "\n",
       "    .dataframe thead th {\n",
       "        text-align: right;\n",
       "    }\n",
       "</style>\n",
       "<table border=\"1\" class=\"dataframe\">\n",
       "  <thead>\n",
       "    <tr style=\"text-align: right;\">\n",
       "      <th></th>\n",
       "      <th>subject</th>\n",
       "      <th>sequence</th>\n",
       "      <th>image_index</th>\n",
       "      <th>filepath</th>\n",
       "      <th>file_prefix</th>\n",
       "      <th>AU17</th>\n",
       "      <th>AU1</th>\n",
       "      <th>AU2</th>\n",
       "      <th>AU25</th>\n",
       "      <th>AU27</th>\n",
       "      <th>...</th>\n",
       "      <th>AU7</th>\n",
       "      <th>AU23</th>\n",
       "      <th>AU24</th>\n",
       "      <th>AU6</th>\n",
       "      <th>AU12</th>\n",
       "      <th>AU15</th>\n",
       "      <th>AU14</th>\n",
       "      <th>AU11</th>\n",
       "      <th>AU26</th>\n",
       "      <th>high_level_emotion</th>\n",
       "    </tr>\n",
       "  </thead>\n",
       "  <tbody>\n",
       "    <tr>\n",
       "      <th>0</th>\n",
       "      <td>S005</td>\n",
       "      <td>1</td>\n",
       "      <td>11</td>\n",
       "      <td>./cohn-kanade-images/S005/001/S005_001_0000001...</td>\n",
       "      <td>S005_001_00000011</td>\n",
       "      <td>1</td>\n",
       "      <td>0</td>\n",
       "      <td>0</td>\n",
       "      <td>0</td>\n",
       "      <td>0</td>\n",
       "      <td>...</td>\n",
       "      <td>0</td>\n",
       "      <td>0</td>\n",
       "      <td>0</td>\n",
       "      <td>0</td>\n",
       "      <td>0</td>\n",
       "      <td>0</td>\n",
       "      <td>0</td>\n",
       "      <td>0</td>\n",
       "      <td>0</td>\n",
       "      <td>negative</td>\n",
       "    </tr>\n",
       "    <tr>\n",
       "      <th>1</th>\n",
       "      <td>S010</td>\n",
       "      <td>1</td>\n",
       "      <td>14</td>\n",
       "      <td>./cohn-kanade-images/S010/001/S010_001_0000001...</td>\n",
       "      <td>S010_001_00000014</td>\n",
       "      <td>0</td>\n",
       "      <td>1</td>\n",
       "      <td>1</td>\n",
       "      <td>1</td>\n",
       "      <td>0</td>\n",
       "      <td>...</td>\n",
       "      <td>0</td>\n",
       "      <td>0</td>\n",
       "      <td>0</td>\n",
       "      <td>0</td>\n",
       "      <td>0</td>\n",
       "      <td>0</td>\n",
       "      <td>0</td>\n",
       "      <td>0</td>\n",
       "      <td>0</td>\n",
       "      <td>negative</td>\n",
       "    </tr>\n",
       "    <tr>\n",
       "      <th>2</th>\n",
       "      <td>S010</td>\n",
       "      <td>2</td>\n",
       "      <td>14</td>\n",
       "      <td>./cohn-kanade-images/S010/002/S010_002_0000001...</td>\n",
       "      <td>S010_002_00000014</td>\n",
       "      <td>0</td>\n",
       "      <td>1</td>\n",
       "      <td>1</td>\n",
       "      <td>1</td>\n",
       "      <td>1</td>\n",
       "      <td>...</td>\n",
       "      <td>0</td>\n",
       "      <td>0</td>\n",
       "      <td>0</td>\n",
       "      <td>0</td>\n",
       "      <td>0</td>\n",
       "      <td>0</td>\n",
       "      <td>0</td>\n",
       "      <td>0</td>\n",
       "      <td>0</td>\n",
       "      <td>surprise</td>\n",
       "    </tr>\n",
       "    <tr>\n",
       "      <th>3</th>\n",
       "      <td>S010</td>\n",
       "      <td>3</td>\n",
       "      <td>18</td>\n",
       "      <td>./cohn-kanade-images/S010/003/S010_003_0000001...</td>\n",
       "      <td>S010_003_00000018</td>\n",
       "      <td>1</td>\n",
       "      <td>0</td>\n",
       "      <td>0</td>\n",
       "      <td>0</td>\n",
       "      <td>0</td>\n",
       "      <td>...</td>\n",
       "      <td>0</td>\n",
       "      <td>0</td>\n",
       "      <td>0</td>\n",
       "      <td>0</td>\n",
       "      <td>0</td>\n",
       "      <td>0</td>\n",
       "      <td>0</td>\n",
       "      <td>0</td>\n",
       "      <td>0</td>\n",
       "      <td>negative</td>\n",
       "    </tr>\n",
       "    <tr>\n",
       "      <th>4</th>\n",
       "      <td>S010</td>\n",
       "      <td>4</td>\n",
       "      <td>19</td>\n",
       "      <td>./cohn-kanade-images/S010/004/S010_004_0000001...</td>\n",
       "      <td>S010_004_00000019</td>\n",
       "      <td>1</td>\n",
       "      <td>0</td>\n",
       "      <td>0</td>\n",
       "      <td>0</td>\n",
       "      <td>0</td>\n",
       "      <td>...</td>\n",
       "      <td>1</td>\n",
       "      <td>1</td>\n",
       "      <td>1</td>\n",
       "      <td>0</td>\n",
       "      <td>0</td>\n",
       "      <td>0</td>\n",
       "      <td>0</td>\n",
       "      <td>0</td>\n",
       "      <td>0</td>\n",
       "      <td>negative</td>\n",
       "    </tr>\n",
       "  </tbody>\n",
       "</table>\n",
       "<p>5 rows × 21 columns</p>\n",
       "</div>"
      ],
      "text/plain": [
       "  subject  sequence  image_index  \\\n",
       "0    S005         1           11   \n",
       "1    S010         1           14   \n",
       "2    S010         2           14   \n",
       "3    S010         3           18   \n",
       "4    S010         4           19   \n",
       "\n",
       "                                            filepath        file_prefix  AU17  \\\n",
       "0  ./cohn-kanade-images/S005/001/S005_001_0000001...  S005_001_00000011     1   \n",
       "1  ./cohn-kanade-images/S010/001/S010_001_0000001...  S010_001_00000014     0   \n",
       "2  ./cohn-kanade-images/S010/002/S010_002_0000001...  S010_002_00000014     0   \n",
       "3  ./cohn-kanade-images/S010/003/S010_003_0000001...  S010_003_00000018     1   \n",
       "4  ./cohn-kanade-images/S010/004/S010_004_0000001...  S010_004_00000019     1   \n",
       "\n",
       "   AU1  AU2  AU25  AU27  ...  AU7  AU23  AU24  AU6  AU12  AU15  AU14  AU11  \\\n",
       "0    0    0     0     0  ...    0     0     0    0     0     0     0     0   \n",
       "1    1    1     1     0  ...    0     0     0    0     0     0     0     0   \n",
       "2    1    1     1     1  ...    0     0     0    0     0     0     0     0   \n",
       "3    0    0     0     0  ...    0     0     0    0     0     0     0     0   \n",
       "4    0    0     0     0  ...    1     1     1    0     0     0     0     0   \n",
       "\n",
       "   AU26  high_level_emotion  \n",
       "0     0            negative  \n",
       "1     0            negative  \n",
       "2     0            surprise  \n",
       "3     0            negative  \n",
       "4     0            negative  \n",
       "\n",
       "[5 rows x 21 columns]"
      ]
     },
     "execution_count": 5,
     "metadata": {},
     "output_type": "execute_result"
    }
   ],
   "source": [
    "# examine the dataframe\n",
    "gk_df.head()"
   ]
  },
  {
   "cell_type": "code",
   "execution_count": 6,
   "id": "965582bd-2582-4956-88e9-55b5821a0add",
   "metadata": {},
   "outputs": [
    {
     "name": "stdout",
     "output_type": "stream",
     "text": [
      "<class 'pandas.core.frame.DataFrame'>\n",
      "RangeIndex: 560 entries, 0 to 559\n",
      "Data columns (total 21 columns):\n",
      " #   Column              Non-Null Count  Dtype \n",
      "---  ------              --------------  ----- \n",
      " 0   subject             560 non-null    object\n",
      " 1   sequence            560 non-null    int64 \n",
      " 2   image_index         560 non-null    int64 \n",
      " 3   filepath            560 non-null    object\n",
      " 4   file_prefix         560 non-null    object\n",
      " 5   AU17                560 non-null    int64 \n",
      " 6   AU1                 560 non-null    int64 \n",
      " 7   AU2                 560 non-null    int64 \n",
      " 8   AU25                560 non-null    int64 \n",
      " 9   AU27                560 non-null    int64 \n",
      " 10  AU4                 560 non-null    int64 \n",
      " 11  AU7                 560 non-null    int64 \n",
      " 12  AU23                560 non-null    int64 \n",
      " 13  AU24                560 non-null    int64 \n",
      " 14  AU6                 560 non-null    int64 \n",
      " 15  AU12                560 non-null    int64 \n",
      " 16  AU15                560 non-null    int64 \n",
      " 17  AU14                560 non-null    int64 \n",
      " 18  AU11                560 non-null    int64 \n",
      " 19  AU26                560 non-null    int64 \n",
      " 20  high_level_emotion  560 non-null    object\n",
      "dtypes: int64(17), object(4)\n",
      "memory usage: 92.0+ KB\n"
     ]
    }
   ],
   "source": [
    "gk_df.info()"
   ]
  },
  {
   "cell_type": "code",
   "execution_count": 7,
   "id": "e585ef53-fc46-4bcc-b829-4cb74bed936e",
   "metadata": {},
   "outputs": [],
   "source": [
    "# drop unnecessary columns\n",
    "drop_columns = ['subject', 'sequence', 'image_index', 'file_prefix']"
   ]
  },
  {
   "cell_type": "code",
   "execution_count": 8,
   "id": "37f636cc-6835-40ba-bbec-fc1139dc136e",
   "metadata": {},
   "outputs": [],
   "source": [
    "gk_df = gk_df.drop(columns=drop_columns)"
   ]
  },
  {
   "cell_type": "code",
   "execution_count": 9,
   "id": "d04fbb1b-cc4c-4fea-8106-d1cc82502482",
   "metadata": {},
   "outputs": [
    {
     "data": {
      "text/html": [
       "<div>\n",
       "<style scoped>\n",
       "    .dataframe tbody tr th:only-of-type {\n",
       "        vertical-align: middle;\n",
       "    }\n",
       "\n",
       "    .dataframe tbody tr th {\n",
       "        vertical-align: top;\n",
       "    }\n",
       "\n",
       "    .dataframe thead th {\n",
       "        text-align: right;\n",
       "    }\n",
       "</style>\n",
       "<table border=\"1\" class=\"dataframe\">\n",
       "  <thead>\n",
       "    <tr style=\"text-align: right;\">\n",
       "      <th></th>\n",
       "      <th>filepath</th>\n",
       "      <th>AU17</th>\n",
       "      <th>AU1</th>\n",
       "      <th>AU2</th>\n",
       "      <th>AU25</th>\n",
       "      <th>AU27</th>\n",
       "      <th>AU4</th>\n",
       "      <th>AU7</th>\n",
       "      <th>AU23</th>\n",
       "      <th>AU24</th>\n",
       "      <th>AU6</th>\n",
       "      <th>AU12</th>\n",
       "      <th>AU15</th>\n",
       "      <th>AU14</th>\n",
       "      <th>AU11</th>\n",
       "      <th>AU26</th>\n",
       "      <th>high_level_emotion</th>\n",
       "    </tr>\n",
       "  </thead>\n",
       "  <tbody>\n",
       "    <tr>\n",
       "      <th>0</th>\n",
       "      <td>./cohn-kanade-images/S005/001/S005_001_0000001...</td>\n",
       "      <td>1</td>\n",
       "      <td>0</td>\n",
       "      <td>0</td>\n",
       "      <td>0</td>\n",
       "      <td>0</td>\n",
       "      <td>0</td>\n",
       "      <td>0</td>\n",
       "      <td>0</td>\n",
       "      <td>0</td>\n",
       "      <td>0</td>\n",
       "      <td>0</td>\n",
       "      <td>0</td>\n",
       "      <td>0</td>\n",
       "      <td>0</td>\n",
       "      <td>0</td>\n",
       "      <td>negative</td>\n",
       "    </tr>\n",
       "    <tr>\n",
       "      <th>1</th>\n",
       "      <td>./cohn-kanade-images/S010/001/S010_001_0000001...</td>\n",
       "      <td>0</td>\n",
       "      <td>1</td>\n",
       "      <td>1</td>\n",
       "      <td>1</td>\n",
       "      <td>0</td>\n",
       "      <td>0</td>\n",
       "      <td>0</td>\n",
       "      <td>0</td>\n",
       "      <td>0</td>\n",
       "      <td>0</td>\n",
       "      <td>0</td>\n",
       "      <td>0</td>\n",
       "      <td>0</td>\n",
       "      <td>0</td>\n",
       "      <td>0</td>\n",
       "      <td>negative</td>\n",
       "    </tr>\n",
       "    <tr>\n",
       "      <th>2</th>\n",
       "      <td>./cohn-kanade-images/S010/002/S010_002_0000001...</td>\n",
       "      <td>0</td>\n",
       "      <td>1</td>\n",
       "      <td>1</td>\n",
       "      <td>1</td>\n",
       "      <td>1</td>\n",
       "      <td>0</td>\n",
       "      <td>0</td>\n",
       "      <td>0</td>\n",
       "      <td>0</td>\n",
       "      <td>0</td>\n",
       "      <td>0</td>\n",
       "      <td>0</td>\n",
       "      <td>0</td>\n",
       "      <td>0</td>\n",
       "      <td>0</td>\n",
       "      <td>surprise</td>\n",
       "    </tr>\n",
       "    <tr>\n",
       "      <th>3</th>\n",
       "      <td>./cohn-kanade-images/S010/003/S010_003_0000001...</td>\n",
       "      <td>1</td>\n",
       "      <td>0</td>\n",
       "      <td>0</td>\n",
       "      <td>0</td>\n",
       "      <td>0</td>\n",
       "      <td>1</td>\n",
       "      <td>0</td>\n",
       "      <td>0</td>\n",
       "      <td>0</td>\n",
       "      <td>0</td>\n",
       "      <td>0</td>\n",
       "      <td>0</td>\n",
       "      <td>0</td>\n",
       "      <td>0</td>\n",
       "      <td>0</td>\n",
       "      <td>negative</td>\n",
       "    </tr>\n",
       "    <tr>\n",
       "      <th>4</th>\n",
       "      <td>./cohn-kanade-images/S010/004/S010_004_0000001...</td>\n",
       "      <td>1</td>\n",
       "      <td>0</td>\n",
       "      <td>0</td>\n",
       "      <td>0</td>\n",
       "      <td>0</td>\n",
       "      <td>1</td>\n",
       "      <td>1</td>\n",
       "      <td>1</td>\n",
       "      <td>1</td>\n",
       "      <td>0</td>\n",
       "      <td>0</td>\n",
       "      <td>0</td>\n",
       "      <td>0</td>\n",
       "      <td>0</td>\n",
       "      <td>0</td>\n",
       "      <td>negative</td>\n",
       "    </tr>\n",
       "  </tbody>\n",
       "</table>\n",
       "</div>"
      ],
      "text/plain": [
       "                                            filepath  AU17  AU1  AU2  AU25  \\\n",
       "0  ./cohn-kanade-images/S005/001/S005_001_0000001...     1    0    0     0   \n",
       "1  ./cohn-kanade-images/S010/001/S010_001_0000001...     0    1    1     1   \n",
       "2  ./cohn-kanade-images/S010/002/S010_002_0000001...     0    1    1     1   \n",
       "3  ./cohn-kanade-images/S010/003/S010_003_0000001...     1    0    0     0   \n",
       "4  ./cohn-kanade-images/S010/004/S010_004_0000001...     1    0    0     0   \n",
       "\n",
       "   AU27  AU4  AU7  AU23  AU24  AU6  AU12  AU15  AU14  AU11  AU26  \\\n",
       "0     0    0    0     0     0    0     0     0     0     0     0   \n",
       "1     0    0    0     0     0    0     0     0     0     0     0   \n",
       "2     1    0    0     0     0    0     0     0     0     0     0   \n",
       "3     0    1    0     0     0    0     0     0     0     0     0   \n",
       "4     0    1    1     1     1    0     0     0     0     0     0   \n",
       "\n",
       "  high_level_emotion  \n",
       "0           negative  \n",
       "1           negative  \n",
       "2           surprise  \n",
       "3           negative  \n",
       "4           negative  "
      ]
     },
     "execution_count": 9,
     "metadata": {},
     "output_type": "execute_result"
    }
   ],
   "source": [
    "gk_df.head()"
   ]
  },
  {
   "cell_type": "markdown",
   "id": "5bb938d5-16bd-4f73-924d-8b01a93df970",
   "metadata": {},
   "source": [
    "#### Examine `high_level_emotion`"
   ]
  },
  {
   "cell_type": "code",
   "execution_count": 10,
   "id": "59b3f347-c01a-464f-8a72-610e4b735a86",
   "metadata": {},
   "outputs": [
    {
     "data": {
      "text/plain": [
       "high_level_emotion\n",
       "negative    328\n",
       "positive    121\n",
       "surprise    111\n",
       "Name: count, dtype: int64"
      ]
     },
     "execution_count": 10,
     "metadata": {},
     "output_type": "execute_result"
    }
   ],
   "source": [
    "gk_df['high_level_emotion'].value_counts()"
   ]
  },
  {
   "cell_type": "markdown",
   "id": "e199ffd9-4347-4aa0-9cc0-acefcb1cba31",
   "metadata": {},
   "source": [
    "- The dataset is **imbalanced** as class `negative` accumulated the most."
   ]
  },
  {
   "cell_type": "markdown",
   "id": "3d23620c-d672-4ee7-8a5d-1bc8ba2a8f8f",
   "metadata": {
    "jp-MarkdownHeadingCollapsed": true
   },
   "source": [
    "## II. Data Analysis"
   ]
  },
  {
   "cell_type": "code",
   "execution_count": 11,
   "id": "cd7b05bb-ee42-4732-a6b3-6ebdd1b01a8c",
   "metadata": {},
   "outputs": [],
   "source": [
    "FACs = gk_df.columns[1:-1]"
   ]
  },
  {
   "cell_type": "code",
   "execution_count": 12,
   "id": "05fe0d05-2c43-4398-86fd-9ec2411753a7",
   "metadata": {},
   "outputs": [
    {
     "data": {
      "text/plain": [
       "Index(['AU17', 'AU1', 'AU2', 'AU25', 'AU27', 'AU4', 'AU7', 'AU23', 'AU24',\n",
       "       'AU6', 'AU12', 'AU15', 'AU14', 'AU11', 'AU26'],\n",
       "      dtype='object')"
      ]
     },
     "execution_count": 12,
     "metadata": {},
     "output_type": "execute_result"
    }
   ],
   "source": [
    "FACs"
   ]
  },
  {
   "cell_type": "code",
   "execution_count": 13,
   "id": "b8b81b47-202d-4e6a-aee8-47436575d430",
   "metadata": {},
   "outputs": [],
   "source": [
    "crosstab = pd.crosstab(gk_df['AU1'], gk_df['high_level_emotion'])"
   ]
  },
  {
   "cell_type": "code",
   "execution_count": 14,
   "id": "fea968f9-4990-4440-8a94-cad3b590e566",
   "metadata": {},
   "outputs": [
    {
     "name": "stdout",
     "output_type": "stream",
     "text": [
      "high_level_emotion  negative  positive  surprise\n",
      "AU1                                             \n",
      "0                        239       117        27\n",
      "1                         89         4        84\n"
     ]
    }
   ],
   "source": [
    "print(crosstab)"
   ]
  },
  {
   "cell_type": "code",
   "execution_count": 21,
   "id": "f1ba804e-111d-40de-8e8f-8873095d3874",
   "metadata": {},
   "outputs": [
    {
     "data": {
      "image/png": "[encoded data removed]",
      "text/plain": [
       "<Figure size 640x480 with 2 Axes>"
      ]
     },
     "metadata": {},
     "output_type": "display_data"
    }
   ],
   "source": [
    "# Sum one-hot encoded features grouped by the categorical feature\n",
    "grouped_sum = gk_df.groupby('high_level_emotion')[FACs].sum()\n",
    "\n",
    "# Heatmap to visualize\n",
    "sns.heatmap(grouped_sum, annot=True, fmt='.0f', cmap='coolwarm')\n",
    "plt.title(\"Aggregate Relationship of FACs vs emotion\")\n",
    "plt.ylabel(\"Category\")\n",
    "plt.xlabel(\"One-Hot Features\")\n",
    "plt.show()\n"
   ]
  },
  {
   "cell_type": "markdown",
   "id": "0ac0d199-caad-4119-91d8-54b0d2106406",
   "metadata": {},
   "source": [
    "- The majority of the expression are related to `negative` emotion with **AU17**, **AU7**, **AU4** and **AU15** are the most signifcant indicators.\n",
    "- **AU6** and **AU12**  play a significant role in the `positive` category.\n",
    "- **AU1**, **AU2**, **AU25**, **AU27** are the expression that are more related to `surprise`.\n",
    "- **AU25** is actually common for most of the emotions and slightly represents `surprise` more.\n",
    "- Several features (like **AU14**, **AU11**, **AU26**) have consistently low counts across all categories => indicating they may not contribute much to distinguishing these categories.\n",
    "\n",
    "=> *The analysis show that the expressions are strongly related to certain emotion and for that, the **features** we may extract from **CNN models** can be used to dictate both as in **recognizing the facial actions** and **classifying the emotion***"
   ]
  },
  {
   "cell_type": "markdown",
   "id": "ff77383e-3664-4bc1-bb5d-fb9b4bb155b2",
   "metadata": {},
   "source": [
    "## III. Data Preparation"
   ]
  },
  {
   "cell_type": "code",
   "execution_count": null,
   "id": "4be18c0e-325b-4aec-b99b-ec31f102dac2",
   "metadata": {},
   "outputs": [],
   "source": []
  }
 ],
 "metadata": {
  "kernelspec": {
   "display_name": "fer_env",
   "language": "python",
   "name": "fer_env"
  },
  "language_info": {
   "codemirror_mode": {
    "name": "ipython",
    "version": 3
   },
   "file_extension": ".py",
   "mimetype": "text/x-python",
   "name": "python",
   "nbconvert_exporter": "python",
   "pygments_lexer": "ipython3",
   "version": "3.12.7"
  }
 },
 "nbformat": 4,
 "nbformat_minor": 5
}
