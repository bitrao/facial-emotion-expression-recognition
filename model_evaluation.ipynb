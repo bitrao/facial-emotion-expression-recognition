{
 "cells": [
  {
   "cell_type": "code",
   "execution_count": 1,
   "id": "604c0360-294d-4255-b714-760c562c8d74",
   "metadata": {},
   "outputs": [],
   "source": [
    "import models.model as model"
   ]
  },
  {
   "cell_type": "code",
   "execution_count": 2,
   "id": "d4a33318-544b-48c2-8202-dc48ba779f2f",
   "metadata": {},
   "outputs": [
    {
     "name": "stderr",
     "output_type": "stream",
     "text": [
      "D:\\bin\\Facial-Emotion-Expression-Recognition\\models\\model.py:21: FutureWarning: You are using `torch.load` with `weights_only=False` (the current default value), which uses the default pickle module implicitly. It is possible to construct malicious pickle data which will execute arbitrary code during unpickling (See https://github.com/pytorch/pytorch/blob/main/SECURITY.md#untrusted-models for more details). In a future release, the default value for `weights_only` will be flipped to `True`. This limits the functions that could be executed during unpickling. Arbitrary objects will no longer be allowed to be loaded via this mode unless they are explicitly allowlisted by the user via `torch.serialization.add_safe_globals`. We recommend you start setting `weights_only=True` for any use case where you don't have full control of the loaded file. Please open an issue on GitHub for any issues related to this experimental feature.\n",
      "  checkpoint = torch.load(checkpoint)\n"
     ]
    }
   ],
   "source": [
    "cnn = model.EmotionFACsNet(checkpoint='models/outputs/20241207/resnet18.pth')"
   ]
  },
  {
   "cell_type": "code",
   "execution_count": 3,
   "id": "d7221bef-8003-4f3f-810a-0f04160a0f88",
   "metadata": {},
   "outputs": [
    {
     "data": {
      "text/plain": [
       "{'emotion': 'negative',\n",
       " 'facs_values': array([1, 0, 0, 0, 0, 0, 0, 0, 0, 0, 0, 0, 0, 0, 0])}"
      ]
     },
     "execution_count": 3,
     "metadata": {},
     "output_type": "execute_result"
    }
   ],
   "source": [
    "cnn.predict_image('data/cohn-kanade-images/S005/001/S005_001_00000001.png')"
   ]
  },
  {
   "cell_type": "code",
   "execution_count": null,
   "id": "e165db3d-be59-4968-a0ef-ea82ada0b70f",
   "metadata": {},
   "outputs": [],
   "source": []
  }
 ],
 "metadata": {
  "kernelspec": {
   "display_name": "fer_env",
   "language": "python",
   "name": "fer_env"
  },
  "language_info": {
   "codemirror_mode": {
    "name": "ipython",
    "version": 3
   },
   "file_extension": ".py",
   "mimetype": "text/x-python",
   "name": "python",
   "nbconvert_exporter": "python",
   "pygments_lexer": "ipython3",
   "version": "3.12.7"
  }
 },
 "nbformat": 4,
 "nbformat_minor": 5
}
